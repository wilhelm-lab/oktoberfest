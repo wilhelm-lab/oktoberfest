{
 "cells": [
  {
   "cell_type": "markdown",
   "metadata": {},
   "source": [
    "# Rescoring of cleavable XL-MS data using Oktoberfest\n",
    "\n",
    "This notebook provides an overview of rescoring cleavable XL-MS data in Oktoberfest. "
   ]
  },
  {
   "cell_type": "markdown",
   "metadata": {},
   "source": [
    "## 1. Installation:\n",
    "\n",
    "### Percolator:\n",
    "- To install percolator on windows download this file: https://github.com/percolator/percolator/releases/download/rel-3-06-01/percolator-v3-06.exe\n",
    "- Run the downloaded file while running the setup make sure to select \"add percolator to the system PATH for all users\" when asked.\n",
    "\n",
    "### ThermoRawFileParser:\n",
    "- You need this if you want to read thermo rawfiles.\n",
    "- First download this zip folder localy: https://github.com/compomics/ThermoRawFileParser/releases/download/v1.4.3/ThermoRawFileParser1.4.3.zip\n",
    "- Extract the contents of the zip folder and make sure to know where this is saved this will be used later by oktoberfest.\n",
    "\n",
    "### Oktoberfest:\n",
    "- Oktoberfest currently supports Python versions 3.10 and 3.11. Support for 3.12 will be added in the near future.\n",
    "- Install oktoberfest using pip install oktoberfest"
   ]
  },
  {
   "cell_type": "markdown",
   "metadata": {},
   "source": [
    "## 2. Import necessary python packages"
   ]
  },
  {
   "cell_type": "code",
   "execution_count": 1,
   "metadata": {
    "tags": []
   },
   "outputs": [
    {
     "name": "stderr",
     "output_type": "stream",
     "text": [
      "/home/mkalhor/anaconda3/envs/oktoberfest/lib/python3.10/site-packages/numpy/_core/getlimits.py:551: UserWarning: Signature b'\\x00\\xd0\\xcc\\xcc\\xcc\\xcc\\xcc\\xcc\\xfb\\xbf\\x00\\x00\\x00\\x00\\x00\\x00' for <class 'numpy.longdouble'> does not match any known type: falling back to type probe function.\n",
      "This warnings indicates broken support for the dtype!\n",
      "  machar = _get_machar(dtype)\n",
      "/home/mkalhor/anaconda3/envs/oktoberfest/lib/python3.10/site-packages/tqdm/auto.py:21: TqdmWarning: IProgress not found. Please update jupyter and ipywidgets. See https://ipywidgets.readthedocs.io/en/stable/user_install.html\n",
      "  from .autonotebook import tqdm as notebook_tqdm\n"
     ]
    }
   ],
   "source": [
    "import os\n",
    "from oktoberfest.runner import run_job\n",
    "import json\n",
    "import urllib.request\n",
    "import shutil\n",
    "from tqdm import tqdm"
   ]
  },
  {
   "cell_type": "markdown",
   "metadata": {},
   "source": [
    "## 3. Download files from zenodo required for rescoring task\n",
    "\n",
    "The data used in this tutorial is available through a public Zenodo record.\n",
    "The dataset is approximately 639 MB in size and includes:\n",
    "\n",
    "- msms.csv: the output from **XiSearch (version 1.8.7)**\n",
    "\n",
    "- one RAW file used for rescoring crosslinked peptides."
   ]
  },
  {
   "cell_type": "markdown",
   "metadata": {},
   "source": [
    "### Get the current directory and set the file name"
   ]
  },
  {
   "cell_type": "code",
   "execution_count": 2,
   "metadata": {
    "tags": []
   },
   "outputs": [],
   "source": [
    "download_dir = os.getcwd()\n",
    "download_file = os.path.join(download_dir, \"Oktoberfest_XL_input.zip\")\n",
    "url = \"https://zenodo.org/records/15639875/files/Oktoberfest_XL_input.zip?download=1\"\n",
    "\n",
    "# set download to False if you already have the file and don\"t want to download again in the next step\n",
    "download = True"
   ]
  },
  {
   "cell_type": "markdown",
   "metadata": {},
   "source": [
    "### Download and extract files from zenodo to the same directory"
   ]
  },
  {
   "cell_type": "code",
   "execution_count": 3,
   "metadata": {
    "tags": []
   },
   "outputs": [
    {
     "name": "stderr",
     "output_type": "stream",
     "text": [
      "Oktoberfest_XL_input.zip?download=1: 640MB [00:50, 12.7MB/s]                                                 \n"
     ]
    }
   ],
   "source": [
    "if download:\n",
    "    with tqdm(unit=\"B\", total=639600000, unit_scale=True, unit_divisor=1000, miniters=1, desc=url.split(\"/\")[-1]) as t:\n",
    "        urllib.request.urlretrieve(\n",
    "            url=url,\n",
    "            filename=download_file,\n",
    "            reporthook=lambda blocks, block_size, _: t.update(blocks * block_size - t.n)\n",
    "        )\n",
    "    shutil.unpack_archive(download_file, download_dir)\n"
   ]
  },
  {
   "cell_type": "markdown",
   "metadata": {},
   "source": [
    "### Check downloaded files"
   ]
  },
  {
   "cell_type": "code",
   "execution_count": 4,
   "metadata": {
    "tags": []
   },
   "outputs": [
    {
     "name": "stdout",
     "output_type": "stream",
     "text": [
      "Downloaded data is stored in /home/mkalhor/oktoberfest/tutorials/Oktoberfest_XL_input\n",
      "Contents:\n"
     ]
    },
    {
     "data": {
      "text/plain": [
       "['msms.csv',\n",
       " 'XLpeplib_Beveridge_QEx-HFX_DSSO_stHCD.raw',\n",
       " 'XLpeplib_Beveridge_QEx-HFX_DSSO_stHCD.raw:Zone.Identifier']"
      ]
     },
     "execution_count": 4,
     "metadata": {},
     "output_type": "execute_result"
    }
   ],
   "source": [
    "input_dir = download_file[:-4]\n",
    "print(f\"Downloaded data is stored in {input_dir}\\nContents:\")\n",
    "os.listdir(input_dir)"
   ]
  },
  {
   "cell_type": "markdown",
   "metadata": {},
   "source": [
    "## 4. Rescoring\n",
    "**Important**: The intensity model specified in the config file is\n",
    "**Prosit_2023_intensity_XL_CMS2** — this is used because DSSO was the crosslinker in this dataset.\n",
    "\n",
    "If you are using non-cleavable crosslinkers (e.g., DSS or BS3), make sure to update the model name in the config file to:\n",
    "**Prosit_2024_intensity_XL_NMS2**"
   ]
  },
  {
   "cell_type": "markdown",
   "metadata": {},
   "source": [
    "### Generate config file"
   ]
  },
  {
   "cell_type": "code",
   "execution_count": 5,
   "metadata": {
    "tags": []
   },
   "outputs": [],
   "source": [
    "task_config_rescoring = {\n",
    "    \"type\": \"Rescoring\",\n",
    "    \"tag\": \"\",\n",
    "    \"inputs\":{\n",
    "        \"search_results\": input_dir + \"/msms.csv\",\n",
    "        \"search_results_type\": \"Xisearch\",\n",
    "        \"spectra\": input_dir,\n",
    "        \"spectra_type\": \"raw\",\n",
    "    },\n",
    "    \"output\": \"./XL_out\",\n",
    "    \"models\": {\n",
    "        \"intensity\": \"Prosit_2023_intensity_XL_CMS2\",\n",
    "        \"irt\": \"\"\n",
    "    },\n",
    "    \"prediction_server\": \"koina.wilhelmlab.org:443\",\n",
    "    \"ssl\": True,\n",
    "    \"thermoExe\": \"ThermoRawFileParser.exe\",\n",
    "    \"numThreads\": 1,\n",
    "    \"fdr_estimation_method\": \"percolator\",\n",
    "    \"allFeatures\": False,\n",
    "    \"massTolerance\": 40,\n",
    "    \"unitMassTolerance\": \"ppm\",\n",
    "    \"ce_alignment_options\": {\n",
    "        \"ce_range\": [\n",
    "            5,\n",
    "            45\n",
    "        ],\n",
    "        \"use_ransac_model\": True\n",
    "    }\n",
    "}"
   ]
  },
  {
   "cell_type": "markdown",
   "metadata": {},
   "source": [
    "### Save the config file"
   ]
  },
  {
   "cell_type": "code",
   "execution_count": 6,
   "metadata": {
    "tags": []
   },
   "outputs": [],
   "source": [
    "with open(\"./rescoring_config.json\", \"w\") as fp:\n",
    "    json.dump(task_config_rescoring, fp)"
   ]
  },
  {
   "cell_type": "markdown",
   "metadata": {},
   "source": [
    "### Start rescoring"
   ]
  },
  {
   "cell_type": "code",
   "execution_count": 7,
   "metadata": {
    "tags": []
   },
   "outputs": [
    {
     "name": "stdout",
     "output_type": "stream",
     "text": [
      "2025-06-14 15:44:07,359 - INFO - oktoberfest.utils.config::read Reading configuration from ./rescoring_config.json\n",
      "2025-06-14 15:44:07,383 - INFO - oktoberfest.runner::run_job Oktoberfest version 0.9.1\n",
      "Copyright 2025, Wilhelmlab at Technical University of Munich\n",
      "2025-06-14 15:44:07,433 - INFO - oktoberfest.runner::run_job Job executed with the following config:\n",
      "2025-06-14 15:44:07,436 - INFO - oktoberfest.runner::run_job {\n",
      "    \"type\": \"Rescoring\",\n",
      "    \"tag\": \"\",\n",
      "    \"inputs\": {\n",
      "        \"search_results\": \"/home/mkalhor/oktoberfest/tutorials/Oktoberfest_XL_input/msms.csv\",\n",
      "        \"search_results_type\": \"Xisearch\",\n",
      "        \"spectra\": \"/home/mkalhor/oktoberfest/tutorials/Oktoberfest_XL_input\"\n",
      "    },\n",
      "    \"output\": \"./XL_out\",\n",
      "    \"models\": {\n",
      "        \"intensity\": \"Prosit_2023_intensity_XL_CMS2\",\n",
      "        \"irt\": \"\"\n",
      "    },\n",
      "    \"prediction_server\": \"koina.wilhelmlab.org:443\",\n",
      "    \"ssl\": true,\n",
      "    \"thermoExe\": \"ThermoRawFileParser.exe\",\n",
      "    \"numThreads\": 1,\n",
      "    \"fdr_estimation_method\": \"percolator\",\n",
      "    \"allFeatures\": false,\n",
      "    \"massTolerance\": 40,\n",
      "    \"unitMassTolerance\": \"ppm\",\n",
      "    \"ce_alignment_options\": {\n",
      "        \"ce_range\": [\n",
      "            5,\n",
      "            45\n",
      "        ],\n",
      "        \"use_ransac_model\": true\n",
      "    }\n",
      "}\n",
      "2025-06-14 15:44:07,438 - INFO - oktoberfest.utils.config::read Reading configuration from ./rescoring_config.json\n",
      "2025-06-14 15:44:07,450 - INFO - oktoberfest.preprocessing.preprocessing::list_spectra Found 1 raw file in the spectra input directory.\n",
      "2025-06-14 15:44:07,459 - INFO - oktoberfest.runner::_preprocess Converting search results from /home/mkalhor/oktoberfest/tutorials/Oktoberfest_XL_input/msms.csv to internal search result.\n",
      "2025-06-14 15:44:07,468 - INFO - spectrum_io.search_result.xisearch::read_result Reading search results file...\n",
      "2025-06-14 15:44:21,259 - INFO - spectrum_io.search_result.xisearch::read_result Finished reading search results file.\n",
      "2025-06-14 15:44:21,349 - INFO - spectrum_io.search_result.xisearch::convert_to_internal Converting Xisearch peptide sequence to internal format...\n",
      "2025-06-14 15:44:21,618 - INFO - spectrum_io.search_result.xisearch::filter_valid_prosit_sequences #sequences before filtering for valid prosit sequences: 7502\n",
      "2025-06-14 15:44:21,664 - INFO - spectrum_io.search_result.xisearch::filter_valid_prosit_sequences #sequences after filtering for valid prosit sequences: 4405\n",
      "slicing done\n",
      "Pool size: 4\n",
      "2025-06-14 15:44:22,211 - INFO - oktoberfest.runner::_preprocess Read 4405 PSMs from XL_out/msms/msms.prosit\n",
      "2025-06-14 15:44:22,239 - INFO - oktoberfest.preprocessing.preprocessing::split_search Creating split search results file XL_out/msms/XLpeplib_Beveridge_QEx-HFX_DSSO_stHCD.rescore\n",
      "2025-06-14 15:44:22,345 - INFO - spectrum_io.raw.thermo_raw::convert_raw_mzml Converting thermo rawfile to mzml with the command: mono ThermoRawFileParser.exe --msLevel=2 -i /home/mkalhor/oktoberfest/tutorials/Oktoberfest_XL_input/XLpeplib_Beveridge_QEx-HFX_DSSO_stHCD.raw -b XL_out/spectra/XLpeplib_Beveridge_QEx-HFX_DSSO_stHCD.mzML\n"
     ]
    },
    {
     "name": "stderr",
     "output_type": "stream",
     "text": [
      "Cannot open assembly 'ThermoRawFileParser.exe': No such file or directory.\n"
     ]
    },
    {
     "ename": "CalledProcessError",
     "evalue": "Command '['mono', PosixPath('ThermoRawFileParser.exe'), '--msLevel=2', '-i', PosixPath('/home/mkalhor/oktoberfest/tutorials/Oktoberfest_XL_input/XLpeplib_Beveridge_QEx-HFX_DSSO_stHCD.raw'), '-b', PosixPath('XL_out/spectra/XLpeplib_Beveridge_QEx-HFX_DSSO_stHCD.mzML')]' returned non-zero exit status 2.",
     "output_type": "error",
     "traceback": [
      "\u001b[0;31m---------------------------------------------------------------------------\u001b[0m",
      "\u001b[0;31mCalledProcessError\u001b[0m                        Traceback (most recent call last)",
      "Cell \u001b[0;32mIn[7], line 1\u001b[0m\n\u001b[0;32m----> 1\u001b[0m \u001b[43mrun_job\u001b[49m\u001b[43m(\u001b[49m\u001b[38;5;124;43m\"\u001b[39;49m\u001b[38;5;124;43m./rescoring_config.json\u001b[39;49m\u001b[38;5;124;43m\"\u001b[39;49m\u001b[43m)\u001b[49m\n",
      "File \u001b[0;32m~/oktoberfest/oktoberfest/runner.py:1392\u001b[0m, in \u001b[0;36mrun_job\u001b[0;34m(config_path)\u001b[0m\n\u001b[1;32m   1390\u001b[0m     run_ce_calibration(config_path)\n\u001b[1;32m   1391\u001b[0m \u001b[38;5;28;01melif\u001b[39;00m job_type \u001b[38;5;241m==\u001b[39m \u001b[38;5;124m\"\u001b[39m\u001b[38;5;124mRescoring\u001b[39m\u001b[38;5;124m\"\u001b[39m:\n\u001b[0;32m-> 1392\u001b[0m     \u001b[43mrun_rescoring\u001b[49m\u001b[43m(\u001b[49m\u001b[43mconfig_path\u001b[49m\u001b[43m)\u001b[49m\n\u001b[1;32m   1393\u001b[0m \u001b[38;5;28;01melse\u001b[39;00m:\n\u001b[1;32m   1394\u001b[0m     \u001b[38;5;28;01mraise\u001b[39;00m \u001b[38;5;167;01mValueError\u001b[39;00m(\u001b[38;5;124mf\u001b[39m\u001b[38;5;124m\"\u001b[39m\u001b[38;5;124mUnknown job_type in config: \u001b[39m\u001b[38;5;132;01m{\u001b[39;00mjob_type\u001b[38;5;132;01m}\u001b[39;00m\u001b[38;5;124m\"\u001b[39m)\n",
      "File \u001b[0;32m~/oktoberfest/oktoberfest/runner.py:1267\u001b[0m, in \u001b[0;36mrun_rescoring\u001b[0;34m(config_path)\u001b[0m\n\u001b[1;32m   1265\u001b[0m \u001b[38;5;28;01melse\u001b[39;00m:\n\u001b[1;32m   1266\u001b[0m     \u001b[38;5;28;01mfor\u001b[39;00m spectra_file \u001b[38;5;129;01min\u001b[39;00m spectra_files:\n\u001b[0;32m-> 1267\u001b[0m         _ \u001b[38;5;241m=\u001b[39m \u001b[43m_ce_calib\u001b[49m\u001b[43m(\u001b[49m\u001b[43mspectra_file\u001b[49m\u001b[43m,\u001b[49m\u001b[43m \u001b[49m\u001b[43mconfig\u001b[49m\u001b[43m)\u001b[49m\n\u001b[1;32m   1269\u001b[0m \u001b[38;5;28;01mif\u001b[39;00m config\u001b[38;5;241m.\u001b[39mdo_refinement_learning:\n\u001b[1;32m   1270\u001b[0m     _refinement_learn(spectra_files, config)\n",
      "File \u001b[0;32m~/oktoberfest/oktoberfest/runner.py:523\u001b[0m, in \u001b[0;36m_ce_calib\u001b[0;34m(spectra_file, config)\u001b[0m\n\u001b[1;32m    521\u001b[0m \u001b[38;5;28;01mif\u001b[39;00m config\u001b[38;5;241m.\u001b[39mspectra_type\u001b[38;5;241m.\u001b[39mlower() \u001b[38;5;129;01min\u001b[39;00m [\u001b[38;5;124m\"\u001b[39m\u001b[38;5;124mhdf\u001b[39m\u001b[38;5;124m\"\u001b[39m, \u001b[38;5;124m\"\u001b[39m\u001b[38;5;124md\u001b[39m\u001b[38;5;124m\"\u001b[39m]:  \u001b[38;5;66;03m# if it is timstof\u001b[39;00m\n\u001b[1;32m    522\u001b[0m     tims_meta_file \u001b[38;5;241m=\u001b[39m config\u001b[38;5;241m.\u001b[39moutput \u001b[38;5;241m/\u001b[39m \u001b[38;5;124m\"\u001b[39m\u001b[38;5;124mmsms\u001b[39m\u001b[38;5;124m\"\u001b[39m \u001b[38;5;241m/\u001b[39m spectra_file\u001b[38;5;241m.\u001b[39mwith_suffix(\u001b[38;5;124m\"\u001b[39m\u001b[38;5;124m.timsmeta\u001b[39m\u001b[38;5;124m\"\u001b[39m)\u001b[38;5;241m.\u001b[39mname\n\u001b[0;32m--> 523\u001b[0m aspec \u001b[38;5;241m=\u001b[39m \u001b[43m_annotate_and_get_library\u001b[49m\u001b[43m(\u001b[49m\u001b[43mspectra_file\u001b[49m\u001b[43m,\u001b[49m\u001b[43m \u001b[49m\u001b[43mconfig\u001b[49m\u001b[43m,\u001b[49m\u001b[43m \u001b[49m\u001b[43mtims_meta_file\u001b[49m\u001b[38;5;241;43m=\u001b[39;49m\u001b[43mtims_meta_file\u001b[49m\u001b[43m)\u001b[49m\n\u001b[1;32m    524\u001b[0m \u001b[38;5;28;01mif\u001b[39;00m \u001b[38;5;129;01mnot\u001b[39;00m config\u001b[38;5;241m.\u001b[39mdo_refinement_learning:\n\u001b[1;32m    525\u001b[0m     _get_best_ce(aspec, spectra_file, config)\n",
      "File \u001b[0;32m~/oktoberfest/oktoberfest/runner.py:144\u001b[0m, in \u001b[0;36m_annotate_and_get_library\u001b[0;34m(spectra_file, config, tims_meta_file)\u001b[0m\n\u001b[1;32m    142\u001b[0m \u001b[38;5;28;01mif\u001b[39;00m format_ \u001b[38;5;241m==\u001b[39m \u001b[38;5;124m\"\u001b[39m\u001b[38;5;124m.raw\u001b[39m\u001b[38;5;124m\"\u001b[39m:\n\u001b[1;32m    143\u001b[0m     file_to_load \u001b[38;5;241m=\u001b[39m spectra_dir \u001b[38;5;241m/\u001b[39m spectra_file\u001b[38;5;241m.\u001b[39mwith_suffix(\u001b[38;5;124m\"\u001b[39m\u001b[38;5;124m.mzML\u001b[39m\u001b[38;5;124m\"\u001b[39m)\u001b[38;5;241m.\u001b[39mname\n\u001b[0;32m--> 144\u001b[0m     \u001b[43mpp\u001b[49m\u001b[38;5;241;43m.\u001b[39;49m\u001b[43mconvert_raw_to_mzml\u001b[49m\u001b[43m(\u001b[49m\u001b[43mspectra_file\u001b[49m\u001b[43m,\u001b[49m\u001b[43m \u001b[49m\u001b[43mfile_to_load\u001b[49m\u001b[43m,\u001b[49m\u001b[43m \u001b[49m\u001b[43mthermo_exe\u001b[49m\u001b[38;5;241;43m=\u001b[39;49m\u001b[43mconfig\u001b[49m\u001b[38;5;241;43m.\u001b[39;49m\u001b[43mthermo_exe\u001b[49m\u001b[43m)\u001b[49m\n\u001b[1;32m    145\u001b[0m \u001b[38;5;28;01melif\u001b[39;00m format_ \u001b[38;5;129;01min\u001b[39;00m [\u001b[38;5;124m\"\u001b[39m\u001b[38;5;124m.mzml\u001b[39m\u001b[38;5;124m\"\u001b[39m, \u001b[38;5;124m\"\u001b[39m\u001b[38;5;124m.hdf\u001b[39m\u001b[38;5;124m\"\u001b[39m]:\n\u001b[1;32m    146\u001b[0m     file_to_load \u001b[38;5;241m=\u001b[39m spectra_file\n",
      "File \u001b[0;32m~/oktoberfest/oktoberfest/preprocessing/preprocessing.py:1119\u001b[0m, in \u001b[0;36mconvert_raw_to_mzml\u001b[0;34m(raw_file, output_file, thermo_exe)\u001b[0m\n\u001b[1;32m   1116\u001b[0m         thermo_exe \u001b[38;5;241m=\u001b[39m \u001b[38;5;124m\"\u001b[39m\u001b[38;5;124mThermoRawFileParser.exe\u001b[39m\u001b[38;5;124m\"\u001b[39m\n\u001b[1;32m   1118\u001b[0m raw \u001b[38;5;241m=\u001b[39m ThermoRaw()\n\u001b[0;32m-> 1119\u001b[0m \u001b[43mraw\u001b[49m\u001b[38;5;241;43m.\u001b[39;49m\u001b[43mconvert_raw_mzml\u001b[49m\u001b[43m(\u001b[49m\u001b[43minput_path\u001b[49m\u001b[38;5;241;43m=\u001b[39;49m\u001b[43mraw_file\u001b[49m\u001b[43m,\u001b[49m\u001b[43m \u001b[49m\u001b[43moutput_path\u001b[49m\u001b[38;5;241;43m=\u001b[39;49m\u001b[43moutput_file\u001b[49m\u001b[43m,\u001b[49m\u001b[43m \u001b[49m\u001b[43mthermo_exe\u001b[49m\u001b[38;5;241;43m=\u001b[39;49m\u001b[43mthermo_exe\u001b[49m\u001b[43m)\u001b[49m\n",
      "File \u001b[0;32m~/anaconda3/envs/oktoberfest/lib/python3.10/site-packages/spectrum_io/raw/thermo_raw.py:95\u001b[0m, in \u001b[0;36mThermoRaw.convert_raw_mzml\u001b[0;34m(input_path, gzip, ms_level, output_path, thermo_exe)\u001b[0m\n\u001b[1;32m     90\u001b[0m logger\u001b[38;5;241m.\u001b[39minfo(\n\u001b[1;32m     91\u001b[0m     \u001b[38;5;124mf\u001b[39m\u001b[38;5;124m\"\u001b[39m\u001b[38;5;124mConverting thermo rawfile to mzml with the command: \u001b[39m\u001b[38;5;132;01m{\u001b[39;00m\u001b[38;5;124m'\u001b[39m\u001b[38;5;124m \u001b[39m\u001b[38;5;124m'\u001b[39m\u001b[38;5;241m.\u001b[39mjoin([\u001b[38;5;28mstr\u001b[39m(arg)\u001b[38;5;250m \u001b[39m\u001b[38;5;28;01mfor\u001b[39;00m\u001b[38;5;250m \u001b[39marg\u001b[38;5;250m \u001b[39m\u001b[38;5;129;01min\u001b[39;00m\u001b[38;5;250m \u001b[39mexec_arg_list])\u001b[38;5;132;01m}\u001b[39;00m\u001b[38;5;124m\"\u001b[39m\n\u001b[1;32m     92\u001b[0m )\n\u001b[1;32m     94\u001b[0m \u001b[38;5;28;01mtry\u001b[39;00m:\n\u001b[0;32m---> 95\u001b[0m     \u001b[43msubprocess\u001b[49m\u001b[38;5;241;43m.\u001b[39;49m\u001b[43mrun\u001b[49m\u001b[43m(\u001b[49m\u001b[43mexec_arg_list\u001b[49m\u001b[43m,\u001b[49m\u001b[43m \u001b[49m\u001b[43mshell\u001b[49m\u001b[38;5;241;43m=\u001b[39;49m\u001b[38;5;28;43;01mFalse\u001b[39;49;00m\u001b[43m,\u001b[49m\u001b[43m \u001b[49m\u001b[43mcheck\u001b[49m\u001b[38;5;241;43m=\u001b[39;49m\u001b[38;5;28;43;01mTrue\u001b[39;49;00m\u001b[43m)\u001b[49m\n\u001b[1;32m     96\u001b[0m \u001b[38;5;28;01mexcept\u001b[39;00m subprocess\u001b[38;5;241m.\u001b[39mCalledProcessError:\n\u001b[1;32m     97\u001b[0m     \u001b[38;5;28;01mif\u001b[39;00m output_path\u001b[38;5;241m.\u001b[39mis_file():\n",
      "File \u001b[0;32m~/anaconda3/envs/oktoberfest/lib/python3.10/subprocess.py:524\u001b[0m, in \u001b[0;36mrun\u001b[0;34m(input, capture_output, timeout, check, *popenargs, **kwargs)\u001b[0m\n\u001b[1;32m    522\u001b[0m     retcode \u001b[38;5;241m=\u001b[39m process\u001b[38;5;241m.\u001b[39mpoll()\n\u001b[1;32m    523\u001b[0m     \u001b[38;5;28;01mif\u001b[39;00m check \u001b[38;5;129;01mand\u001b[39;00m retcode:\n\u001b[0;32m--> 524\u001b[0m         \u001b[38;5;28;01mraise\u001b[39;00m CalledProcessError(retcode, process\u001b[38;5;241m.\u001b[39margs,\n\u001b[1;32m    525\u001b[0m                                  output\u001b[38;5;241m=\u001b[39mstdout, stderr\u001b[38;5;241m=\u001b[39mstderr)\n\u001b[1;32m    526\u001b[0m \u001b[38;5;28;01mreturn\u001b[39;00m CompletedProcess(process\u001b[38;5;241m.\u001b[39margs, retcode, stdout, stderr)\n",
      "\u001b[0;31mCalledProcessError\u001b[0m: Command '['mono', PosixPath('ThermoRawFileParser.exe'), '--msLevel=2', '-i', PosixPath('/home/mkalhor/oktoberfest/tutorials/Oktoberfest_XL_input/XLpeplib_Beveridge_QEx-HFX_DSSO_stHCD.raw'), '-b', PosixPath('XL_out/spectra/XLpeplib_Beveridge_QEx-HFX_DSSO_stHCD.mzML')]' returned non-zero exit status 2."
     ]
    }
   ],
   "source": [
    "run_job(\"./rescoring_config.json\")"
   ]
  },
  {
   "cell_type": "markdown",
   "metadata": {},
   "source": [
    "### Check the results\n",
    "\n",
    "The results are written to the output folder specified in your config file.\n",
    "\n",
    "You should find the following key output files:\n",
    "\n",
    "1. **percolator_xifdr_input.csv**\n",
    "\n",
    "   Location: `.../XL_out/results/percolator/percolator_xifdr_input.csv`  \n",
    "\n",
    "   This file contains Percolator scores for each CSM (cross-linked spectrum match).  \n",
    "\n",
    "   It is intended for use with the **xiFDR** tool to estimate FDR.  \n",
    "\n",
    "   👉 Note: Oktoberfest **does not perform FDR estimation** itself for XL-MS data — it only generates Percolator-based scores.  \n",
    "\n",
    "   You can upload this file directly to **xiFDR** and apply FDR estimation as needed.  \n",
    "\n",
    "   🔗 More info: [xiFDR GitHub Repository](https://github.com/Rappsilber-Laboratory/xiFDR)\n",
    "\n",
    "\n",
    "   \n",
    "\n",
    "2. **xisearch_xifdr_input.csv**  \n",
    "\n",
    "   **Location:** `.../XL_out/results/percolator/xisearch_xifdr_input.csv`  \n",
    "\n",
    "   This file contains XiSearch scores for each CSM (cross-linked spectrum match).  \n",
    "\n",
    "   It can also be used as input for **xiFDR**, just like the Percolator version.  \n",
    "\n",
    "   This allows you to **compare the performance of rescoring** (Percolator) against the original XiSearch scores.  \n",
    "\n",
    "   📊 Useful for benchmarking rescoring effectiveness.\n",
    "\n"
   ]
  },
  {
   "cell_type": "code",
   "execution_count": null,
   "metadata": {},
   "outputs": [],
   "source": []
  }
 ],
 "metadata": {
  "kernelspec": {
   "display_name": "Python 3 (ipykernel)",
   "language": "python",
   "name": "python3"
  },
  "language_info": {
   "codemirror_mode": {
    "name": "ipython",
    "version": 3
   },
   "file_extension": ".py",
   "mimetype": "text/x-python",
   "name": "python",
   "nbconvert_exporter": "python",
   "pygments_lexer": "ipython3",
   "version": "3.10.0"
  }
 },
 "nbformat": 4,
 "nbformat_minor": 4
}
