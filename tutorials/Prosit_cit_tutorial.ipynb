{
 "cells": [
  {
   "cell_type": "markdown",
   "metadata": {},
   "source": [
    "## Installation:\n",
    "\n",
    "### Percolator:\n",
    "- To install percolator on windows download this file: https://github.com/percolator/percolator/releases/download/rel-3-06-01/percolator-v3-06.exe\n",
    "- Run the downloaded file while running the setup make sure to select \"add percolator to the system PATH for all users\" when asked.\n",
    "\n",
    "### ThermoRawFileParser:\n",
    "- You need this if you want to read thermo rawfiles.\n",
    "- First download this zip folder localy: https://github.com/compomics/ThermoRawFileParser/releases/download/v1.4.3/ThermoRawFileParser1.4.3.zip\n",
    "- Extract the contents of the zip folder and make sure to know where this is saved this will be used later by oktoberfest.\n",
    "\n",
    "### Oktoberfest:\n",
    "- Oktoberfest currenty support Python version 3.9 and 3.10 so please install one of these python versions.\n",
    "- Install oktoberfest using pip install oktoberfest\n",
    "\n",
    "### Site Annotation:\n",
    "- Install site annotation package using pip install psite-annotation"
   ]
  },
  {
   "cell_type": "markdown",
   "metadata": {},
   "source": [
    "## 1- Rescoring"
   ]
  },
  {
   "cell_type": "code",
   "execution_count": null,
   "metadata": {},
   "outputs": [],
   "source": [
    "from oktoberfest.runner import run_job\n",
    "from oktoberfest import __version__ as version\n",
    "import json\n",
    "from tqdm.auto import tqdm"
   ]
  },
  {
   "cell_type": "code",
   "execution_count": 3,
   "metadata": {},
   "outputs": [],
   "source": [
    "spectra =   # this is the directory of the mzML/rawfiles containing the measured spectra.\n",
    "spectra_type =  # this is the format the spectra are provided in (\"mzml\", \"raw\", \"d\")\n",
    "\n",
    "search_results =                             # this is the location of the search engine output\n",
    "search_results_type =  # this is the search engine type ('maxquant', 'MsFragger')"
   ]
  },
  {
   "cell_type": "code",
   "execution_count": 3,
   "metadata": {},
   "outputs": [],
   "source": [
    "intensity_model = \"Prosit_2024_intensity_cit\"                              # this is the model used for fragment intensity prediction, e.g. \"some model\"\n",
    "retention_time_model = \"Prosit_2024_irt_cit\"                                   # this is the model used for retention time prediction, e.g. \"some model\"\n",
    "prediction_server = \"koina.wilhelmlab.org:443\"                             # the Koina server that provides access to the specified models, e.g. \"<url>:<port number>\"\n",
    "\n",
    "output_directory =                               # here you can sepcify your output directory"
   ]
  },
  {
   "cell_type": "code",
   "execution_count": 5,
   "metadata": {},
   "outputs": [],
   "source": [
    " # this is the local folder where you ThermoRawFileParser.exe file is e.g 'extracted_ThermoRawFileParser/ThermoRawFileParser.exe'\n",
    "thermo_exe_directory= "
   ]
  },
  {
   "cell_type": "markdown",
   "metadata": {},
   "source": [
    "- Documentation for the different parameters in the config file can be found here:\n",
    "https://oktoberfest.readthedocs.io/en/stable/config.html"
   ]
  },
  {
   "cell_type": "code",
   "execution_count": 9,
   "metadata": {},
   "outputs": [],
   "source": [
    "task_config_rescoring = {\n",
    "    \"type\": \"Rescoring\",\n",
    "    \"tag\": \"\",\n",
    "    \"inputs\":{\n",
    "        \"search_results\": search_results,\n",
    "        \"search_results_type\": search_results_type,\n",
    "        \"spectra\": spectra,\n",
    "        \"spectra_type\": spectra_type\n",
    "    },\n",
    "    \"output\": output_directory,\n",
    "    \"models\": {\n",
    "        \"intensity\": intensity_model\n",
    "        , \"irt\": retention_time_model\n",
    "    },\n",
    "    \"prediction_server\": prediction_server,\n",
    "    \"ssl\": True,\n",
    "    \"thermoExe\": thermo_exe_directory,\n",
    "    \"numThreads\": 1,\n",
    "    \"fdr_estimation_method\": \"percolator\",\n",
    "    \"regressionMethod\": \"spline\",\n",
    "    \"allFeatures\": False,\n",
    "    \"pipeline\": \"cit\",\n",
    "    \"ptm_localization\": True,\n",
    "    \"ptmLocalizationOptions\": {\n",
    "        \"unimod_id\": 7,\n",
    "        \"possible_sites\": ['R','N','Q'],\n",
    "        \"neutral_loss\": True\n",
    "\n",
    "    }\n",
    "}\n",
    "\n",
    "with open('./rescoring_config.json', 'w') as fp:\n",
    "    json.dump(task_config_rescoring, fp)"
   ]
  },
  {
   "cell_type": "code",
   "execution_count": null,
   "metadata": {},
   "outputs": [],
   "source": [
    "run_job(\"./rescoring_config.json\")"
   ]
  },
  {
   "cell_type": "markdown",
   "metadata": {},
   "source": [
    "## 2- Site annotation"
   ]
  },
  {
   "cell_type": "code",
   "execution_count": 1,
   "metadata": {},
   "outputs": [],
   "source": [
    "import pandas as pd\n",
    "import psite_annotation as pa\n",
    "import re"
   ]
  },
  {
   "cell_type": "markdown",
   "metadata": {},
   "source": [
    "#### A. Extract SA scores from RESCORE TAB and combine with PROSIT-CIT PSMS Results"
   ]
  },
  {
   "cell_type": "code",
   "execution_count": null,
   "metadata": {},
   "outputs": [],
   "source": [
    "# Load spectral_angle and SpecId from the RESCORE TAB file\n",
    "combined_df = pd.read_csv(   \n",
    "output_directory + \"/results/percolator/localize_mod/rescore.tab\",\n",
    "    sep='\\t', \n",
    "    usecols=[\"spectral_angle\", \"SpecId\"]\n",
    ")\n",
    "\n",
    "# Load Prosit-Cit psms results\n",
    "df_prosit_psms = pd.read_csv(\n",
    "    output_directory + \"/results/percolator/localize_mod/rescore.percolator.psms.txt\",\n",
    "    sep='\\t'\n",
    ")\n",
    "\n",
    "#Remove _ appended to the peptide sequence\n",
    "df_prosit_psms['peptide'] = df_prosit_psms['peptide'].str.replace(r'\\._|_\\.', '', regex=True)\n",
    "\n",
    "# Rename the first column to \"SpecId\"\n",
    "df_prosit_psms.rename(columns={\"PSMId\": \"SpecId\"}, inplace=True)\n",
    "\n",
    "# Filter for cit peptides with 1%FDR\n",
    "df_prosit_psms = df_prosit_psms[\n",
    "    (df_prosit_psms['q-value'] <= 0.01) & \n",
    "    (df_prosit_psms['peptide'].str.contains(r\"R\\[UNIMOD:7\\]\"))\n",
    "]\n",
    "\n",
    "# Merge Prosit-Cit psms results with spectral_angle data\n",
    "merged_df = pd.merge(df_prosit_psms, combined_df, on=\"SpecId\", how=\"left\")"
   ]
  },
  {
   "cell_type": "markdown",
   "metadata": {},
   "source": [
    "#### B. Map to the cit site/sequence window using the corresponding fasta"
   ]
  },
  {
   "cell_type": "code",
   "execution_count": 53,
   "metadata": {},
   "outputs": [],
   "source": [
    "Fasta_file_path = #Add here the path to the fasta file used for search"
   ]
  },
  {
   "cell_type": "code",
   "execution_count": null,
   "metadata": {},
   "outputs": [],
   "source": [
    "# Remove contaminants proteins if existing\n",
    "merged_df['Organism'] = merged_df['proteinIds'].apply(lambda x: x.split(':')[0].split('_')[-1])\n",
    "main_organism = merged_df['Organism'].value_counts().index[0]\n",
    "merged_df = merged_df[merged_df['proteinIds'].str.contains(r'_'+ main_organism, regex=True)]\n",
    "\n",
    "# Select relevant columns\n",
    "merged_df = merged_df[['filename', 'peptide', 'proteinIds', 'spectral_angle']]\n",
    "\n",
    "# Extract protein name from 'protein' column using regex\n",
    "merged_df['proteinIds'] = merged_df['proteinIds'].apply(lambda x: re.sub(r'^.*\\|(.*?)\\|.*$', r'\\1', x))\n",
    "\n",
    "# Pivot the DataFrame\n",
    "dt = merged_df.pivot_table(index=['peptide', 'proteinIds'], columns='filename', values='spectral_angle').reset_index()\n",
    "dt.rename(columns={'proteinIds': 'Proteins', 'peptide': 'Modified sequence'}, inplace=True)\n",
    "\n",
    "# Replace specific modification patterns in 'Modified Sequence'\n",
    "mod_replacements = {\n",
    "    r\"C\\[UNIMOD:4\\]\": \"C\",\n",
    "    r\"M\\[UNIMOD:35\\]\": \"M\",\n",
    "    r\"N\\[UNIMOD:7\\]\": \"N\",\n",
    "    r\"Q\\[UNIMOD:7\\]\": \"Q\"\n",
    "}\n",
    "\n",
    "# Apply all replacements\n",
    "for pattern, replacement in mod_replacements.items():\n",
    "    dt['Modified sequence'] = dt['Modified sequence'].str.replace(pattern, replacement, regex=True)\n",
    "\n",
    "# Load Fasta used for search\n",
    "CustomFasta = Fasta_file_path\n",
    "dt = pa.addPeptideAndPsitePositions(dt, CustomFasta, mod_dict={'R[UNIMOD:7]': 'r'})\n",
    "dt = dt[dt['Site positions'] != \"\"]\n",
    "\n",
    "dt.to_csv(output_directory +\"/Cit_rescore_site_mapping.txt\", sep='\\t', index=False)"
   ]
  }
 ],
 "metadata": {
  "kernelspec": {
   "display_name": "new_oktoberfest",
   "language": "python",
   "name": "python3"
  },
  "language_info": {
   "codemirror_mode": {
    "name": "ipython",
    "version": 3
   },
   "file_extension": ".py",
   "mimetype": "text/x-python",
   "name": "python",
   "nbconvert_exporter": "python",
   "pygments_lexer": "ipython3",
   "version": "3.10.14"
  }
 },
 "nbformat": 4,
 "nbformat_minor": 2
}
