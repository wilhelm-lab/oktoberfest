{
 "cells": [
  {
   "cell_type": "markdown",
   "metadata": {},
   "source": [
    "# Running Oktoberfest\n",
    "\n",
    "This notebook walks you through the main workflows in Oktoberfest similar to `Oktoberfest Tutorial.ipynb`, however, instead of performing rescoring using a pre-trained intensity predictor, automatic refinement/transfer learning is performed on the dataset locally and the resulting predictor used for intensity prediction in rescoring.\n",
    "\n",
    "File download and pre-processing take about 25 minutes, while the automatic refinement/transfer learning in the rescoring step can take multiple hours depending on the machine."
   ]
  },
  {
   "cell_type": "markdown",
   "metadata": {},
   "source": [
    "## 1 - Import necessary python packages"
   ]
  },
  {
   "cell_type": "code",
   "execution_count": 1,
   "metadata": {
    "tags": []
   },
   "outputs": [],
   "source": [
    "import os\n",
    "from oktoberfest.runner import run_job\n",
    "import json\n",
    "import urllib.request\n",
    "import shutil\n",
    "from tqdm import tqdm"
   ]
  },
  {
   "cell_type": "markdown",
   "metadata": {},
   "source": [
    "## 2 - Download example files required to run different tasks from Zenodo \n",
    "\n",
    "The data used in this tutorial is provided in a public Zenodo record. \n",
    "This is a larger dataset with 2.55GB in total. Download time should be ~15mins (average 3 MB/s)."
   ]
  },
  {
   "cell_type": "markdown",
   "metadata": {},
   "source": [
    "### A - Get the current directory and set the file name"
   ]
  },
  {
   "cell_type": "code",
   "execution_count": 23,
   "metadata": {
    "tags": []
   },
   "outputs": [],
   "source": [
    "download_dir = os.getcwd()\n",
    "download_file = os.path.join(download_dir, 'Oktoberfest_input.zip')\n",
    "url = 'https://zenodo.org/record/7613029/files/Oktoberfest_input.zip'\n",
    "\n",
    "download = True  # set this to false if you already have the file and don't want to download again in the next step"
   ]
  },
  {
   "cell_type": "markdown",
   "metadata": {},
   "source": [
    "### B - Download and extract files from Zenodo"
   ]
  },
  {
   "cell_type": "code",
   "execution_count": 24,
   "metadata": {
    "tags": []
   },
   "outputs": [
    {
     "name": "stderr",
     "output_type": "stream",
     "text": [
      "Oktoberfest_input.zip: 2.74GB [01:02, 43.5MB/s]                                                                                                                \n"
     ]
    }
   ],
   "source": [
    "if download:\n",
    "    with tqdm(unit=\"B\", total=2739196307, unit_scale=True, unit_divisor=1000, miniters=1, desc=url.split(\"/\")[-1]) as t:\n",
    "        urllib.request.urlretrieve(url=url, filename=download_file, reporthook=lambda blocks, block_size, _: t.update(blocks * block_size - t.n))\n",
    "    shutil.unpack_archive(download_file, download_dir)"
   ]
  },
  {
   "cell_type": "markdown",
   "metadata": {},
   "source": [
    "### C - Check downloaded files"
   ]
  },
  {
   "cell_type": "code",
   "execution_count": 25,
   "metadata": {
    "tags": []
   },
   "outputs": [
    {
     "name": "stdout",
     "output_type": "stream",
     "text": [
      "Downloaded data is stored in /cmnfs/home/students/j.schlensok/oktoberfest/tutorials/Oktoberfest_input\n",
      "Contents:\n"
     ]
    },
    {
     "data": {
      "text/plain": [
       "['config_files',\n",
       " 'GN20170722_SK_HLA_G0103_R1_01.raw',\n",
       " 'GN20170722_SK_HLA_G0103_R1_02.raw',\n",
       " 'GN20170722_SK_HLA_G0103_R2_01.raw',\n",
       " 'GN20170722_SK_HLA_G0103_R2_02.raw',\n",
       " 'msms.txt',\n",
       " 'peptides_spectral_library.csv']"
      ]
     },
     "execution_count": 25,
     "metadata": {},
     "output_type": "execute_result"
    }
   ],
   "source": [
    "input_dir = download_file[:-4]\n",
    "print(f'Downloaded data is stored in {input_dir}\\nContents:')\n",
    "os.listdir(input_dir)"
   ]
  },
  {
   "cell_type": "markdown",
   "metadata": {},
   "source": [
    "## 3 - Running Oktoberfest"
   ]
  },
  {
   "cell_type": "code",
   "execution_count": null,
   "metadata": {},
   "outputs": [],
   "source": [
    "{\n",
    "    \"type\": \"Rescoring\",\n",
    "    \"tag\": \"\",\n",
    "    \"output\": \"./out\",\n",
    "    \"inputs\": {\n",
    "        \"search_results\": \"./msms.txt\",\n",
    "        \"search_results_type\": \"Maxquant\",\n",
    "        \"spectra\": \"./\",\n",
    "        \"spectra_type\": \"raw\",\n",
    "        \"instrument_type\": \"QE\"\n",
    "    },\n",
    "    \"models\": {\n",
    "        \"intensity\": \"baseline\",\n",
    "        \"irt\": \"Prosit_2019_irt\"\n",
    "    },\n",
    "    \"prediction_server\": \"koina.wilhelmlab.org:443\",\n",
    "    \"numThreads\": 1,\n",
    "    \"dlomixInferenceBatchSize\": 1024,\n",
    "    \"refinementLearningOptions\": {\n",
    "        \"batchSize\": 1024,\n",
    "        \"includeOriginalSequences\": false,\n",
    "        \"improveFurther\": false,\n",
    "        \"datasetFilteringOptions\": {\n",
    "            \"searchEngineScoreThreshold\": 0,\n",
    "            \"numDuplicates\": 100\n",
    "        }\n",
    "    },\n",
    "    \"fdr_estimation_method\": \"mokapot\",\n",
    "    \"allFeatures\": false,\n",
    "    \"regressionMethod\": \"spline\",\n",
    "    \"ssl\": true,\n",
    "    \"thermoExe\": \"ThermoRawFileParser.exe\",\n",
    "    \"massTolerance\": 20,\n",
    "    \"unitMassTolerance\": \"ppm\",\n",
    "    \"ce_alignment_options\": {\n",
    "        \"ce_range\": [19,50],\n",
    "        \"use_ransac_model\": false\n",
    "    }\n",
    "}"
   ]
  },
  {
   "cell_type": "code",
   "execution_count": null,
   "metadata": {},
   "outputs": [],
   "source": [
    "with open(\"./rescoring_config.json\", 'w') as f:\n",
    "    json.dump(rescoring_config, f)"
   ]
  },
  {
   "cell_type": "code",
   "execution_count": null,
   "metadata": {},
   "outputs": [],
   "source": [
    "run_job(\"./rescoring_config.json\")"
   ]
  },
  {
   "cell_type": "markdown",
   "metadata": {},
   "source": [
    "### A - Preprocessing\n",
    "\n",
    "This will read the raw files, convert them to mzML, and load the search results. While the job type is `\"CollisionEnergyCalibration\"`, actual CE calibration is skipped so the intensity predictor is not just trained using one single value for it.\n",
    "This should take around 5 minutes."
   ]
  },
  {
   "cell_type": "markdown",
   "metadata": {},
   "source": [
    "#### Generate config file\n",
    "\n",
    "Note the `\"intensity\": \"baseline\"` in `\"models\"` (line 12). This tells Oktoberfest to perform local refinement/transfer learning on a baseline intensity predictor and use it for rescoring instead of using a pre-trained one provided through Koina. Alternatively, a path to another pre-trained intensity predictor could be provided"
   ]
  },
  {
   "cell_type": "code",
   "execution_count": 20,
   "metadata": {
    "tags": []
   },
   "outputs": [],
   "source": [
    "task_config_preprocessing = {\n",
    "    \"type\": \"CollisionEnergyCalibration\",\n",
    "    \"tag\": \"\",\n",
    "    \"inputs\":{\n",
    "        \"search_results\": input_dir + \"/msms.txt\",\n",
    "        \"search_results_type\": \"Maxquant\",\n",
    "        \"spectra\": input_dir,\n",
    "        \"spectra_type\": \"raw\"\n",
    "    },\n",
    "    \"output\": \"./out\",\n",
    "    \"models\": {\n",
    "        \"intensity\": \"baseline\",\n",
    "        \"irt\": \"Prosit_2019_irt\"\n",
    "    },\n",
    "    \"prediction_server\": \"koina.wilhelmlab.org:443\",\n",
    "    \"ssl\": True,\n",
    "    \"thermoExe\": \"/opt/compomics/ThermoRawFileParser.exe\",  # ensure you point to the right location of the executable here!\n",
    "    \"massTolerance\": 20,\n",
    "    \"unitMassTolerance\": \"ppm\",\n",
    "    \"numThreads\": 1\n",
    "}"
   ]
  },
  {
   "cell_type": "markdown",
   "metadata": {},
   "source": [
    "#### Save config as json"
   ]
  },
  {
   "cell_type": "code",
   "execution_count": 21,
   "metadata": {
    "tags": []
   },
   "outputs": [],
   "source": [
    "with open('./preprocessing_config.json', 'w') as fp:\n",
    "    json.dump(task_config_preprocessing, fp)"
   ]
  },
  {
   "cell_type": "markdown",
   "metadata": {},
   "source": [
    "#### Run preprocessing job"
   ]
  },
  {
   "cell_type": "code",
   "execution_count": 26,
   "metadata": {
    "tags": []
   },
   "outputs": [
    {
     "name": "stdout",
     "output_type": "stream",
     "text": [
      "2024-10-15 13:02:02,308 - INFO - oktoberfest.utils.config::read Reading configuration from ./ce_calibration_config.json\n",
      "2024-10-15 13:02:02,313 - INFO - oktoberfest.runner::run_job Oktoberfest version 0.8.2\n",
      "Copyright 2024, Wilhelmlab at Technical University of Munich\n",
      "2024-10-15 13:02:02,315 - INFO - oktoberfest.runner::run_job Job executed with the following config:\n",
      "2024-10-15 13:02:02,317 - INFO - oktoberfest.runner::run_job {\n",
      "    \"type\": \"CollisionEnergyCalibration\",\n",
      "    \"tag\": \"\",\n",
      "    \"inputs\": {\n",
      "        \"search_results\": \"/cmnfs/home/students/j.schlensok/oktoberfest/tutorials/Oktoberfest_input/msms.txt\",\n",
      "        \"search_results_type\": \"Maxquant\",\n",
      "        \"spectra\": \"/cmnfs/home/students/j.schlensok/oktoberfest/tutorials/Oktoberfest_input\",\n",
      "        \"spectra_type\": \"raw\"\n",
      "    },\n",
      "    \"output\": \"./out\",\n",
      "    \"models\": {\n",
      "        \"intensity\": \"baseline\",\n",
      "        \"irt\": \"Prosit_2019_irt\"\n",
      "    },\n",
      "    \"prediction_server\": \"koina.wilhelmlab.org:443\",\n",
      "    \"ssl\": true,\n",
      "    \"thermoExe\": \"/opt/compomics/ThermoRawFileParser.exe\",\n",
      "    \"massTolerance\": 20,\n",
      "    \"unitMassTolerance\": \"ppm\",\n",
      "    \"numThreads\": 1\n",
      "}\n",
      "2024-10-15 13:02:02,318 - INFO - oktoberfest.utils.config::read Reading configuration from ./ce_calibration_config.json\n",
      "2024-10-15 13:02:02,321 - INFO - oktoberfest.preprocessing.preprocessing::list_spectra Found 4 raw files in the spectra input directory.\n",
      "2024-10-15 13:02:02,323 - INFO - oktoberfest.utils.process_step::is_done Skipping preprocessing_search step because out/proc/preprocessing_search.done was found.\n",
      "2024-10-15 13:02:02,325 - INFO - oktoberfest.utils.process_step::is_done Skipping ce_calib.GN20170722_SK_HLA_G0103_R1_01 step because out/proc/ce_calib.GN20170722_SK_HLA_G0103_R1_01.done was found.\n",
      "2024-10-15 13:02:02,630 - INFO - spectrum_io.raw.thermo_raw::convert_raw_mzml Found converted file at out/spectra/GN20170722_SK_HLA_G0103_R1_02.mzML, skipping conversion\n",
      "2024-10-15 13:02:02,666 - INFO - spectrum_io.raw.msraw::_read_mzml_pyteomics Reading mzML file: out/spectra/GN20170722_SK_HLA_G0103_R1_02.mzML\n"
     ]
    },
    {
     "ename": "XMLSyntaxError",
     "evalue": "AttValue: ' expected, line 1365283, column 84 (GN20170722_SK_HLA_G0103_R1_02.mzML, line 1365283)",
     "output_type": "error",
     "traceback": [
      "Traceback \u001b[0;36m(most recent call last)\u001b[0m:\n",
      "\u001b[0m  File \u001b[1;32m~/micromamba/envs/oktoberfest3.9-dlomix/lib/python3.9/site-packages/IPython/core/interactiveshell.py:3550\u001b[0m in \u001b[1;35mrun_code\u001b[0m\n    exec(code_obj, self.user_global_ns, self.user_ns)\u001b[0m\n",
      "\u001b[0m  Cell \u001b[1;32mIn[26], line 1\u001b[0m\n    run_job(\"./ce_calibration_config.json\")\u001b[0m\n",
      "\u001b[0m  File \u001b[1;32m~/oktoberfest/oktoberfest/runner.py:814\u001b[0m in \u001b[1;35mrun_job\u001b[0m\n    run_ce_calibration(config_path)\u001b[0m\n",
      "\u001b[0m  File \u001b[1;32m~/oktoberfest/oktoberfest/runner.py:537\u001b[0m in \u001b[1;35mrun_ce_calibration\u001b[0m\n    _ce_calib(spectra_file, config)\u001b[0m\n",
      "\u001b[0m  File \u001b[1;32m~/oktoberfest/oktoberfest/runner.py:498\u001b[0m in \u001b[1;35m_ce_calib\u001b[0m\n    aspec = _annotate_and_get_library(spectra_file, config, tims_meta_file=tims_meta_file)\u001b[0m\n",
      "\u001b[0m  File \u001b[1;32m~/oktoberfest/oktoberfest/runner.py:149\u001b[0m in \u001b[1;35m_annotate_and_get_library\u001b[0m\n    spectra = pp.load_spectra(file_to_load, tims_meta_file=tims_meta_file)\u001b[0m\n",
      "\u001b[0m  File \u001b[1;32m~/oktoberfest/oktoberfest/preprocessing/preprocessing.py:1001\u001b[0m in \u001b[1;35mload_spectra\u001b[0m\n    return ThermoRaw.read_mzml(source=filenames, package=parser)\u001b[0m\n",
      "\u001b[0m  File \u001b[1;32m~/micromamba/envs/oktoberfest3.9-dlomix/lib/python3.9/site-packages/spectrum_io/raw/msraw.py:140\u001b[0m in \u001b[1;35mread_mzml\u001b[0m\n    data = MSRaw._read_mzml_pyteomics(file_list, *args, **kwargs)\u001b[0m\n",
      "\u001b[0m  File \u001b[1;32m~/micromamba/envs/oktoberfest3.9-dlomix/lib/python3.9/site-packages/spectrum_io/raw/msraw.py:225\u001b[0m in \u001b[1;35m_read_mzml_pyteomics\u001b[0m\n    for spec in data_iter:\u001b[0m\n",
      "\u001b[0m  File \u001b[1;32m~/micromamba/envs/oktoberfest3.9-dlomix/lib/python3.9/site-packages/pyteomics/auxiliary/file_helpers.py:178\u001b[0m in \u001b[1;35m__next__\u001b[0m\n    return next(self._reader)\u001b[0m\n",
      "\u001b[0m  File \u001b[1;32m~/micromamba/envs/oktoberfest3.9-dlomix/lib/python3.9/site-packages/pyteomics/xml.py:1245\u001b[0m in \u001b[1;35m__next__\u001b[0m\n    return next(self._iterator)\u001b[0m\n",
      "\u001b[0m  File \u001b[1;32m~/micromamba/envs/oktoberfest3.9-dlomix/lib/python3.9/site-packages/pyteomics/xml.py:583\u001b[0m in \u001b[1;35m_iterfind_impl\u001b[0m\n    for ev, elem in etree.iterparse(self, events=('start', 'end'), remove_comments=True, huge_tree=self._huge_tree):\u001b[0m\n",
      "\u001b[0m  File \u001b[1;32msrc/lxml/iterparse.pxi:208\u001b[0m in \u001b[1;35mlxml.etree.iterparse.__next__\u001b[0m\n",
      "\u001b[0m  File \u001b[1;32msrc/lxml/iterparse.pxi:193\u001b[0m in \u001b[1;35mlxml.etree.iterparse.__next__\u001b[0m\n",
      "\u001b[0m  File \u001b[1;32msrc/lxml/iterparse.pxi:224\u001b[0m in \u001b[1;35mlxml.etree.iterparse._read_more_events\u001b[0m\n",
      "\u001b[0m  File \u001b[1;32msrc/lxml/parser.pxi:1486\u001b[0m in \u001b[1;35mlxml.etree._FeedParser.close\u001b[0m\n",
      "\u001b[0m  File \u001b[1;32msrc/lxml/parser.pxi:624\u001b[0m in \u001b[1;35mlxml.etree._ParserContext._handleParseResult\u001b[0m\n",
      "\u001b[0m  File \u001b[1;32msrc/lxml/parser.pxi:633\u001b[0m in \u001b[1;35mlxml.etree._ParserContext._handleParseResultDoc\u001b[0m\n",
      "\u001b[0m  File \u001b[1;32msrc/lxml/parser.pxi:743\u001b[0m in \u001b[1;35mlxml.etree._handleParseResult\u001b[0m\n",
      "\u001b[0;36m  File \u001b[0;32msrc/lxml/parser.pxi:672\u001b[0;36m in \u001b[0;35mlxml.etree._raiseParseError\u001b[0;36m\n",
      "\u001b[0;36m  File \u001b[0;32m~/oktoberfest/tutorials/out/spectra/GN20170722_SK_HLA_G0103_R1_02.mzML:1365283\u001b[0;36m\u001b[0m\n\u001b[0;31m    <cvParam cvRef=\"MS\" accession=\"MS:1000515\" value=\"\" name=\"intensity a\u001b[0m\n\u001b[0m                                                                        ^\u001b[0m\n\u001b[0;31mXMLSyntaxError\u001b[0m\u001b[0;31m:\u001b[0m AttValue: ' expected, line 1365283, column 84\n"
     ]
    }
   ],
   "source": [
    "run_job(\"./preprocessing_config.json\")"
   ]
  },
  {
   "cell_type": "markdown",
   "metadata": {},
   "source": [
    "### B - Refinement/Transfer Learning & Rescoring\n",
    "\n",
    "In this step, a training dataset in Parquet format is generated and used to run automtaic refinement/transfer learning of the intensity predictor specified by the user.\n",
    "After successful completion of the learning process, a training report is generated and saved in the `results/dlomix/` subdirectory of your output folder in Jupyter notebook and HTML format.\n",
    "Finally, the refined model is used for intensity prediction in Oktoberfest's rescoring step.\n",
    "Depending on your machine, this might take a couple hours. The training results are cached so the refined intensity predictor can be re-used in additional rescoring runs."
   ]
  },
  {
   "cell_type": "markdown",
   "metadata": {},
   "source": [
    "#### Generate config file\n",
    "\n",
    "Note the `\"dlomixInferenceBatchSize`\" key (line 24), as well as the `\"refinementLearningOptions\"` (line 25-33) provided. All of these are set to their default values, which have been found to provide the best balance between training time and performance in practice.\n",
    "If `\"improveFurther`\" was set to `true`, an additional training phase with a reduced learning rate is performed to achieve the best possible performance at the expense of a longer training duration. This is skipped for time's sake in this tutorial."
   ]
  },
  {
   "cell_type": "code",
   "execution_count": null,
   "metadata": {
    "tags": []
   },
   "outputs": [],
   "source": [
    "task_config_rescoring = {\n",
    "    \"type\": \"Rescoring\",\n",
    "    \"tag\": \"\",\n",
    "    \"inputs\":{\n",
    "        \"search_results\": input_dir + \"/msms.txt\",\n",
    "        \"search_results_type\": \"Maxquant\",\n",
    "        \"spectra\": input_dir,\n",
    "        \"spectra_type\": \"raw\"\n",
    "    },\n",
    "    \"output\": \"./out\",\n",
    "    \"models\": {\n",
    "        \"intensity\": \"baseline\",\n",
    "        \"irt\": \"Prosit_2019_irt\"\n",
    "    },\n",
    "    \"prediction_server\": \"koina.wilhelmlab.org:443\",\n",
    "    \"ssl\": True,\n",
    "    \"thermoExe\": \"ThermoRawFileParser.exe\",\n",
    "    \"numThreads\": 4,\n",
    "    \"fdr_estimation_method\": \"percolator\",  # ensure percolator is installed on your system\n",
    "    \"regressionMethod\": \"spline\",\n",
    "    \"allFeatures\": False,\n",
    "    \"massTolerance\": 20,\n",
    "    \"unitMassTolerance\": \"ppm\",\n",
    "    \"dlomixInferenceBatchSize\": 1024,\n",
    "    \"refinementLearningOptions\": {\n",
    "        \"batchSize\": 1024,\n",
    "        \"includeOriginalSequences\": false,\n",
    "        \"improveFurther\": false,\n",
    "        \"datasetFilteringOptions\": {\n",
    "            \"searchEngineScoreThreshold\": 0,\n",
    "            \"numDuplicates\": 100\n",
    "        }\n",
    "    },\n",
    "}"
   ]
  },
  {
   "cell_type": "markdown",
   "metadata": {},
   "source": [
    "#### Save config as json"
   ]
  },
  {
   "cell_type": "code",
   "execution_count": null,
   "metadata": {
    "tags": []
   },
   "outputs": [],
   "source": [
    "with open('./rescoring_config.json', 'w') as fp:\n",
    "    json.dump(task_config_rescoring, fp)"
   ]
  },
  {
   "cell_type": "markdown",
   "metadata": {},
   "source": [
    "#### Run rescoring job"
   ]
  },
  {
   "cell_type": "code",
   "execution_count": null,
   "metadata": {
    "tags": []
   },
   "outputs": [],
   "source": [
    "run_job(\"rescoring_config.json\")"
   ]
  }
 ],
 "metadata": {
  "kernelspec": {
   "display_name": "Python 3 (ipykernel)",
   "language": "python",
   "name": "python3"
  },
  "language_info": {
   "codemirror_mode": {
    "name": "ipython",
    "version": 3
   },
   "file_extension": ".py",
   "mimetype": "text/x-python",
   "name": "python",
   "nbconvert_exporter": "python",
   "pygments_lexer": "ipython3",
   "version": "3.9.0"
  }
 },
 "nbformat": 4,
 "nbformat_minor": 4
}
