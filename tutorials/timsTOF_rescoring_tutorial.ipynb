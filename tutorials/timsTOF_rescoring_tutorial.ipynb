{
 "cells": [
  {
   "cell_type": "markdown",
   "metadata": {},
   "source": [
    "# Rescoring of timsTOF data using Oktoberfest\n",
    "\n",
    "This notebook provides an overview of rescoring timsTOF data in Oktoberfest. The total runtime including file download (12 minutes, only once) and rescoring (20 minutes) should take around 35 minutes in total."
   ]
  },
  {
   "cell_type": "markdown",
   "metadata": {},
   "source": [
    "## 1. Import necessary python packages"
   ]
  },
  {
   "cell_type": "code",
   "execution_count": null,
   "metadata": {
    "tags": []
   },
   "outputs": [],
   "source": [
    "import os\n",
    "from oktoberfest.runner import run_job\n",
    "import json\n",
    "import urllib.request\n",
    "import shutil\n",
    "from tqdm import tqdm"
   ]
  },
  {
   "cell_type": "markdown",
   "metadata": {},
   "source": [
    "## 2. Download files from zenodo required to run different tasks\n",
    "\n",
    "The data used in this tutorial is provided in a public zenodo record. \n",
    "This is a larger dataset with 2.55GB in total. Download time should be ~15mins (averge 3MB/s)."
   ]
  },
  {
   "cell_type": "markdown",
   "metadata": {},
   "source": [
    "### Get the current directory and set the file name"
   ]
  },
  {
   "cell_type": "code",
   "execution_count": null,
   "metadata": {
    "tags": []
   },
   "outputs": [],
   "source": [
    "download_dir = os.getcwd()\n",
    "download_file = os.path.join(download_dir, \"Oktoberfest_timsTOF_input.zip\")\n",
    "url = \"https://zenodo.org/record/10868376/files/Oktoberfest_timsTOF_input.zip\"\n",
    "\n",
    "# set download to False if you already have the file and don\"t want to download again in the next step\n",
    "download = True"
   ]
  },
  {
   "cell_type": "markdown",
   "metadata": {},
   "source": [
    "### Download and extract files from zenodo to the same directory"
   ]
  },
  {
   "cell_type": "code",
   "execution_count": null,
   "metadata": {
    "tags": []
   },
   "outputs": [],
   "source": [
    "if download:\n",
    "    with tqdm(unit=\"B\", total=2160299072, unit_scale=True, unit_divisor=1000, miniters=1, desc=url.split(\"/\")[-1]) as t:\n",
    "        urllib.request.urlretrieve(url=url, filename=download_file, reporthook=lambda blocks, block_size, _: t.update(blocks * block_size - t.n))\n",
    "    shutil.unpack_archive(download_file, download_dir)"
   ]
  },
  {
   "cell_type": "markdown",
   "metadata": {},
   "source": [
    "### Check downloaded files"
   ]
  },
  {
   "cell_type": "code",
   "execution_count": null,
   "metadata": {
    "tags": []
   },
   "outputs": [],
   "source": [
    "input_dir = download_file[:-4]\n",
    "print(f\"Downloaded data is stored in {input_dir}\\nContents:\")\n",
    "os.listdir(input_dir)"
   ]
  },
  {
   "cell_type": "markdown",
   "metadata": {},
   "source": [
    "## 3. Rescoring\n",
    "\n",
    "Rescoring involves CE calibration, after which predictions with the optimal CE are retrieved. This takes around 25 minutes, of which 15 minutes are file transformation / MS2 spectra aggregation (only once). In subsequent runs, runtime decreases to 10 minutes accordingly."
   ]
  },
  {
   "cell_type": "markdown",
   "metadata": {},
   "source": [
    "### Generate config file"
   ]
  },
  {
   "cell_type": "code",
   "execution_count": null,
   "metadata": {
    "tags": []
   },
   "outputs": [],
   "source": [
    "task_config_rescoring = {\n",
    "    \"type\": \"Rescoring\",\n",
    "    \"tag\": \"\",\n",
    "    \"inputs\":{\n",
    "        \"search_results\": input_dir + \"/txt\",\n",
    "        \"search_results_type\": \"Maxquant\",\n",
    "        \"spectra\": input_dir,\n",
    "        \"spectra_type\": \"d\"\n",
    "    },\n",
    "    \"output\": \"./timstof_out\",\n",
    "    \"models\": {\n",
    "        \"intensity\": \"Prosit_2023_intensity_timsTOF\",\n",
    "        \"irt\": \"Prosit_2019_irt\"\n",
    "    },\n",
    "    \"prediction_server\": \"koina.wilhelmlab.org:443\",\n",
    "    \"ssl\": True,\n",
    "    \"thermoExe\": \"ThermoRawFileParser.exe\",\n",
    "    \"numThreads\": 1,\n",
    "    \"fdr_estimation_method\": \"percolator\",\n",
    "    \"regressionMethod\": \"spline\",\n",
    "    \"allFeatures\": False,\n",
    "    \"massTolerance\": 40,\n",
    "    \"unitMassTolerance\": \"ppm\",\n",
    "    \"ce_alignment_options\": {\n",
    "        \"ce_range\": [\n",
    "            5,\n",
    "            45\n",
    "        ],\n",
    "        \"use_ransac_model\": True\n",
    "    }\n",
    "}"
   ]
  },
  {
   "cell_type": "markdown",
   "metadata": {},
   "source": [
    "### Save the config file"
   ]
  },
  {
   "cell_type": "code",
   "execution_count": null,
   "metadata": {
    "tags": []
   },
   "outputs": [],
   "source": [
    "with open(\"./rescoring_config.json\", \"w\") as fp:\n",
    "    json.dump(task_config_rescoring, fp)"
   ]
  },
  {
   "cell_type": "markdown",
   "metadata": {},
   "source": [
    "### Start rescoring"
   ]
  },
  {
   "cell_type": "code",
   "execution_count": null,
   "metadata": {
    "tags": []
   },
   "outputs": [],
   "source": [
    "run_job(\"./rescoring_config.json\")"
   ]
  },
  {
   "cell_type": "markdown",
   "metadata": {},
   "source": [
    "### Check the results\n",
    "\n",
    "The results are written to the output folder specified in the config file. CE alignment, the distribution of percolator scores for targets and decoys when rescoring with and without Prosit-derived features, as well as PSMs and peptides below 1%FDR gained, shared and lost between when rescoring with Prosit-derived features versus without are also shown in the above cell to provide a general overview.\n",
    "\n",
    "The expected result should show:\n",
    "\n",
    "1. CE alignment: For precursor charge state 1-4 (scatter plots), there is a linear relation between the delta in CE (difference between reported and best CE as defined by providing the highest spectral angle for predictions). That means, with increasing precursor mass, the delta decreases.\n",
    "2. Target-Decoy percolator score distribution: Predicting with Prosit-derived features (along the y-axis of the joint plot) shows a bimodal distribution for targets, that separates what is expected to be true positives from false positives. The latter follow the decoy distribution very well, which indiciates that percolator's rescoring worked well according to FDR estimation using the target-decoy approach. Rescoring without Prosit-derived features (along the x-axis) shows poorer separation, leading to less target PSMs / peptides retained below a 1%FDR cutoff (green dots not above a percolator score of 0, as indicated by the red line) compared to rescoring with Prosit-derived features.\n",
    "3. Lost-common-gained PSMS and peptides: To quantify how many PSMs and peptides below 1%FDR are lost, common and gained when rescoring with Prosit-derived features versus rescoring without, the stacked barplots are used. You should see approximately 80% increase in PSMs peptides below 1% FDR. These are 3570 common and 2852 gained peptides, and 4379 common and 3581 gained PSMs. At the same time, the low number of lost PSMs (55) and peptides (47) can be used as another quality control to show that rescoring with Prosit-derived features improves the overall number without losing what would be there with features including the search engine derived score. The exact numbers may vary based on percolator's random initialization."
   ]
  },
  {
   "cell_type": "code",
   "execution_count": null,
   "metadata": {},
   "outputs": [],
   "source": []
  }
 ],
 "metadata": {
  "kernelspec": {
   "display_name": "Python 3 (ipykernel)",
   "language": "python",
   "name": "python3"
  },
  "language_info": {
   "codemirror_mode": {
    "name": "ipython",
    "version": 3
   },
   "file_extension": ".py",
   "mimetype": "text/x-python",
   "name": "python",
   "nbconvert_exporter": "python",
   "pygments_lexer": "ipython3",
   "version": "3.10.0"
  }
 },
 "nbformat": 4,
 "nbformat_minor": 4
}
