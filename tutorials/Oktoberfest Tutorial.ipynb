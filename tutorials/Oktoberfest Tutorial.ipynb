{
 "cells": [
  {
   "cell_type": "markdown",
   "metadata": {},
   "source": [
    "# Running Oktoberfest"
   ]
  },
  {
   "cell_type": "markdown",
   "metadata": {},
   "source": [
    "## 1- Import necessary python packages"
   ]
  },
  {
   "cell_type": "code",
   "execution_count": 1,
   "metadata": {
    "tags": []
   },
   "outputs": [],
   "source": [
    "import os\n",
    "from oktoberfest.runner import run_job\n",
    "import json\n",
    "import urllib.request\n",
    "import shutil\n",
    "from tqdm import tqdm\n",
    "%load_ext autoreload\n",
    "%autoreload 2"
   ]
  },
  {
   "cell_type": "markdown",
   "metadata": {},
   "source": [
    "## 2- Download files from zenodo required to run different tasks"
   ]
  },
  {
   "cell_type": "markdown",
   "metadata": {},
   "source": [
    "### A- Get the current directory and set the file name"
   ]
  },
  {
   "cell_type": "code",
   "execution_count": 2,
   "metadata": {
    "tags": []
   },
   "outputs": [],
   "source": [
    "download_dir = os.getcwd()\n",
    "download_file = os.path.join(download_dir, 'Oktoberfest_input.zip')\n",
    "url = 'https://zenodo.org/record/7613029/files/Oktoberfest_input.zip'\n",
    "\n",
    "download = False  # set this to false if you already have the file and don't want to download again in the next step"
   ]
  },
  {
   "cell_type": "markdown",
   "metadata": {},
   "source": [
    "### B- Download and extract files from zenodo to the same directory"
   ]
  },
  {
   "cell_type": "code",
   "execution_count": 3,
   "metadata": {
    "tags": []
   },
   "outputs": [],
   "source": [
    "if download:\n",
    "    with tqdm(unit=\"B\", total=2739196307, unit_scale=True, unit_divisor=1024, miniters=1, desc=url.split(\"/\")[-1]) as t:\n",
    "        urllib.request.urlretrieve(url=url, filename=download_file, reporthook=lambda blocks, block_size, _: t.update(blocks * block_size - t.n))\n",
    "    shutil.unpack_archive(download_file, download_dir)"
   ]
  },
  {
   "cell_type": "markdown",
   "metadata": {},
   "source": [
    "### C- Check downloaded files"
   ]
  },
  {
   "cell_type": "code",
   "execution_count": 4,
   "metadata": {
    "tags": []
   },
   "outputs": [
    {
     "name": "stdout",
     "output_type": "stream",
     "text": [
      "Downloaded data is stored in /home/karim/projects/oktoberfest/tutorials/Oktoberfest_input\n",
      "Contents:\n"
     ]
    },
    {
     "data": {
      "text/plain": [
       "['config_files',\n",
       " 'GN20170722_SK_HLA_G0103_R1_02.raw',\n",
       " 'msms.txt',\n",
       " 'GN20170722_SK_HLA_G0103_R2_01.raw',\n",
       " 'GN20170722_SK_HLA_G0103_R2_02.raw',\n",
       " 'GN20170722_SK_HLA_G0103_R1_01.raw',\n",
       " 'peptides_spectral_library.csv']"
      ]
     },
     "execution_count": 4,
     "metadata": {},
     "output_type": "execute_result"
    }
   ],
   "source": [
    "input_dir = download_file[:-4]\n",
    "print(f'Downloaded data is stored in {input_dir}\\nContents:')\n",
    "os.listdir(input_dir)"
   ]
  },
  {
   "cell_type": "markdown",
   "metadata": {},
   "source": [
    "## 3- Running Different Tasks"
   ]
  },
  {
   "cell_type": "markdown",
   "metadata": {},
   "source": [
    "### A- Spectral Library Generation"
   ]
  },
  {
   "cell_type": "markdown",
   "metadata": {},
   "source": [
    "#### Generate config file"
   ]
  },
  {
   "cell_type": "code",
   "execution_count": 5,
   "metadata": {
    "tags": []
   },
   "outputs": [],
   "source": [
    "task_config_spectral_lib = {\n",
    "    \"type\": \"SpectralLibraryGeneration\",\n",
    "    \"tag\": \"\",\n",
    "    \"inputs\": {\n",
    "            \"search_results\": input_dir + \"/msms.txt\",\n",
    "            \"search_results_type\": \"Sage\",\n",
    "            \"library_input\": input_dir + \"/peptides_spectral_library.csv\",\n",
    "            \"library_input_type\": \"peptides\"\n",
    "        },\n",
    "    \"output\": \"./out\",\n",
    "    \"models\":{\n",
    "        \"intensity\": \"Prosit_2020_intensity_HCD\",\n",
    "        \"irt\": \"Prosit_2019_irt\"\n",
    "    },\n",
    "    \"outputFormat\": \"spectronaut\",\n",
    "    \"prediction_server\": \"koina.proteomicsdb.org:443\",\n",
    "    \"ssl\": True,\n",
    "}"
   ]
  },
  {
   "cell_type": "markdown",
   "metadata": {},
   "source": [
    "#### Save config as json"
   ]
  },
  {
   "cell_type": "code",
   "execution_count": 6,
   "metadata": {
    "tags": []
   },
   "outputs": [],
   "source": [
    "with open('./spectral_library_config.json', 'w') as fp:\n",
    "    json.dump(task_config_spectral_lib, fp)"
   ]
  },
  {
   "cell_type": "markdown",
   "metadata": {},
   "source": [
    "#### Run spectral library generation job"
   ]
  },
  {
   "cell_type": "code",
   "execution_count": 7,
   "metadata": {
    "tags": []
   },
   "outputs": [
    {
     "name": "stdout",
     "output_type": "stream",
     "text": [
      "2023-10-26 16:23:17,705 - INFO - oktoberfest.utils.config::read Reading configuration from ./spectral_library_config.json\n",
      "2023-10-26 16:23:17,706 - INFO - oktoberfest.runner::run_job Oktoberfest version 0.5.0\n",
      "Copyright 2023, Wilhelmlab at Technical University of Munich\n",
      "2023-10-26 16:23:17,707 - INFO - oktoberfest.runner::run_job Job executed with the following config:\n",
      "2023-10-26 16:23:17,707 - INFO - oktoberfest.runner::run_job {\n",
      "    \"type\": \"SpectralLibraryGeneration\",\n",
      "    \"tag\": \"\",\n",
      "    \"inputs\": {\n",
      "        \"search_results\": \"/home/karim/projects/oktoberfest/tutorials/Oktoberfest_input/msms.txt\",\n",
      "        \"search_results_type\": \"Sage\",\n",
      "        \"library_input\": \"/home/karim/projects/oktoberfest/tutorials/Oktoberfest_input/peptides_spectral_library.csv\",\n",
      "        \"library_input_type\": \"peptides\"\n",
      "    },\n",
      "    \"output\": \"./out\",\n",
      "    \"models\": {\n",
      "        \"intensity\": \"Prosit_2020_intensity_HCD\",\n",
      "        \"irt\": \"Prosit_2019_irt\"\n",
      "    },\n",
      "    \"outputFormat\": \"spectronaut\",\n",
      "    \"prediction_server\": \"koina.proteomicsdb.org:443\",\n",
      "    \"ssl\": true\n",
      "}\n",
      "2023-10-26 16:23:17,707 - INFO - oktoberfest.utils.config::read Reading configuration from ./spectral_library_config.json\n",
      "2023-10-26 16:23:17,712 - INFO - oktoberfest.preprocessing.preprocessing::process_and_filter_spectra_data No of sequences before Filtering is 5\n",
      "2023-10-26 16:23:17,714 - INFO - oktoberfest.preprocessing.preprocessing::process_and_filter_spectra_data No of sequences after Filtering is 5\n",
      "2023-10-26 16:23:17,715 - INFO - oktoberfest.runner::generate_spectral_lib Last Batch from index 0\n",
      "2023-10-26 16:23:17,715 - INFO - oktoberfest.runner::generate_spectral_lib Batch of size 5\n"
     ]
    },
    {
     "data": {
      "application/vnd.jupyter.widget-view+json": {
       "model_id": "e3e519a5e65a4065a9cd1a41951e9f0c",
       "version_major": 2,
       "version_minor": 0
      },
      "text/plain": [
       "Inferring predictions for 5 spectra with batch site 1000:   0%|          | 0/1 [00:00<?, ?it/s]"
      ]
     },
     "metadata": {},
     "output_type": "display_data"
    },
    {
     "data": {
      "application/vnd.jupyter.widget-view+json": {
       "model_id": "eea0d0d7c26b400fafa5e5dbc6f5c887",
       "version_major": 2,
       "version_minor": 0
      },
      "text/plain": [
       "Inferring predictions for 5 spectra with batch site 1000:   0%|          | 0/1 [00:00<?, ?it/s]"
      ]
     },
     "metadata": {},
     "output_type": "display_data"
    }
   ],
   "source": [
    "run_job(\"./spectral_library_config.json\")"
   ]
  },
  {
   "cell_type": "markdown",
   "metadata": {},
   "source": [
    "### B- CE Calibration"
   ]
  },
  {
   "cell_type": "markdown",
   "metadata": {},
   "source": [
    "#### Generate config file"
   ]
  },
  {
   "cell_type": "code",
   "execution_count": 13,
   "metadata": {
    "tags": []
   },
   "outputs": [],
   "source": [
    "task_config_ce_calibration = {\n",
    "    \"type\": \"CollisionEnergyCalibration\",\n",
    "    \"tag\": \"\",\n",
    "    \"inputs\":{\n",
    "        \"search_results\": input_dir + \"/msms.txt\",\n",
    "        \"search_results_type\": \"Sage\",\n",
    "        \"spectra\": input_dir,\n",
    "        \"spectra_type\": \"raw\"\n",
    "    },\n",
    "    \"output\": \"./out\",\n",
    "    \"models\": {\n",
    "        \"intensity\": \"Prosit_2020_intensity_HCD\",\n",
    "        \"irt\": \"Prosit_2019_irt\"\n",
    "    },\n",
    "    \"prediction_server\": \"koina.proteomicsdb.org:443\",\n",
    "    \"ssl\": True,\n",
    "    \"thermoExe\": \"/home/karim/projects/essentials/therm/ThermoRawFileParser.exe\",\n",
    "    \"massTolerance\": 20,\n",
    "    \"unitMassTolerance\": \"ppm\",\n",
    "    \"numThreads\": 1\n",
    "}"
   ]
  },
  {
   "cell_type": "markdown",
   "metadata": {},
   "source": [
    "#### Save config as json"
   ]
  },
  {
   "cell_type": "code",
   "execution_count": 14,
   "metadata": {
    "tags": []
   },
   "outputs": [],
   "source": [
    "with open('./ce_calibration_config.json', 'w') as fp:\n",
    "    json.dump(task_config_ce_calibration, fp)"
   ]
  },
  {
   "cell_type": "markdown",
   "metadata": {},
   "source": [
    "#### Run ce calibration job"
   ]
  },
  {
   "cell_type": "code",
   "execution_count": 16,
   "metadata": {
    "tags": []
   },
   "outputs": [
    {
     "name": "stdout",
     "output_type": "stream",
     "text": [
      "2023-10-26 16:49:15,954 - INFO - oktoberfest.utils.config::read Reading configuration from ./ce_calibration_config.json\n",
      "2023-10-26 16:49:15,956 - INFO - oktoberfest.runner::run_job Oktoberfest version 0.5.0\n",
      "Copyright 2023, Wilhelmlab at Technical University of Munich\n",
      "2023-10-26 16:49:15,956 - INFO - oktoberfest.runner::run_job Job executed with the following config:\n",
      "2023-10-26 16:49:15,957 - INFO - oktoberfest.runner::run_job {\n",
      "    \"type\": \"CollisionEnergyCalibration\",\n",
      "    \"tag\": \"\",\n",
      "    \"inputs\": {\n",
      "        \"search_results\": \"/home/karim/projects/oktoberfest/tutorials/Oktoberfest_input/msms.txt\",\n",
      "        \"search_results_type\": \"Sage\",\n",
      "        \"spectra\": \"/home/karim/projects/oktoberfest/tutorials/Oktoberfest_input\",\n",
      "        \"spectra_type\": \"raw\"\n",
      "    },\n",
      "    \"output\": \"./out\",\n",
      "    \"models\": {\n",
      "        \"intensity\": \"Prosit_2020_intensity_HCD\",\n",
      "        \"irt\": \"Prosit_2019_irt\"\n",
      "    },\n",
      "    \"prediction_server\": \"koina.proteomicsdb.org:443\",\n",
      "    \"ssl\": true,\n",
      "    \"thermoExe\": \"/home/karim/projects/essentials/therm/ThermoRawFileParser.exe\",\n",
      "    \"massTolerance\": 20,\n",
      "    \"unitMassTolerance\": \"ppm\",\n",
      "    \"numThreads\": 1\n",
      "}\n",
      "2023-10-26 16:49:15,957 - INFO - oktoberfest.utils.config::read Reading configuration from ./ce_calibration_config.json\n",
      "2023-10-26 16:49:15,958 - INFO - oktoberfest.runner::run_ce_calibration Found 4 files in the spectra directory.\n",
      "2023-10-26 16:49:15,958 - INFO - oktoberfest.runner::_preprocess Converting search results from /home/karim/projects/oktoberfest/tutorials/Oktoberfest_input/msms.txt to internal search result.\n",
      "2023-10-26 16:49:15,959 - INFO - spectrum_io.search_result.search_results::generate_internal Found search results in internal format at out/msms/msms.prosit, skipping conversion\n",
      "2023-10-26 16:49:16,226 - INFO - oktoberfest.runner::_preprocess Read 88504 PSMs from out/msms/msms.prosit\n",
      "2023-10-26 16:49:16,311 - INFO - oktoberfest.preprocessing.preprocessing::split_search Creating split msms.txt file out/msms/GN20170722_SK_HLA_G0103_R1_02.rescore\n",
      "2023-10-26 16:49:16,494 - INFO - oktoberfest.preprocessing.preprocessing::split_search Creating split msms.txt file out/msms/GN20170722_SK_HLA_G0103_R2_01.rescore\n",
      "2023-10-26 16:49:16,626 - INFO - oktoberfest.preprocessing.preprocessing::split_search Creating split msms.txt file out/msms/GN20170722_SK_HLA_G0103_R2_02.rescore\n",
      "2023-10-26 16:49:16,737 - INFO - oktoberfest.preprocessing.preprocessing::split_search Creating split msms.txt file out/msms/GN20170722_SK_HLA_G0103_R1_01.rescore\n",
      "2023-10-26 16:49:16,927 - INFO - spectrum_io.raw.thermo_raw::convert_raw_mzml Found converted file at out/mzML/GN20170722_SK_HLA_G0103_R1_02.mzML, skipping conversion\n",
      "2023-10-26 16:49:16,942 - INFO - spectrum_io.raw.msraw::read_mzml Reading mzML file: out/mzML/GN20170722_SK_HLA_G0103_R1_02.mzML\n"
     ]
    },
    {
     "data": {
      "application/vnd.jupyter.widget-view+json": {
       "model_id": "55e2278078074766b3bcb0891eb00fdf",
       "version_major": 2,
       "version_minor": 0
      },
      "text/plain": [
       "Waiting for tasks to complete:   0%|          | 0/4 [00:00<?, ?it/s]"
      ]
     },
     "metadata": {},
     "output_type": "display_data"
    },
    {
     "name": "stdout",
     "output_type": "stream",
     "text": [
      "2023-10-26 16:49:37,224 - INFO - oktoberfest.preprocessing.preprocessing::merge_spectra_and_peptides Merging rawfile and search result\n",
      "2023-10-26 16:49:37,256 - INFO - oktoberfest.preprocessing.preprocessing::merge_spectra_and_peptides There are 26718 matched identifications\n",
      "2023-10-26 16:49:37,262 - INFO - oktoberfest.preprocessing.preprocessing::annotate_spectral_library Annotating spectra...\n",
      "2023-10-26 14:49:37,434 - INFO - spectrum_fundamentals.fragments::_get_modifications Error Modification [+57.0214] not found\n",
      "2023-10-26 16:49:37,436 - ERROR - oktoberfest.utils.multiprocessing_pool::check_pool Caught Unknown exception, terminating workers\n"
     ]
    },
    {
     "name": "stderr",
     "output_type": "stream",
     "text": [
      "2023-10-26 16:49:37,436 - ERROR - oktoberfest.utils.multiprocessing_pool::check_pool Caught Unknown exception, terminating workers\n"
     ]
    },
    {
     "name": "stdout",
     "output_type": "stream",
     "text": [
      "2023-10-26 16:49:37,437 - ERROR - oktoberfest.utils.multiprocessing_pool::check_pool multiprocessing.pool.RemoteTraceback: \n",
      "\"\"\"\n",
      "Traceback (most recent call last):\n",
      "  File \"/home/karim/miniconda3/envs/oktoberfest/lib/python3.10/multiprocessing/pool.py\", line 125, in worker\n",
      "    result = (True, func(*args, **kwds))\n",
      "  File \"/home/karim/projects/oktoberfest/oktoberfest/runner.py\", line 211, in _ce_calib\n",
      "    library = _annotate_and_get_library(spectra_file, config)\n",
      "  File \"/home/karim/projects/oktoberfest/oktoberfest/runner.py\", line 82, in _annotate_and_get_library\n",
      "    pp.annotate_spectral_library(library, mass_tol=config.mass_tolerance, unit_mass_tol=config.unit_mass_tolerance)\n",
      "  File \"/home/karim/projects/oktoberfest/oktoberfest/preprocessing/preprocessing.py\", line 371, in annotate_spectral_library\n",
      "    df_annotated_spectra = annotate_spectra(psms.spectra_data, mass_tol, unit_mass_tol)\n",
      "  File \"/home/karim/projects/spectrum_fundamentals/spectrum_fundamentals/annotation/annotation.py\", line 146, in annotate_spectra\n",
      "    results = parallel_annotate(row, index_columns, mass_tolerance, unit_mass_tolerance)\n",
      "  File \"/home/karim/projects/spectrum_fundamentals/spectrum_fundamentals/annotation/annotation.py\", line 238, in parallel_annotate\n",
      "    fragments_meta_data, tmt_n_term, unmod_sequence, calc_mass = initialize_peaks(\n",
      "  File \"/home/karim/projects/spectrum_fundamentals/spectrum_fundamentals/fragments.py\", line 131, in initialize_peaks\n",
      "    raise AssertionError(\"Modification not found.\")\n",
      "AssertionError: Modification not found.\n",
      "\"\"\"\n",
      "\n",
      "The above exception was the direct cause of the following exception:\n",
      "\n",
      "Traceback (most recent call last):\n",
      "  File \"/home/karim/projects/oktoberfest/oktoberfest/utils/multiprocessing_pool.py\", line 43, in check_pool\n",
      "    outputs.append(res.get(timeout=10000))  # 10000 seconds = ~3 hours\n",
      "  File \"/home/karim/miniconda3/envs/oktoberfest/lib/python3.10/multiprocessing/pool.py\", line 771, in get\n",
      "    raise self._value\n",
      "AssertionError: Modification not found.\n",
      "\n"
     ]
    },
    {
     "name": "stderr",
     "output_type": "stream",
     "text": [
      "2023-10-26 16:49:37,437 - ERROR - oktoberfest.utils.multiprocessing_pool::check_pool multiprocessing.pool.RemoteTraceback: \n",
      "\"\"\"\n",
      "Traceback (most recent call last):\n",
      "  File \"/home/karim/miniconda3/envs/oktoberfest/lib/python3.10/multiprocessing/pool.py\", line 125, in worker\n",
      "    result = (True, func(*args, **kwds))\n",
      "  File \"/home/karim/projects/oktoberfest/oktoberfest/runner.py\", line 211, in _ce_calib\n",
      "    library = _annotate_and_get_library(spectra_file, config)\n",
      "  File \"/home/karim/projects/oktoberfest/oktoberfest/runner.py\", line 82, in _annotate_and_get_library\n",
      "    pp.annotate_spectral_library(library, mass_tol=config.mass_tolerance, unit_mass_tol=config.unit_mass_tolerance)\n",
      "  File \"/home/karim/projects/oktoberfest/oktoberfest/preprocessing/preprocessing.py\", line 371, in annotate_spectral_library\n",
      "    df_annotated_spectra = annotate_spectra(psms.spectra_data, mass_tol, unit_mass_tol)\n",
      "  File \"/home/karim/projects/spectrum_fundamentals/spectrum_fundamentals/annotation/annotation.py\", line 146, in annotate_spectra\n",
      "    results = parallel_annotate(row, index_columns, mass_tolerance, unit_mass_tolerance)\n",
      "  File \"/home/karim/projects/spectrum_fundamentals/spectrum_fundamentals/annotation/annotation.py\", line 238, in parallel_annotate\n",
      "    fragments_meta_data, tmt_n_term, unmod_sequence, calc_mass = initialize_peaks(\n",
      "  File \"/home/karim/projects/spectrum_fundamentals/spectrum_fundamentals/fragments.py\", line 131, in initialize_peaks\n",
      "    raise AssertionError(\"Modification not found.\")\n",
      "AssertionError: Modification not found.\n",
      "\"\"\"\n",
      "\n",
      "The above exception was the direct cause of the following exception:\n",
      "\n",
      "Traceback (most recent call last):\n",
      "  File \"/home/karim/projects/oktoberfest/oktoberfest/utils/multiprocessing_pool.py\", line 43, in check_pool\n",
      "    outputs.append(res.get(timeout=10000))  # 10000 seconds = ~3 hours\n",
      "  File \"/home/karim/miniconda3/envs/oktoberfest/lib/python3.10/multiprocessing/pool.py\", line 771, in get\n",
      "    raise self._value\n",
      "AssertionError: Modification not found.\n",
      "\n"
     ]
    },
    {
     "name": "stdout",
     "output_type": "stream",
     "text": [
      "2023-10-26 16:49:37,439 - ERROR - oktoberfest.utils.multiprocessing_pool::check_pool Modification not found.\n"
     ]
    },
    {
     "name": "stderr",
     "output_type": "stream",
     "text": [
      "2023-10-26 16:49:37,439 - ERROR - oktoberfest.utils.multiprocessing_pool::check_pool Modification not found.\n"
     ]
    },
    {
     "ename": "AttributeError",
     "evalue": "'tuple' object has no attribute 'tb_frame'",
     "output_type": "error",
     "traceback": [
      "\u001b[0;31m---------------------------------------------------------------------------\u001b[0m",
      "\u001b[0;31mRemoteTraceback\u001b[0m                           Traceback (most recent call last)",
      "\u001b[0;31mRemoteTraceback\u001b[0m: \n\"\"\"\nTraceback (most recent call last):\n  File \"/home/karim/miniconda3/envs/oktoberfest/lib/python3.10/multiprocessing/pool.py\", line 125, in worker\n    result = (True, func(*args, **kwds))\n  File \"/home/karim/projects/oktoberfest/oktoberfest/runner.py\", line 211, in _ce_calib\n    library = _annotate_and_get_library(spectra_file, config)\n  File \"/home/karim/projects/oktoberfest/oktoberfest/runner.py\", line 82, in _annotate_and_get_library\n    pp.annotate_spectral_library(library, mass_tol=config.mass_tolerance, unit_mass_tol=config.unit_mass_tolerance)\n  File \"/home/karim/projects/oktoberfest/oktoberfest/preprocessing/preprocessing.py\", line 371, in annotate_spectral_library\n    df_annotated_spectra = annotate_spectra(psms.spectra_data, mass_tol, unit_mass_tol)\n  File \"/home/karim/projects/spectrum_fundamentals/spectrum_fundamentals/annotation/annotation.py\", line 146, in annotate_spectra\n    results = parallel_annotate(row, index_columns, mass_tolerance, unit_mass_tolerance)\n  File \"/home/karim/projects/spectrum_fundamentals/spectrum_fundamentals/annotation/annotation.py\", line 238, in parallel_annotate\n    fragments_meta_data, tmt_n_term, unmod_sequence, calc_mass = initialize_peaks(\n  File \"/home/karim/projects/spectrum_fundamentals/spectrum_fundamentals/fragments.py\", line 131, in initialize_peaks\n    raise AssertionError(\"Modification not found.\")\nAssertionError: Modification not found.\n\"\"\"",
      "\nThe above exception was the direct cause of the following exception:\n",
      "\u001b[0;31mAssertionError\u001b[0m                            Traceback (most recent call last)",
      "File \u001b[0;32m~/projects/oktoberfest/oktoberfest/utils/multiprocessing_pool.py:43\u001b[0m, in \u001b[0;36mJobPool.check_pool\u001b[0;34m(self)\u001b[0m\n\u001b[1;32m     42\u001b[0m \u001b[38;5;28;01mfor\u001b[39;00m res \u001b[38;5;129;01min\u001b[39;00m \u001b[38;5;28mself\u001b[39m\u001b[38;5;241m.\u001b[39mresults:\n\u001b[0;32m---> 43\u001b[0m     outputs\u001b[38;5;241m.\u001b[39mappend(\u001b[43mres\u001b[49m\u001b[38;5;241;43m.\u001b[39;49m\u001b[43mget\u001b[49m\u001b[43m(\u001b[49m\u001b[43mtimeout\u001b[49m\u001b[38;5;241;43m=\u001b[39;49m\u001b[38;5;241;43m10000\u001b[39;49m\u001b[43m)\u001b[49m)  \u001b[38;5;66;03m# 10000 seconds = ~3 hours\u001b[39;00m\n\u001b[1;32m     44\u001b[0m     progress\u001b[38;5;241m.\u001b[39mupdate(\u001b[38;5;241m1\u001b[39m)\n",
      "File \u001b[0;32m~/miniconda3/envs/oktoberfest/lib/python3.10/multiprocessing/pool.py:771\u001b[0m, in \u001b[0;36mApplyResult.get\u001b[0;34m(self, timeout)\u001b[0m\n\u001b[1;32m    770\u001b[0m \u001b[38;5;28;01melse\u001b[39;00m:\n\u001b[0;32m--> 771\u001b[0m     \u001b[38;5;28;01mraise\u001b[39;00m \u001b[38;5;28mself\u001b[39m\u001b[38;5;241m.\u001b[39m_value\n",
      "\u001b[0;31mAssertionError\u001b[0m: Modification not found.",
      "\nDuring handling of the above exception, another exception occurred:\n",
      "\u001b[0;31mSystemExit\u001b[0m                                Traceback (most recent call last)",
      "    \u001b[0;31m[... skipping hidden 1 frame]\u001b[0m\n",
      "Cell \u001b[0;32mIn[16], line 1\u001b[0m\n\u001b[0;32m----> 1\u001b[0m \u001b[43mrun_job\u001b[49m\u001b[43m(\u001b[49m\u001b[38;5;124;43m\"\u001b[39;49m\u001b[38;5;124;43m./ce_calibration_config.json\u001b[39;49m\u001b[38;5;124;43m\"\u001b[39;49m\u001b[43m)\u001b[49m\n",
      "File \u001b[0;32m~/projects/oktoberfest/oktoberfest/runner.py:393\u001b[0m, in \u001b[0;36mrun_job\u001b[0;34m(config_path)\u001b[0m\n\u001b[1;32m    392\u001b[0m \u001b[38;5;28;01melif\u001b[39;00m job_type \u001b[38;5;241m==\u001b[39m \u001b[38;5;124m\"\u001b[39m\u001b[38;5;124mCollisionEnergyCalibration\u001b[39m\u001b[38;5;124m\"\u001b[39m:\n\u001b[0;32m--> 393\u001b[0m     \u001b[43mrun_ce_calibration\u001b[49m\u001b[43m(\u001b[49m\u001b[43mconfig_path\u001b[49m\u001b[43m)\u001b[49m\n\u001b[1;32m    394\u001b[0m \u001b[38;5;28;01melif\u001b[39;00m job_type \u001b[38;5;241m==\u001b[39m \u001b[38;5;124m\"\u001b[39m\u001b[38;5;124mRescoring\u001b[39m\u001b[38;5;124m\"\u001b[39m:\n",
      "File \u001b[0;32m~/projects/oktoberfest/oktoberfest/runner.py:247\u001b[0m, in \u001b[0;36mrun_ce_calibration\u001b[0;34m(config_path)\u001b[0m\n\u001b[1;32m    246\u001b[0m     processing_pool\u001b[38;5;241m.\u001b[39mapply_async(_ce_calib, [spectra_file, config])\n\u001b[0;32m--> 247\u001b[0m \u001b[43mprocessing_pool\u001b[49m\u001b[38;5;241;43m.\u001b[39;49m\u001b[43mcheck_pool\u001b[49m\u001b[43m(\u001b[49m\u001b[43m)\u001b[49m\n",
      "File \u001b[0;32m~/projects/oktoberfest/oktoberfest/utils/multiprocessing_pool.py:60\u001b[0m, in \u001b[0;36mJobPool.check_pool\u001b[0;34m(self)\u001b[0m\n\u001b[1;32m     59\u001b[0m \u001b[38;5;28mself\u001b[39m\u001b[38;5;241m.\u001b[39mpool\u001b[38;5;241m.\u001b[39mjoin()\n\u001b[0;32m---> 60\u001b[0m \u001b[43msys\u001b[49m\u001b[38;5;241;43m.\u001b[39;49m\u001b[43mexit\u001b[49m\u001b[43m(\u001b[49m\u001b[38;5;241;43m1\u001b[39;49m\u001b[43m)\u001b[49m\n",
      "\u001b[0;31mSystemExit\u001b[0m: 1",
      "\nDuring handling of the above exception, another exception occurred:\n",
      "\u001b[0;31mAttributeError\u001b[0m                            Traceback (most recent call last)",
      "    \u001b[0;31m[... skipping hidden 1 frame]\u001b[0m\n",
      "File \u001b[0;32m~/miniconda3/envs/oktoberfest/lib/python3.10/site-packages/IPython/core/interactiveshell.py:2097\u001b[0m, in \u001b[0;36mInteractiveShell.showtraceback\u001b[0;34m(self, exc_tuple, filename, tb_offset, exception_only, running_compiled_code)\u001b[0m\n\u001b[1;32m   2094\u001b[0m \u001b[38;5;28;01mif\u001b[39;00m exception_only:\n\u001b[1;32m   2095\u001b[0m     stb \u001b[38;5;241m=\u001b[39m [\u001b[38;5;124m'\u001b[39m\u001b[38;5;124mAn exception has occurred, use \u001b[39m\u001b[38;5;124m%\u001b[39m\u001b[38;5;124mtb to see \u001b[39m\u001b[38;5;124m'\u001b[39m\n\u001b[1;32m   2096\u001b[0m            \u001b[38;5;124m'\u001b[39m\u001b[38;5;124mthe full traceback.\u001b[39m\u001b[38;5;130;01m\\n\u001b[39;00m\u001b[38;5;124m'\u001b[39m]\n\u001b[0;32m-> 2097\u001b[0m     stb\u001b[38;5;241m.\u001b[39mextend(\u001b[38;5;28;43mself\u001b[39;49m\u001b[38;5;241;43m.\u001b[39;49m\u001b[43mInteractiveTB\u001b[49m\u001b[38;5;241;43m.\u001b[39;49m\u001b[43mget_exception_only\u001b[49m\u001b[43m(\u001b[49m\u001b[43metype\u001b[49m\u001b[43m,\u001b[49m\n\u001b[1;32m   2098\u001b[0m \u001b[43m                                                     \u001b[49m\u001b[43mvalue\u001b[49m\u001b[43m)\u001b[49m)\n\u001b[1;32m   2099\u001b[0m \u001b[38;5;28;01melse\u001b[39;00m:\n\u001b[1;32m   2101\u001b[0m     \u001b[38;5;28;01mdef\u001b[39;00m \u001b[38;5;21mcontains_exceptiongroup\u001b[39m(val):\n",
      "File \u001b[0;32m~/miniconda3/envs/oktoberfest/lib/python3.10/site-packages/IPython/core/ultratb.py:710\u001b[0m, in \u001b[0;36mListTB.get_exception_only\u001b[0;34m(self, etype, value)\u001b[0m\n\u001b[1;32m    702\u001b[0m \u001b[38;5;28;01mdef\u001b[39;00m \u001b[38;5;21mget_exception_only\u001b[39m(\u001b[38;5;28mself\u001b[39m, etype, value):\n\u001b[1;32m    703\u001b[0m \u001b[38;5;250m    \u001b[39m\u001b[38;5;124;03m\"\"\"Only print the exception type and message, without a traceback.\u001b[39;00m\n\u001b[1;32m    704\u001b[0m \n\u001b[1;32m    705\u001b[0m \u001b[38;5;124;03m    Parameters\u001b[39;00m\n\u001b[0;32m   (...)\u001b[0m\n\u001b[1;32m    708\u001b[0m \u001b[38;5;124;03m    value : exception value\u001b[39;00m\n\u001b[1;32m    709\u001b[0m \u001b[38;5;124;03m    \"\"\"\u001b[39;00m\n\u001b[0;32m--> 710\u001b[0m     \u001b[38;5;28;01mreturn\u001b[39;00m \u001b[43mListTB\u001b[49m\u001b[38;5;241;43m.\u001b[39;49m\u001b[43mstructured_traceback\u001b[49m\u001b[43m(\u001b[49m\u001b[38;5;28;43mself\u001b[39;49m\u001b[43m,\u001b[49m\u001b[43m \u001b[49m\u001b[43metype\u001b[49m\u001b[43m,\u001b[49m\u001b[43m \u001b[49m\u001b[43mvalue\u001b[49m\u001b[43m)\u001b[49m\n",
      "File \u001b[0;32m~/miniconda3/envs/oktoberfest/lib/python3.10/site-packages/IPython/core/ultratb.py:568\u001b[0m, in \u001b[0;36mListTB.structured_traceback\u001b[0;34m(self, etype, evalue, etb, tb_offset, context)\u001b[0m\n\u001b[1;32m    565\u001b[0m     chained_exc_ids\u001b[38;5;241m.\u001b[39madd(\u001b[38;5;28mid\u001b[39m(exception[\u001b[38;5;241m1\u001b[39m]))\n\u001b[1;32m    566\u001b[0m     chained_exceptions_tb_offset \u001b[38;5;241m=\u001b[39m \u001b[38;5;241m0\u001b[39m\n\u001b[1;32m    567\u001b[0m     out_list \u001b[38;5;241m=\u001b[39m (\n\u001b[0;32m--> 568\u001b[0m         \u001b[38;5;28;43mself\u001b[39;49m\u001b[38;5;241;43m.\u001b[39;49m\u001b[43mstructured_traceback\u001b[49m\u001b[43m(\u001b[49m\n\u001b[1;32m    569\u001b[0m \u001b[43m            \u001b[49m\u001b[43metype\u001b[49m\u001b[43m,\u001b[49m\n\u001b[1;32m    570\u001b[0m \u001b[43m            \u001b[49m\u001b[43mevalue\u001b[49m\u001b[43m,\u001b[49m\n\u001b[1;32m    571\u001b[0m \u001b[43m            \u001b[49m\u001b[43m(\u001b[49m\u001b[43metb\u001b[49m\u001b[43m,\u001b[49m\u001b[43m \u001b[49m\u001b[43mchained_exc_ids\u001b[49m\u001b[43m)\u001b[49m\u001b[43m,\u001b[49m\u001b[43m  \u001b[49m\u001b[38;5;66;43;03m# type: ignore\u001b[39;49;00m\n\u001b[1;32m    572\u001b[0m \u001b[43m            \u001b[49m\u001b[43mchained_exceptions_tb_offset\u001b[49m\u001b[43m,\u001b[49m\n\u001b[1;32m    573\u001b[0m \u001b[43m            \u001b[49m\u001b[43mcontext\u001b[49m\u001b[43m,\u001b[49m\n\u001b[1;32m    574\u001b[0m \u001b[43m        \u001b[49m\u001b[43m)\u001b[49m\n\u001b[1;32m    575\u001b[0m         \u001b[38;5;241m+\u001b[39m chained_exception_message\n\u001b[1;32m    576\u001b[0m         \u001b[38;5;241m+\u001b[39m out_list)\n\u001b[1;32m    578\u001b[0m \u001b[38;5;28;01mreturn\u001b[39;00m out_list\n",
      "File \u001b[0;32m~/miniconda3/envs/oktoberfest/lib/python3.10/site-packages/IPython/core/ultratb.py:1435\u001b[0m, in \u001b[0;36mAutoFormattedTB.structured_traceback\u001b[0;34m(self, etype, evalue, etb, tb_offset, number_of_lines_of_context)\u001b[0m\n\u001b[1;32m   1433\u001b[0m \u001b[38;5;28;01melse\u001b[39;00m:\n\u001b[1;32m   1434\u001b[0m     \u001b[38;5;28mself\u001b[39m\u001b[38;5;241m.\u001b[39mtb \u001b[38;5;241m=\u001b[39m etb\n\u001b[0;32m-> 1435\u001b[0m \u001b[38;5;28;01mreturn\u001b[39;00m \u001b[43mFormattedTB\u001b[49m\u001b[38;5;241;43m.\u001b[39;49m\u001b[43mstructured_traceback\u001b[49m\u001b[43m(\u001b[49m\n\u001b[1;32m   1436\u001b[0m \u001b[43m    \u001b[49m\u001b[38;5;28;43mself\u001b[39;49m\u001b[43m,\u001b[49m\u001b[43m \u001b[49m\u001b[43metype\u001b[49m\u001b[43m,\u001b[49m\u001b[43m \u001b[49m\u001b[43mevalue\u001b[49m\u001b[43m,\u001b[49m\u001b[43m \u001b[49m\u001b[43metb\u001b[49m\u001b[43m,\u001b[49m\u001b[43m \u001b[49m\u001b[43mtb_offset\u001b[49m\u001b[43m,\u001b[49m\u001b[43m \u001b[49m\u001b[43mnumber_of_lines_of_context\u001b[49m\n\u001b[1;32m   1437\u001b[0m \u001b[43m\u001b[49m\u001b[43m)\u001b[49m\n",
      "File \u001b[0;32m~/miniconda3/envs/oktoberfest/lib/python3.10/site-packages/IPython/core/ultratb.py:1326\u001b[0m, in \u001b[0;36mFormattedTB.structured_traceback\u001b[0;34m(self, etype, value, tb, tb_offset, number_of_lines_of_context)\u001b[0m\n\u001b[1;32m   1323\u001b[0m mode \u001b[38;5;241m=\u001b[39m \u001b[38;5;28mself\u001b[39m\u001b[38;5;241m.\u001b[39mmode\n\u001b[1;32m   1324\u001b[0m \u001b[38;5;28;01mif\u001b[39;00m mode \u001b[38;5;129;01min\u001b[39;00m \u001b[38;5;28mself\u001b[39m\u001b[38;5;241m.\u001b[39mverbose_modes:\n\u001b[1;32m   1325\u001b[0m     \u001b[38;5;66;03m# Verbose modes need a full traceback\u001b[39;00m\n\u001b[0;32m-> 1326\u001b[0m     \u001b[38;5;28;01mreturn\u001b[39;00m \u001b[43mVerboseTB\u001b[49m\u001b[38;5;241;43m.\u001b[39;49m\u001b[43mstructured_traceback\u001b[49m\u001b[43m(\u001b[49m\n\u001b[1;32m   1327\u001b[0m \u001b[43m        \u001b[49m\u001b[38;5;28;43mself\u001b[39;49m\u001b[43m,\u001b[49m\u001b[43m \u001b[49m\u001b[43metype\u001b[49m\u001b[43m,\u001b[49m\u001b[43m \u001b[49m\u001b[43mvalue\u001b[49m\u001b[43m,\u001b[49m\u001b[43m \u001b[49m\u001b[43mtb\u001b[49m\u001b[43m,\u001b[49m\u001b[43m \u001b[49m\u001b[43mtb_offset\u001b[49m\u001b[43m,\u001b[49m\u001b[43m \u001b[49m\u001b[43mnumber_of_lines_of_context\u001b[49m\n\u001b[1;32m   1328\u001b[0m \u001b[43m    \u001b[49m\u001b[43m)\u001b[49m\n\u001b[1;32m   1329\u001b[0m \u001b[38;5;28;01melif\u001b[39;00m mode \u001b[38;5;241m==\u001b[39m \u001b[38;5;124m'\u001b[39m\u001b[38;5;124mMinimal\u001b[39m\u001b[38;5;124m'\u001b[39m:\n\u001b[1;32m   1330\u001b[0m     \u001b[38;5;28;01mreturn\u001b[39;00m ListTB\u001b[38;5;241m.\u001b[39mget_exception_only(\u001b[38;5;28mself\u001b[39m, etype, value)\n",
      "File \u001b[0;32m~/miniconda3/envs/oktoberfest/lib/python3.10/site-packages/IPython/core/ultratb.py:1173\u001b[0m, in \u001b[0;36mVerboseTB.structured_traceback\u001b[0;34m(self, etype, evalue, etb, tb_offset, number_of_lines_of_context)\u001b[0m\n\u001b[1;32m   1164\u001b[0m \u001b[38;5;28;01mdef\u001b[39;00m \u001b[38;5;21mstructured_traceback\u001b[39m(\n\u001b[1;32m   1165\u001b[0m     \u001b[38;5;28mself\u001b[39m,\n\u001b[1;32m   1166\u001b[0m     etype: \u001b[38;5;28mtype\u001b[39m,\n\u001b[0;32m   (...)\u001b[0m\n\u001b[1;32m   1170\u001b[0m     number_of_lines_of_context: \u001b[38;5;28mint\u001b[39m \u001b[38;5;241m=\u001b[39m \u001b[38;5;241m5\u001b[39m,\n\u001b[1;32m   1171\u001b[0m ):\n\u001b[1;32m   1172\u001b[0m \u001b[38;5;250m    \u001b[39m\u001b[38;5;124;03m\"\"\"Return a nice text document describing the traceback.\"\"\"\u001b[39;00m\n\u001b[0;32m-> 1173\u001b[0m     formatted_exception \u001b[38;5;241m=\u001b[39m \u001b[38;5;28;43mself\u001b[39;49m\u001b[38;5;241;43m.\u001b[39;49m\u001b[43mformat_exception_as_a_whole\u001b[49m\u001b[43m(\u001b[49m\u001b[43metype\u001b[49m\u001b[43m,\u001b[49m\u001b[43m \u001b[49m\u001b[43mevalue\u001b[49m\u001b[43m,\u001b[49m\u001b[43m \u001b[49m\u001b[43metb\u001b[49m\u001b[43m,\u001b[49m\u001b[43m \u001b[49m\u001b[43mnumber_of_lines_of_context\u001b[49m\u001b[43m,\u001b[49m\n\u001b[1;32m   1174\u001b[0m \u001b[43m                                                           \u001b[49m\u001b[43mtb_offset\u001b[49m\u001b[43m)\u001b[49m\n\u001b[1;32m   1176\u001b[0m     colors \u001b[38;5;241m=\u001b[39m \u001b[38;5;28mself\u001b[39m\u001b[38;5;241m.\u001b[39mColors  \u001b[38;5;66;03m# just a shorthand + quicker name lookup\u001b[39;00m\n\u001b[1;32m   1177\u001b[0m     colorsnormal \u001b[38;5;241m=\u001b[39m colors\u001b[38;5;241m.\u001b[39mNormal  \u001b[38;5;66;03m# used a lot\u001b[39;00m\n",
      "File \u001b[0;32m~/miniconda3/envs/oktoberfest/lib/python3.10/site-packages/IPython/core/ultratb.py:1063\u001b[0m, in \u001b[0;36mVerboseTB.format_exception_as_a_whole\u001b[0;34m(self, etype, evalue, etb, number_of_lines_of_context, tb_offset)\u001b[0m\n\u001b[1;32m   1060\u001b[0m \u001b[38;5;28;01massert\u001b[39;00m \u001b[38;5;28misinstance\u001b[39m(tb_offset, \u001b[38;5;28mint\u001b[39m)\n\u001b[1;32m   1061\u001b[0m head \u001b[38;5;241m=\u001b[39m \u001b[38;5;28mself\u001b[39m\u001b[38;5;241m.\u001b[39mprepare_header(\u001b[38;5;28mstr\u001b[39m(etype), \u001b[38;5;28mself\u001b[39m\u001b[38;5;241m.\u001b[39mlong_header)\n\u001b[1;32m   1062\u001b[0m records \u001b[38;5;241m=\u001b[39m (\n\u001b[0;32m-> 1063\u001b[0m     \u001b[38;5;28;43mself\u001b[39;49m\u001b[38;5;241;43m.\u001b[39;49m\u001b[43mget_records\u001b[49m\u001b[43m(\u001b[49m\u001b[43metb\u001b[49m\u001b[43m,\u001b[49m\u001b[43m \u001b[49m\u001b[43mnumber_of_lines_of_context\u001b[49m\u001b[43m,\u001b[49m\u001b[43m \u001b[49m\u001b[43mtb_offset\u001b[49m\u001b[43m)\u001b[49m \u001b[38;5;28;01mif\u001b[39;00m etb \u001b[38;5;28;01melse\u001b[39;00m []\n\u001b[1;32m   1064\u001b[0m )\n\u001b[1;32m   1066\u001b[0m frames \u001b[38;5;241m=\u001b[39m []\n\u001b[1;32m   1067\u001b[0m skipped \u001b[38;5;241m=\u001b[39m \u001b[38;5;241m0\u001b[39m\n",
      "File \u001b[0;32m~/miniconda3/envs/oktoberfest/lib/python3.10/site-packages/IPython/core/ultratb.py:1131\u001b[0m, in \u001b[0;36mVerboseTB.get_records\u001b[0;34m(self, etb, number_of_lines_of_context, tb_offset)\u001b[0m\n\u001b[1;32m   1129\u001b[0m \u001b[38;5;28;01mwhile\u001b[39;00m cf \u001b[38;5;129;01mis\u001b[39;00m \u001b[38;5;129;01mnot\u001b[39;00m \u001b[38;5;28;01mNone\u001b[39;00m:\n\u001b[1;32m   1130\u001b[0m     \u001b[38;5;28;01mtry\u001b[39;00m:\n\u001b[0;32m-> 1131\u001b[0m         mod \u001b[38;5;241m=\u001b[39m inspect\u001b[38;5;241m.\u001b[39mgetmodule(\u001b[43mcf\u001b[49m\u001b[38;5;241;43m.\u001b[39;49m\u001b[43mtb_frame\u001b[49m)\n\u001b[1;32m   1132\u001b[0m         \u001b[38;5;28;01mif\u001b[39;00m mod \u001b[38;5;129;01mis\u001b[39;00m \u001b[38;5;129;01mnot\u001b[39;00m \u001b[38;5;28;01mNone\u001b[39;00m:\n\u001b[1;32m   1133\u001b[0m             mod_name \u001b[38;5;241m=\u001b[39m mod\u001b[38;5;241m.\u001b[39m\u001b[38;5;18m__name__\u001b[39m\n",
      "\u001b[0;31mAttributeError\u001b[0m: 'tuple' object has no attribute 'tb_frame'"
     ]
    }
   ],
   "source": [
    "run_job(\"./ce_calibration_config.json\")"
   ]
  },
  {
   "cell_type": "markdown",
   "metadata": {},
   "source": [
    "### C- Rescoring"
   ]
  },
  {
   "cell_type": "markdown",
   "metadata": {},
   "source": [
    "#### Generate config file"
   ]
  },
  {
   "cell_type": "code",
   "execution_count": null,
   "metadata": {
    "tags": []
   },
   "outputs": [],
   "source": [
    "task_config_rescoring = {\n",
    "    \"type\": \"Rescoring\",\n",
    "    \"tag\": \"\",\n",
    "    \"inputs\":{\n",
    "        \"search_results\": input_dir + \"/msms.txt\",\n",
    "        \"search_results_type\": \"Sage\",\n",
    "        \"spectra\": input_dir,\n",
    "        \"spectra_type\": \"raw\"\n",
    "    },\n",
    "    \"output\": \"./out\",\n",
    "    \"models\": {\n",
    "        \"intensity\": \"Prosit_2020_intensity_HCD\",\n",
    "        \"irt\": \"Prosit_2019_irt\"\n",
    "    },\n",
    "    \"prediction_server\": \"koina.proteomicsdb.org:443\",\n",
    "    \"ssl\": True,\n",
    "    \"thermoExe\": \"ThermoRawFileParser.exe\",\n",
    "    \"numThreads\": 4,\n",
    "    \"fdr_estimation_method\": \"percolator\",\n",
    "    \"regressionMethod\": \"spline\",\n",
    "    \"allFeatures\": False,\n",
    "    \"massTolerance\": 20,\n",
    "    \"unitMassTolerance\": \"ppm\"\n",
    "}"
   ]
  },
  {
   "cell_type": "markdown",
   "metadata": {},
   "source": [
    "#### Save config as json"
   ]
  },
  {
   "cell_type": "code",
   "execution_count": null,
   "metadata": {
    "tags": []
   },
   "outputs": [],
   "source": [
    "with open('./rescoring_config.json', 'w') as fp:\n",
    "    json.dump(task_config_rescoring, fp)"
   ]
  },
  {
   "cell_type": "markdown",
   "metadata": {},
   "source": [
    "#### Run rescoring job"
   ]
  },
  {
   "cell_type": "code",
   "execution_count": null,
   "metadata": {
    "tags": []
   },
   "outputs": [],
   "source": [
    "run_job(\"rescoring_config.json\")"
   ]
  },
  {
   "cell_type": "code",
   "execution_count": null,
   "metadata": {},
   "outputs": [],
   "source": []
  }
 ],
 "metadata": {
  "kernelspec": {
   "display_name": "Python 3 (ipykernel)",
   "language": "python",
   "name": "python3"
  },
  "language_info": {
   "codemirror_mode": {
    "name": "ipython",
    "version": 3
   },
   "file_extension": ".py",
   "mimetype": "text/x-python",
   "name": "python",
   "nbconvert_exporter": "python",
   "pygments_lexer": "ipython3",
   "version": "3.10.0"
  }
 },
 "nbformat": 4,
 "nbformat_minor": 4
}
