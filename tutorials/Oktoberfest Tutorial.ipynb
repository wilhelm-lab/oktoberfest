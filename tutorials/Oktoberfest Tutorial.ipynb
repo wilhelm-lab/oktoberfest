{
 "cells": [
  {
   "cell_type": "markdown",
   "metadata": {},
   "source": [
    "# Running Oktoberfest"
   ]
  },
  {
   "cell_type": "markdown",
   "metadata": {},
   "source": [
    "## 1- Import necessary python packages"
   ]
  },
  {
   "cell_type": "code",
   "execution_count": 1,
   "metadata": {
    "tags": []
   },
   "outputs": [],
   "source": [
    "import os\n",
    "from oktoberfest.runner import run_job\n",
    "import json\n",
    "import urllib.request\n",
    "import shutil\n",
    "from tqdm import tqdm\n",
    "%load_ext autoreload\n",
    "%autoreload 2"
   ]
  },
  {
   "cell_type": "markdown",
   "metadata": {},
   "source": [
    "## 2- Download files from zenodo required to run different tasks"
   ]
  },
  {
   "cell_type": "markdown",
   "metadata": {},
   "source": [
    "### A- Get the current directory and set the file name"
   ]
  },
  {
   "cell_type": "code",
   "execution_count": 2,
   "metadata": {
    "tags": []
   },
   "outputs": [],
   "source": [
    "download_dir = os.getcwd()\n",
    "download_file = os.path.join(download_dir, 'Oktoberfest_input.zip')\n",
    "url = 'https://zenodo.org/record/7613029/files/Oktoberfest_input.zip'\n",
    "\n",
    "download = False  # set this to false if you already have the file and don't want to download again in the next step"
   ]
  },
  {
   "cell_type": "markdown",
   "metadata": {},
   "source": [
    "### B- Download and extract files from zenodo to the same directory"
   ]
  },
  {
   "cell_type": "code",
   "execution_count": 3,
   "metadata": {
    "tags": []
   },
   "outputs": [],
   "source": [
    "if download:\n",
    "    with tqdm(unit=\"B\", total=2739196307, unit_scale=True, unit_divisor=1024, miniters=1, desc=url.split(\"/\")[-1]) as t:\n",
    "        urllib.request.urlretrieve(url=url, filename=download_file, reporthook=lambda blocks, block_size, _: t.update(blocks * block_size - t.n))\n",
    "    shutil.unpack_archive(download_file, download_dir)"
   ]
  },
  {
   "cell_type": "markdown",
   "metadata": {},
   "source": [
    "### C- Check downloaded files"
   ]
  },
  {
   "cell_type": "code",
   "execution_count": 4,
   "metadata": {
    "tags": []
   },
   "outputs": [
    {
     "name": "stdout",
     "output_type": "stream",
     "text": [
      "Downloaded data is stored in /home/karim/projects/oktoberfest/tutorials/Oktoberfest_input\n",
      "Contents:\n"
     ]
    },
    {
     "data": {
      "text/plain": [
       "['config_files',\n",
       " 'GN20170722_SK_HLA_G0103_R1_02.raw',\n",
       " 'results.sage.tsv',\n",
       " 'GN20170722_SK_HLA_G0103_R2_01.raw',\n",
       " 'GN20170722_SK_HLA_G0103_R2_02.raw',\n",
       " 'GN20170722_SK_HLA_G0103_R1_01.raw',\n",
       " 'peptides_spectral_library.csv']"
      ]
     },
     "execution_count": 4,
     "metadata": {},
     "output_type": "execute_result"
    }
   ],
   "source": [
    "input_dir = '/home/karim/projects/oktoberfest/tutorials/Oktoberfest_input'\n",
    "print(f'Downloaded data is stored in {input_dir}\\nContents:')\n",
    "os.listdir(input_dir)"
   ]
  },
  {
   "cell_type": "markdown",
   "metadata": {},
   "source": [
    "## 3- Running Different Tasks"
   ]
  },
  {
   "cell_type": "markdown",
   "metadata": {},
   "source": [
    "### A- Spectral Library Generation"
   ]
  },
  {
   "cell_type": "markdown",
   "metadata": {},
   "source": [
    "#### Generate config file"
   ]
  },
  {
   "cell_type": "code",
   "execution_count": 5,
   "metadata": {
    "tags": []
   },
   "outputs": [],
   "source": [
    "task_config_spectral_lib = {\n",
    "    \"type\": \"SpectralLibraryGeneration\",\n",
    "    \"tag\": \"\",\n",
    "    \"inputs\": {\n",
    "            \"search_results\": input_dir + \"/results.sage.tsv\",\n",
    "            \"search_results_type\": \"Sage\",\n",
    "            \"library_input\": input_dir + \"/peptides_spectral_library.csv\",\n",
    "            \"library_input_type\": \"peptides\"\n",
    "        },\n",
    "    \"output\": \"./out\",\n",
    "    \"models\":{\n",
    "        \"intensity\": \"Prosit_2020_intensity_HCD\",\n",
    "        \"irt\": \"Prosit_2019_irt\"\n",
    "    },\n",
    "    \"outputFormat\": \"spectronaut\",\n",
    "    \"prediction_server\": \"koina.proteomicsdb.org:443\",\n",
    "    \"ssl\": True,\n",
    "}"
   ]
  },
  {
   "cell_type": "markdown",
   "metadata": {},
   "source": [
    "#### Save config as json"
   ]
  },
  {
   "cell_type": "code",
   "execution_count": 6,
   "metadata": {
    "tags": []
   },
   "outputs": [],
   "source": [
    "with open('./spectral_library_config.json', 'w') as fp:\n",
    "    json.dump(task_config_spectral_lib, fp)"
   ]
  },
  {
   "cell_type": "markdown",
   "metadata": {},
   "source": [
    "#### Run spectral library generation job"
   ]
  },
  {
   "cell_type": "code",
   "execution_count": 7,
   "metadata": {
    "tags": []
   },
   "outputs": [
    {
     "name": "stdout",
     "output_type": "stream",
     "text": [
      "2023-11-10 12:31:51,740 - INFO - oktoberfest.utils.config::read Reading configuration from ./spectral_library_config.json\n",
      "2023-11-10 12:31:51,741 - INFO - oktoberfest.runner::run_job Oktoberfest version 0.5.1\n",
      "Copyright 2023, Wilhelmlab at Technical University of Munich\n",
      "2023-11-10 12:31:51,742 - INFO - oktoberfest.runner::run_job Job executed with the following config:\n",
      "2023-11-10 12:31:51,742 - INFO - oktoberfest.runner::run_job {\n",
      "    \"type\": \"SpectralLibraryGeneration\",\n",
      "    \"tag\": \"\",\n",
      "    \"inputs\": {\n",
      "        \"search_results\": \"/home/karim/projects/oktoberfest/tutorials/Oktoberfest_input/results.sage.tsv\",\n",
      "        \"search_results_type\": \"Sage\",\n",
      "        \"library_input\": \"/home/karim/projects/oktoberfest/tutorials/Oktoberfest_input/peptides_spectral_library.csv\",\n",
      "        \"library_input_type\": \"peptides\"\n",
      "    },\n",
      "    \"output\": \"./out\",\n",
      "    \"models\": {\n",
      "        \"intensity\": \"Prosit_2020_intensity_HCD\",\n",
      "        \"irt\": \"Prosit_2019_irt\"\n",
      "    },\n",
      "    \"outputFormat\": \"spectronaut\",\n",
      "    \"prediction_server\": \"koina.proteomicsdb.org:443\",\n",
      "    \"ssl\": true\n",
      "}\n",
      "2023-11-10 12:31:51,742 - INFO - oktoberfest.utils.config::read Reading configuration from ./spectral_library_config.json\n",
      "2023-11-10 12:31:51,747 - INFO - oktoberfest.preprocessing.preprocessing::process_and_filter_spectra_data No of sequences before Filtering is 5\n",
      "2023-11-10 12:31:51,749 - INFO - oktoberfest.preprocessing.preprocessing::process_and_filter_spectra_data No of sequences after Filtering is 5\n",
      "2023-11-10 12:31:51,751 - INFO - oktoberfest.runner::generate_spectral_lib Last Batch from index 0\n",
      "2023-11-10 12:31:51,751 - INFO - oktoberfest.runner::generate_spectral_lib Batch of size 5\n"
     ]
    },
    {
     "data": {
      "application/vnd.jupyter.widget-view+json": {
       "model_id": "4b5a607d381f4a4db5a8c22eb8c665f1",
       "version_major": 2,
       "version_minor": 0
      },
      "text/plain": [
       "Inferring predictions for 5 spectra with batch site 1000:   0%|          | 0/1 [00:00<?, ?it/s]"
      ]
     },
     "metadata": {},
     "output_type": "display_data"
    },
    {
     "data": {
      "application/vnd.jupyter.widget-view+json": {
       "model_id": "95e8f6aa0aaf4bda8916c70a41332fb2",
       "version_major": 2,
       "version_minor": 0
      },
      "text/plain": [
       "Inferring predictions for 5 spectra with batch site 1000:   0%|          | 0/1 [00:00<?, ?it/s]"
      ]
     },
     "metadata": {},
     "output_type": "display_data"
    }
   ],
   "source": [
    "run_job(\"./spectral_library_config.json\")"
   ]
  },
  {
   "cell_type": "markdown",
   "metadata": {},
   "source": [
    "### B- CE Calibration"
   ]
  },
  {
   "cell_type": "markdown",
   "metadata": {},
   "source": [
    "#### Generate config file"
   ]
  },
  {
   "cell_type": "code",
   "execution_count": 8,
   "metadata": {
    "tags": []
   },
   "outputs": [],
   "source": [
    "task_config_ce_calibration = {\n",
    "    \"type\": \"CollisionEnergyCalibration\",\n",
    "    \"tag\": \"\",\n",
    "    \"inputs\":{\n",
    "        \"search_results\": input_dir + \"/results.sage.tsv\",\n",
    "        \"search_results_type\": \"Sage\",\n",
    "        \"spectra\": input_dir,\n",
    "        \"spectra_type\": \"raw\"\n",
    "    },\n",
    "    \"output\": \"./out\",\n",
    "    \"models\": {\n",
    "        \"intensity\": \"Prosit_2020_intensity_HCD\",\n",
    "        \"irt\": \"Prosit_2019_irt\"\n",
    "    },\n",
    "    \"prediction_server\": \"koina.proteomicsdb.org:443\",\n",
    "    \"ssl\": True,\n",
    "    \"thermoExe\": \"/home/karim/non_git/essentials/therm/ThermoRawFileParser.exe\",\n",
    "    \"massTolerance\": 20,\n",
    "    \"unitMassTolerance\": \"ppm\",\n",
    "    \"numThreads\": 1\n",
    "}"
   ]
  },
  {
   "cell_type": "markdown",
   "metadata": {},
   "source": [
    "#### Save config as json"
   ]
  },
  {
   "cell_type": "code",
   "execution_count": 9,
   "metadata": {
    "tags": []
   },
   "outputs": [],
   "source": [
    "with open('./ce_calibration_config.json', 'w') as fp:\n",
    "    json.dump(task_config_ce_calibration, fp)"
   ]
  },
  {
   "cell_type": "markdown",
   "metadata": {},
   "source": [
    "#### Run ce calibration job"
   ]
  },
  {
   "cell_type": "code",
   "execution_count": null,
   "metadata": {
    "tags": []
   },
   "outputs": [
    {
     "name": "stdout",
     "output_type": "stream",
     "text": [
      "2023-11-10 12:31:54,211 - INFO - oktoberfest.utils.config::read Reading configuration from ./ce_calibration_config.json\n",
      "2023-11-10 12:31:54,212 - INFO - oktoberfest.runner::run_job Oktoberfest version 0.5.1\n",
      "Copyright 2023, Wilhelmlab at Technical University of Munich\n",
      "2023-11-10 12:31:54,213 - INFO - oktoberfest.runner::run_job Job executed with the following config:\n",
      "2023-11-10 12:31:54,213 - INFO - oktoberfest.runner::run_job {\n",
      "    \"type\": \"CollisionEnergyCalibration\",\n",
      "    \"tag\": \"\",\n",
      "    \"inputs\": {\n",
      "        \"search_results\": \"/home/karim/projects/oktoberfest/tutorials/Oktoberfest_input/results.sage.tsv\",\n",
      "        \"search_results_type\": \"Sage\",\n",
      "        \"spectra\": \"/home/karim/projects/oktoberfest/tutorials/Oktoberfest_input\",\n",
      "        \"spectra_type\": \"raw\"\n",
      "    },\n",
      "    \"output\": \"./out\",\n",
      "    \"models\": {\n",
      "        \"intensity\": \"Prosit_2020_intensity_HCD\",\n",
      "        \"irt\": \"Prosit_2019_irt\"\n",
      "    },\n",
      "    \"prediction_server\": \"koina.proteomicsdb.org:443\",\n",
      "    \"ssl\": true,\n",
      "    \"thermoExe\": \"/home/karim/non_git/essentials/therm/ThermoRawFileParser.exe\",\n",
      "    \"massTolerance\": 20,\n",
      "    \"unitMassTolerance\": \"ppm\",\n",
      "    \"numThreads\": 1\n",
      "}\n",
      "2023-11-10 12:31:54,214 - INFO - oktoberfest.utils.config::read Reading configuration from ./ce_calibration_config.json\n",
      "2023-11-10 12:31:54,214 - INFO - oktoberfest.runner::run_ce_calibration Found 4 files in the spectra directory.\n",
      "2023-11-10 12:31:54,215 - INFO - oktoberfest.utils.process_step::is_done Skipping preprocessing_search step because out/proc/preprocessing_search.done was found.\n"
     ]
    },
    {
     "data": {
      "application/vnd.jupyter.widget-view+json": {
       "model_id": "7998dd841e5f496794b361d91d41d3aa",
       "version_major": 2,
       "version_minor": 0
      },
      "text/plain": [
       "Waiting for tasks to complete:   0%|          | 0/1 [00:00<?, ?it/s]"
      ]
     },
     "metadata": {},
     "output_type": "display_data"
    },
    {
     "name": "stdout",
     "output_type": "stream",
     "text": [
      "2023-11-10 12:31:54,418 - INFO - spectrum_io.file.hdf5::read_file Reading sparse matrix from hdf5 file. Available keys: <KeysViewHDF5 ['meta_data', 'sparse_raw_intensity', 'sparse_raw_mz']>\n",
      "2023-11-10 12:31:54,451 - INFO - spectrum_io.file.hdf5::read_file Reading sparse matrix from hdf5 file. Available keys: <KeysViewHDF5 ['meta_data', 'sparse_raw_intensity', 'sparse_raw_mz']>\n"
     ]
    },
    {
     "data": {
      "application/vnd.jupyter.widget-view+json": {
       "model_id": "03ba2dcdd96f488abe1e9a0bbd3c4206",
       "version_major": 2,
       "version_minor": 0
      },
      "text/plain": [
       "Inferring predictions for 32000 spectra with batch site 1000:   0%|          | 0/32 [00:00<?, ?it/s]"
      ]
     },
     "metadata": {},
     "output_type": "display_data"
    },
    {
     "name": "stderr",
     "output_type": "stream",
     "text": [
      "Exception in thread Thread-8 (_handle_results):\n",
      "Traceback (most recent call last):\n",
      "  File \"/home/karim/miniconda3/envs/oktoberfest/lib/python3.10/threading.py\", line 1009, in _bootstrap_inner\n",
      "    self.run()\n",
      "  File \"/home/karim/miniconda3/envs/oktoberfest/lib/python3.10/threading.py\", line 946, in run\n",
      "    self._target(*self._args, **self._kwargs)\n",
      "  File \"/home/karim/miniconda3/envs/oktoberfest/lib/python3.10/multiprocessing/pool.py\", line 576, in _handle_results\n",
      "    task = get()\n",
      "  File \"/home/karim/miniconda3/envs/oktoberfest/lib/python3.10/multiprocessing/connection.py\", line 256, in recv\n",
      "    return _ForkingPickler.loads(buf.getbuffer())\n",
      "TypeError: InferenceServerException.__init__() missing 1 required positional argument: 'msg'\n"
     ]
    }
   ],
   "source": [
    "run_job(\"./ce_calibration_config.json\")"
   ]
  },
  {
   "cell_type": "markdown",
   "metadata": {},
   "source": [
    "### C- Rescoring"
   ]
  },
  {
   "cell_type": "markdown",
   "metadata": {},
   "source": [
    "#### Generate config file"
   ]
  },
  {
   "cell_type": "code",
   "execution_count": 20,
   "metadata": {
    "tags": []
   },
   "outputs": [],
   "source": [
    "task_config_rescoring = {\n",
    "    \"type\": \"Rescoring\",\n",
    "    \"tag\": \"\",\n",
    "    \"inputs\":{\n",
    "        \"search_results\": input_dir + \"/results.sage.tsv\",\n",
    "        \"search_results_type\": \"Sage\",\n",
    "        \"spectra\": input_dir,\n",
    "        \"spectra_type\": \"raw\"\n",
    "    },\n",
    "    \"output\": \"./out\",\n",
    "    \"models\": {\n",
    "        \"intensity\": \"Prosit_2020_intensity_HCD\",\n",
    "        \"irt\": \"Prosit_2019_irt\"\n",
    "    },\n",
    "    \"prediction_server\": \"koina.proteomicsdb.org:443\",\n",
    "    \"ssl\": True,\n",
    "    \"thermoExe\": \"ThermoRawFileParser.exe\",\n",
    "    \"numThreads\": 4,\n",
    "    \"fdr_estimation_method\": \"percolator\",\n",
    "    \"regressionMethod\": \"spline\",\n",
    "    \"allFeatures\": False,\n",
    "    \"massTolerance\": 20,\n",
    "    \"unitMassTolerance\": \"ppm\"\n",
    "}"
   ]
  },
  {
   "cell_type": "markdown",
   "metadata": {},
   "source": [
    "#### Save config as json"
   ]
  },
  {
   "cell_type": "code",
   "execution_count": 21,
   "metadata": {
    "tags": []
   },
   "outputs": [],
   "source": [
    "with open('./rescoring_config.json', 'w') as fp:\n",
    "    json.dump(task_config_rescoring, fp)"
   ]
  },
  {
   "cell_type": "markdown",
   "metadata": {},
   "source": [
    "#### Run rescoring job"
   ]
  },
  {
   "cell_type": "code",
   "execution_count": 22,
   "metadata": {
    "tags": []
   },
   "outputs": [
    {
     "name": "stdout",
     "output_type": "stream",
     "text": [
      "2023-11-09 14:12:19,263 - INFO - oktoberfest.utils.config::read Reading configuration from rescoring_config.json\n",
      "2023-11-09 14:12:19,264 - INFO - oktoberfest.runner::run_job Oktoberfest version 0.5.1\n",
      "Copyright 2023, Wilhelmlab at Technical University of Munich\n",
      "2023-11-09 14:12:19,265 - INFO - oktoberfest.runner::run_job Job executed with the following config:\n",
      "2023-11-09 14:12:19,265 - INFO - oktoberfest.runner::run_job {\n",
      "    \"type\": \"Rescoring\",\n",
      "    \"tag\": \"\",\n",
      "    \"inputs\": {\n",
      "        \"search_results\": \"/home/karim/non_git/oktoberfest_runs/default_zenodo/raw_zenodo_mq/results.sage.tsv\",\n",
      "        \"search_results_type\": \"Sage\",\n",
      "        \"spectra\": \"/home/karim/non_git/oktoberfest_runs/default_zenodo/raw_zenodo_mq\",\n",
      "        \"spectra_type\": \"raw\"\n",
      "    },\n",
      "    \"output\": \"./out\",\n",
      "    \"models\": {\n",
      "        \"intensity\": \"Prosit_2020_intensity_HCD\",\n",
      "        \"irt\": \"Prosit_2019_irt\"\n",
      "    },\n",
      "    \"prediction_server\": \"koina.proteomicsdb.org:443\",\n",
      "    \"ssl\": true,\n",
      "    \"thermoExe\": \"ThermoRawFileParser.exe\",\n",
      "    \"numThreads\": 4,\n",
      "    \"fdr_estimation_method\": \"percolator\",\n",
      "    \"regressionMethod\": \"spline\",\n",
      "    \"allFeatures\": false,\n",
      "    \"massTolerance\": 20,\n",
      "    \"unitMassTolerance\": \"ppm\"\n",
      "}\n",
      "2023-11-09 14:12:19,266 - INFO - oktoberfest.utils.config::read Reading configuration from rescoring_config.json\n",
      "2023-11-09 14:12:19,267 - INFO - oktoberfest.runner::run_rescoring Found 4 files in the spectra directory.\n",
      "2023-11-09 14:12:19,267 - INFO - oktoberfest.utils.process_step::is_done Skipping preprocessing_search step because out/proc/preprocessing_search.done was found.\n",
      "2023-11-09 14:12:19,313 - INFO - oktoberfest.utils.process_step::is_done Skipping ce_calib.GN20170722_SK_HLA_G0103_R1_02 step because out/proc/ce_calib.GN20170722_SK_HLA_G0103_R1_02.done was found.\n"
     ]
    },
    {
     "data": {
      "application/vnd.jupyter.widget-view+json": {
       "model_id": "e0cdd531c38b40b39ec03f8122b1ee32",
       "version_major": 2,
       "version_minor": 0
      },
      "text/plain": [
       "Waiting for tasks to complete:   0%|          | 0/4 [00:00<?, ?it/s]"
      ]
     },
     "metadata": {},
     "output_type": "display_data"
    },
    {
     "name": "stdout",
     "output_type": "stream",
     "text": [
      "2023-11-09 14:12:19,317 - INFO - oktoberfest.utils.process_step::is_done Skipping ce_calib.GN20170722_SK_HLA_G0103_R1_01 step because out/proc/ce_calib.GN20170722_SK_HLA_G0103_R1_01.done was found.\n",
      "2023-11-09 14:12:19,317 - INFO - oktoberfest.utils.process_step::is_done Skipping ce_calib.GN20170722_SK_HLA_G0103_R2_02 step because out/proc/ce_calib.GN20170722_SK_HLA_G0103_R2_02.done was found.\n",
      "2023-11-09 14:12:19,317 - INFO - oktoberfest.utils.process_step::is_done Skipping ce_calib.GN20170722_SK_HLA_G0103_R2_01 step because out/proc/ce_calib.GN20170722_SK_HLA_G0103_R2_01.done was found.\n",
      "2023-11-09 14:12:19,375 - INFO - spectrum_io.file.hdf5::read_file Reading sparse matrix from hdf5 file. Available keys: <KeysViewHDF5 ['meta_data', 'sparse_pred_intensity', 'sparse_raw_intensity', 'sparse_raw_mz']>\n",
      "2023-11-09 14:12:19,376 - INFO - spectrum_io.file.hdf5::read_file Reading sparse matrix from hdf5 file. Available keys: <KeysViewHDF5 ['meta_data', 'sparse_pred_intensity', 'sparse_raw_intensity', 'sparse_raw_mz']>\n",
      "2023-11-09 14:12:19,376 - INFO - spectrum_io.file.hdf5::read_file Reading sparse matrix from hdf5 file. Available keys: <KeysViewHDF5 ['meta_data', 'sparse_pred_intensity', 'sparse_raw_intensity', 'sparse_raw_mz']>\n",
      "2023-11-09 14:12:19,376 - INFO - spectrum_io.file.hdf5::read_file Reading sparse matrix from hdf5 file. Available keys: <KeysViewHDF5 ['meta_data', 'sparse_pred_intensity', 'sparse_raw_intensity', 'sparse_raw_mz']>\n",
      "2023-11-09 14:12:19,417 - INFO - spectrum_io.file.hdf5::read_file Reading sparse matrix from hdf5 file. Available keys: <KeysViewHDF5 ['meta_data', 'sparse_pred_intensity', 'sparse_raw_intensity', 'sparse_raw_mz']>\n",
      "2023-11-09 14:12:19,421 - INFO - spectrum_io.file.hdf5::read_file Reading sparse matrix from hdf5 file. Available keys: <KeysViewHDF5 ['meta_data', 'sparse_pred_intensity', 'sparse_raw_intensity', 'sparse_raw_mz']>\n",
      "2023-11-09 14:12:19,433 - INFO - spectrum_io.file.hdf5::read_file Reading sparse matrix from hdf5 file. Available keys: <KeysViewHDF5 ['meta_data', 'sparse_pred_intensity', 'sparse_raw_intensity', 'sparse_raw_mz']>\n",
      "2023-11-09 14:12:19,435 - INFO - spectrum_io.file.hdf5::read_file Reading sparse matrix from hdf5 file. Available keys: <KeysViewHDF5 ['meta_data', 'sparse_pred_intensity', 'sparse_raw_intensity', 'sparse_raw_mz']>\n"
     ]
    },
    {
     "data": {
      "application/vnd.jupyter.widget-view+json": {
       "model_id": "8693a82a765e4cc6ad910ec312a4eb69",
       "version_major": 2,
       "version_minor": 0
      },
      "text/plain": [
       "Inferring predictions for 563 spectra with batch site 1000:   0%|          | 0/1 [00:00<?, ?it/s]"
      ]
     },
     "metadata": {},
     "output_type": "display_data"
    },
    {
     "data": {
      "application/vnd.jupyter.widget-view+json": {
       "model_id": "7304cd287c404b95bff477fed7d5e12a",
       "version_major": 2,
       "version_minor": 0
      },
      "text/plain": [
       "Inferring predictions for 1404 spectra with batch site 1000:   0%|          | 0/2 [00:00<?, ?it/s]"
      ]
     },
     "metadata": {},
     "output_type": "display_data"
    },
    {
     "data": {
      "application/vnd.jupyter.widget-view+json": {
       "model_id": "e4fed0f0d2b54a5ab340095d7ef4bd08",
       "version_major": 2,
       "version_minor": 0
      },
      "text/plain": [
       "Inferring predictions for 531 spectra with batch site 1000:   0%|          | 0/1 [00:00<?, ?it/s]"
      ]
     },
     "metadata": {},
     "output_type": "display_data"
    },
    {
     "data": {
      "application/vnd.jupyter.widget-view+json": {
       "model_id": "b4cc3fe7df4b4b83b746dce4e200a3a9",
       "version_major": 2,
       "version_minor": 0
      },
      "text/plain": [
       "Inferring predictions for 1184 spectra with batch site 1000:   0%|          | 0/2 [00:00<?, ?it/s]"
      ]
     },
     "metadata": {},
     "output_type": "display_data"
    },
    {
     "data": {
      "application/vnd.jupyter.widget-view+json": {
       "model_id": "d074dc82de2e4a728c31a23af1f0d787",
       "version_major": 2,
       "version_minor": 0
      },
      "text/plain": [
       "Inferring predictions for 531 spectra with batch site 1000:   0%|          | 0/1 [00:00<?, ?it/s]"
      ]
     },
     "metadata": {},
     "output_type": "display_data"
    },
    {
     "name": "stdout",
     "output_type": "stream",
     "text": [
      "2023-11-09 14:12:20,264 - INFO - spectrum_io.file.hdf5::write_dataset Data written to out/data/GN20170722_SK_HLA_G0103_R2_02.mzml.pred.hdf5\n",
      "2023-11-09 14:12:20,275 - INFO - spectrum_io.file.hdf5::write_dataset Data appended to out/data/GN20170722_SK_HLA_G0103_R2_02.mzml.pred.hdf5\n"
     ]
    },
    {
     "data": {
      "application/vnd.jupyter.widget-view+json": {
       "model_id": "09516cdeff3e4fa1936af9b41156be00",
       "version_major": 2,
       "version_minor": 0
      },
      "text/plain": [
       "Inferring predictions for 563 spectra with batch site 1000:   0%|          | 0/1 [00:00<?, ?it/s]"
      ]
     },
     "metadata": {},
     "output_type": "display_data"
    },
    {
     "name": "stdout",
     "output_type": "stream",
     "text": [
      "2023-11-09 14:12:20,375 - INFO - spectrum_io.file.hdf5::write_dataset Data appended to out/data/GN20170722_SK_HLA_G0103_R2_02.mzml.pred.hdf5\n",
      "2023-11-09 14:12:20,395 - INFO - spectrum_io.file.hdf5::write_dataset Data appended to out/data/GN20170722_SK_HLA_G0103_R2_02.mzml.pred.hdf5\n",
      "\n",
      "2023-11-09 14:12:20,458 - INFO - spectrum_io.file.hdf5::write_dataset Data written to out/data/GN20170722_SK_HLA_G0103_R2_01.mzml.pred.hdf5\n",
      "2023-11-09 14:12:20,467 - INFO - spectrum_io.file.hdf5::write_dataset Data appended to out/data/GN20170722_SK_HLA_G0103_R2_01.mzml.pred.hdf5\n",
      "2023-11-09 14:12:20,567 - INFO - spectrum_io.file.hdf5::write_dataset Data appended to out/data/GN20170722_SK_HLA_G0103_R2_01.mzml.pred.hdf5\n",
      "2023-11-09 14:12:20,587 - INFO - spectrum_io.file.hdf5::write_dataset Data appended to out/data/GN20170722_SK_HLA_G0103_R2_01.mzml.pred.hdf5\n",
      "\n"
     ]
    },
    {
     "data": {
      "application/vnd.jupyter.widget-view+json": {
       "model_id": "73f643d23e264849a6bece1eb431549b",
       "version_major": 2,
       "version_minor": 0
      },
      "text/plain": [
       "Inferring predictions for 1184 spectra with batch site 1000:   0%|          | 0/2 [00:00<?, ?it/s]"
      ]
     },
     "metadata": {},
     "output_type": "display_data"
    },
    {
     "name": "stdout",
     "output_type": "stream",
     "text": [
      "2023-11-09 13:12:20,704 - ERROR - spectrum_fundamentals.metrics.percolator::get_indices_below_fdr Could not find any targets below 0.01 out of 290 targets in total\n"
     ]
    },
    {
     "name": "stderr",
     "output_type": "stream",
     "text": [
      "2023-11-09 13:12:20,704 - ERROR - spectrum_fundamentals.metrics.percolator::get_indices_below_fdr Could not find any targets below 0.01 out of 290 targets in total\n"
     ]
    },
    {
     "name": "stdout",
     "output_type": "stream",
     "text": [
      "2023-11-09 13:12:20,706 - INFO - spectrum_fundamentals.metrics.percolator::apply_lda_and_get_indices_below_fdr Found 0 targets and 241 decoys as input for the LDA model\n",
      "2023-11-09 13:12:20,751 - ERROR - spectrum_fundamentals.metrics.percolator::get_indices_below_fdr Could not find any targets below 0.01 out of 290 targets in total\n"
     ]
    },
    {
     "name": "stderr",
     "output_type": "stream",
     "text": [
      "2023-11-09 13:12:20,751 - ERROR - spectrum_fundamentals.metrics.percolator::get_indices_below_fdr Could not find any targets below 0.01 out of 290 targets in total\n"
     ]
    },
    {
     "name": "stdout",
     "output_type": "stream",
     "text": [
      "2023-11-09 13:12:20,768 - ERROR - spectrum_fundamentals.metrics.percolator::get_indices_below_fdr Could not find any targets below 0.02 out of 290 targets in total\n"
     ]
    },
    {
     "name": "stderr",
     "output_type": "stream",
     "text": [
      "2023-11-09 13:12:20,768 - ERROR - spectrum_fundamentals.metrics.percolator::get_indices_below_fdr Could not find any targets below 0.02 out of 290 targets in total\n"
     ]
    },
    {
     "name": "stdout",
     "output_type": "stream",
     "text": [
      "2023-11-09 13:12:20,796 - INFO - spectrum_fundamentals.metrics.percolator::apply_lda_and_get_indices_below_fdr Found 0 targets and 241 decoys as input for the LDA model\n"
     ]
    },
    {
     "name": "stderr",
     "output_type": "stream",
     "text": [
      "/home/karim/miniconda3/envs/oktoberfest/lib/python3.10/site-packages/scipy/stats/_stats_py.py:4424: ConstantInputWarning: An input array is constant; the correlation coefficient is not defined.\n",
      "  warnings.warn(stats.ConstantInputWarning(msg))\n"
     ]
    },
    {
     "name": "stdout",
     "output_type": "stream",
     "text": [
      "2023-11-09 13:12:20,820 - ERROR - spectrum_fundamentals.metrics.percolator::get_indices_below_fdr Could not find any targets below 0.02 out of 290 targets in total\n"
     ]
    },
    {
     "name": "stderr",
     "output_type": "stream",
     "text": [
      "2023-11-09 13:12:20,820 - ERROR - spectrum_fundamentals.metrics.percolator::get_indices_below_fdr Could not find any targets below 0.02 out of 290 targets in total\n"
     ]
    },
    {
     "name": "stdout",
     "output_type": "stream",
     "text": [
      "2023-11-09 13:12:20,843 - ERROR - spectrum_fundamentals.metrics.percolator::get_indices_below_fdr Could not find any targets below 0.03 out of 290 targets in total\n"
     ]
    },
    {
     "name": "stderr",
     "output_type": "stream",
     "text": [
      "2023-11-09 13:12:20,843 - ERROR - spectrum_fundamentals.metrics.percolator::get_indices_below_fdr Could not find any targets below 0.03 out of 290 targets in total\n"
     ]
    },
    {
     "name": "stdout",
     "output_type": "stream",
     "text": [
      "2023-11-09 13:12:20,886 - INFO - spectrum_fundamentals.metrics.percolator::apply_lda_and_get_indices_below_fdr Found 0 targets and 241 decoys as input for the LDA model\n",
      "2023-11-09 13:12:20,918 - ERROR - spectrum_fundamentals.metrics.percolator::get_indices_below_fdr Could not find any targets below 0.03 out of 290 targets in total\n"
     ]
    },
    {
     "name": "stderr",
     "output_type": "stream",
     "text": [
      "2023-11-09 13:12:20,918 - ERROR - spectrum_fundamentals.metrics.percolator::get_indices_below_fdr Could not find any targets below 0.03 out of 290 targets in total\n"
     ]
    },
    {
     "name": "stdout",
     "output_type": "stream",
     "text": [
      "2023-11-09 13:12:20,959 - ERROR - spectrum_fundamentals.metrics.percolator::get_indices_below_fdr Could not find any targets below 0.04 out of 290 targets in total\n"
     ]
    },
    {
     "name": "stderr",
     "output_type": "stream",
     "text": [
      "2023-11-09 13:12:20,959 - ERROR - spectrum_fundamentals.metrics.percolator::get_indices_below_fdr Could not find any targets below 0.04 out of 290 targets in total\n"
     ]
    },
    {
     "name": "stdout",
     "output_type": "stream",
     "text": [
      "2023-11-09 13:12:20,965 - INFO - spectrum_fundamentals.metrics.percolator::apply_lda_and_get_indices_below_fdr Found 0 targets and 241 decoys as input for the LDA model\n",
      "2023-11-09 13:12:21,003 - ERROR - spectrum_fundamentals.metrics.percolator::get_indices_below_fdr Could not find any targets below 0.04 out of 290 targets in total\n"
     ]
    },
    {
     "name": "stderr",
     "output_type": "stream",
     "text": [
      "2023-11-09 13:12:21,003 - ERROR - spectrum_fundamentals.metrics.percolator::get_indices_below_fdr Could not find any targets below 0.04 out of 290 targets in total\n"
     ]
    },
    {
     "name": "stdout",
     "output_type": "stream",
     "text": [
      "2023-11-09 13:12:21,034 - ERROR - spectrum_fundamentals.metrics.percolator::get_indices_below_fdr Could not find any targets below 0.05 out of 290 targets in total\n"
     ]
    },
    {
     "name": "stderr",
     "output_type": "stream",
     "text": [
      "2023-11-09 13:12:21,034 - ERROR - spectrum_fundamentals.metrics.percolator::get_indices_below_fdr Could not find any targets below 0.05 out of 290 targets in total\n"
     ]
    },
    {
     "name": "stdout",
     "output_type": "stream",
     "text": [
      "2023-11-09 13:12:21,071 - INFO - spectrum_fundamentals.metrics.percolator::apply_lda_and_get_indices_below_fdr Found 0 targets and 241 decoys as input for the LDA model\n",
      "2023-11-09 13:12:21,059 - ERROR - spectrum_fundamentals.metrics.percolator::get_indices_below_fdr Could not find any targets below 0.01 out of 290 targets in total\n"
     ]
    },
    {
     "name": "stderr",
     "output_type": "stream",
     "text": [
      "2023-11-09 13:12:21,059 - ERROR - spectrum_fundamentals.metrics.percolator::get_indices_below_fdr Could not find any targets below 0.01 out of 290 targets in total\n"
     ]
    },
    {
     "name": "stdout",
     "output_type": "stream",
     "text": [
      "2023-11-09 13:12:21,088 - ERROR - spectrum_fundamentals.metrics.percolator::get_indices_below_fdr Could not find any targets below 0.05 out of 290 targets in total\n"
     ]
    },
    {
     "name": "stderr",
     "output_type": "stream",
     "text": [
      "2023-11-09 13:12:21,088 - ERROR - spectrum_fundamentals.metrics.percolator::get_indices_below_fdr Could not find any targets below 0.05 out of 290 targets in total\n"
     ]
    },
    {
     "name": "stdout",
     "output_type": "stream",
     "text": [
      "2023-11-09 13:12:21,090 - INFO - spectrum_fundamentals.metrics.percolator::apply_lda_and_get_indices_below_fdr Found 0 targets and 273 decoys as input for the LDA model\n",
      "2023-11-09 13:12:21,098 - ERROR - spectrum_fundamentals.metrics.percolator::get_indices_below_fdr Could not find any targets below 0.060000000000000005 out of 290 targets in total\n"
     ]
    },
    {
     "name": "stderr",
     "output_type": "stream",
     "text": [
      "2023-11-09 13:12:21,098 - ERROR - spectrum_fundamentals.metrics.percolator::get_indices_below_fdr Could not find any targets below 0.060000000000000005 out of 290 targets in total\n"
     ]
    },
    {
     "name": "stdout",
     "output_type": "stream",
     "text": [
      "2023-11-09 13:12:21,136 - INFO - spectrum_fundamentals.metrics.percolator::apply_lda_and_get_indices_below_fdr Found 0 targets and 241 decoys as input for the LDA model\n",
      "2023-11-09 13:12:21,168 - ERROR - spectrum_fundamentals.metrics.percolator::get_indices_below_fdr Could not find any targets below 0.01 out of 290 targets in total\n",
      "2023-11-09 13:12:21,178 - ERROR - spectrum_fundamentals.metrics.percolator::get_indices_below_fdr Could not find any targets below 0.060000000000000005 out of 290 targets in total\n"
     ]
    },
    {
     "name": "stderr",
     "output_type": "stream",
     "text": [
      "2023-11-09 13:12:21,168 - ERROR - spectrum_fundamentals.metrics.percolator::get_indices_below_fdr Could not find any targets below 0.01 out of 290 targets in total\n",
      "2023-11-09 13:12:21,178 - ERROR - spectrum_fundamentals.metrics.percolator::get_indices_below_fdr Could not find any targets below 0.060000000000000005 out of 290 targets in total\n"
     ]
    },
    {
     "name": "stdout",
     "output_type": "stream",
     "text": [
      "2023-11-09 13:12:21,209 - ERROR - spectrum_fundamentals.metrics.percolator::get_indices_below_fdr Could not find any targets below 0.02 out of 290 targets in total\n",
      "2023-11-09 13:12:21,219 - ERROR - spectrum_fundamentals.metrics.percolator::get_indices_below_fdr Could not find any targets below 0.07 out of 290 targets in total\n",
      "2023-11-09 14:12:21,204 - INFO - spectrum_io.file.hdf5::write_dataset Data written to out/data/GN20170722_SK_HLA_G0103_R1_01.mzml.pred.hdf5\n"
     ]
    },
    {
     "name": "stderr",
     "output_type": "stream",
     "text": [
      "2023-11-09 13:12:21,209 - ERROR - spectrum_fundamentals.metrics.percolator::get_indices_below_fdr Could not find any targets below 0.02 out of 290 targets in total\n",
      "2023-11-09 13:12:21,219 - ERROR - spectrum_fundamentals.metrics.percolator::get_indices_below_fdr Could not find any targets below 0.07 out of 290 targets in total\n"
     ]
    },
    {
     "name": "stdout",
     "output_type": "stream",
     "text": [
      "2023-11-09 13:12:21,240 - INFO - spectrum_fundamentals.metrics.percolator::apply_lda_and_get_indices_below_fdr Found 0 targets and 273 decoys as input for the LDA model\n",
      "2023-11-09 13:12:21,246 - INFO - spectrum_fundamentals.metrics.percolator::apply_lda_and_get_indices_below_fdr Found 0 targets and 241 decoys as input for the LDA model\n",
      "2023-11-09 13:12:21,276 - ERROR - spectrum_fundamentals.metrics.percolator::get_indices_below_fdr Could not find any targets below 0.02 out of 290 targets in total\n",
      "2023-11-09 14:12:21,252 - INFO - spectrum_io.file.hdf5::write_dataset Data appended to out/data/GN20170722_SK_HLA_G0103_R1_01.mzml.pred.hdf5\n",
      "2023-11-09 13:12:21,315 - ERROR - spectrum_fundamentals.metrics.percolator::get_indices_below_fdr Could not find any targets below 0.07 out of 290 targets in total\n",
      "2023-11-09 14:12:21,335 - INFO - spectrum_io.file.hdf5::write_dataset Data appended to out/data/GN20170722_SK_HLA_G0103_R1_01.mzml.pred.hdf5\n"
     ]
    },
    {
     "name": "stderr",
     "output_type": "stream",
     "text": [
      "2023-11-09 13:12:21,315 - ERROR - spectrum_fundamentals.metrics.percolator::get_indices_below_fdr Could not find any targets below 0.07 out of 290 targets in total\n",
      "2023-11-09 13:12:21,276 - ERROR - spectrum_fundamentals.metrics.percolator::get_indices_below_fdr Could not find any targets below 0.02 out of 290 targets in total\n"
     ]
    },
    {
     "name": "stdout",
     "output_type": "stream",
     "text": [
      "2023-11-09 13:12:21,356 - ERROR - spectrum_fundamentals.metrics.percolator::get_indices_below_fdr Could not find any targets below 0.08 out of 290 targets in total\n",
      "2023-11-09 13:12:21,378 - ERROR - spectrum_fundamentals.metrics.percolator::get_indices_below_fdr Could not find any targets below 0.03 out of 290 targets in total\n"
     ]
    },
    {
     "name": "stderr",
     "output_type": "stream",
     "text": [
      "2023-11-09 13:12:21,356 - ERROR - spectrum_fundamentals.metrics.percolator::get_indices_below_fdr Could not find any targets below 0.08 out of 290 targets in total\n",
      "2023-11-09 13:12:21,378 - ERROR - spectrum_fundamentals.metrics.percolator::get_indices_below_fdr Could not find any targets below 0.03 out of 290 targets in total\n"
     ]
    },
    {
     "name": "stdout",
     "output_type": "stream",
     "text": [
      "2023-11-09 13:12:21,395 - INFO - spectrum_fundamentals.metrics.percolator::apply_lda_and_get_indices_below_fdr Found 0 targets and 241 decoys as input for the LDA model\n",
      "2023-11-09 13:12:21,399 - INFO - spectrum_fundamentals.metrics.percolator::apply_lda_and_get_indices_below_fdr Found 0 targets and 273 decoys as input for the LDA model\n",
      "2023-11-09 14:12:21,405 - INFO - spectrum_io.file.hdf5::write_dataset Data appended to out/data/GN20170722_SK_HLA_G0103_R1_01.mzml.pred.hdf5\n",
      "2023-11-09 13:12:21,425 - ERROR - spectrum_fundamentals.metrics.percolator::get_indices_below_fdr Could not find any targets below 0.03 out of 290 targets in total\n"
     ]
    },
    {
     "name": "stderr",
     "output_type": "stream",
     "text": [
      "2023-11-09 13:12:21,425 - ERROR - spectrum_fundamentals.metrics.percolator::get_indices_below_fdr Could not find any targets below 0.03 out of 290 targets in total\n"
     ]
    },
    {
     "name": "stdout",
     "output_type": "stream",
     "text": [
      "2023-11-09 13:12:21,470 - ERROR - spectrum_fundamentals.metrics.percolator::get_indices_below_fdr Could not find any targets below 0.08 out of 290 targets in total\n"
     ]
    },
    {
     "name": "stderr",
     "output_type": "stream",
     "text": [
      "2023-11-09 13:12:21,470 - ERROR - spectrum_fundamentals.metrics.percolator::get_indices_below_fdr Could not find any targets below 0.08 out of 290 targets in total\n"
     ]
    },
    {
     "name": "stdout",
     "output_type": "stream",
     "text": [
      "2023-11-09 13:12:21,487 - ERROR - spectrum_fundamentals.metrics.percolator::get_indices_below_fdr Could not find any targets below 0.04 out of 290 targets in total\n"
     ]
    },
    {
     "name": "stderr",
     "output_type": "stream",
     "text": [
      "2023-11-09 13:12:21,487 - ERROR - spectrum_fundamentals.metrics.percolator::get_indices_below_fdr Could not find any targets below 0.04 out of 290 targets in total\n"
     ]
    },
    {
     "name": "stdout",
     "output_type": "stream",
     "text": [
      "2023-11-09 13:12:21,506 - ERROR - spectrum_fundamentals.metrics.percolator::get_indices_below_fdr Could not find any targets below 0.09 out of 290 targets in total\n"
     ]
    },
    {
     "name": "stderr",
     "output_type": "stream",
     "text": [
      "2023-11-09 13:12:21,506 - ERROR - spectrum_fundamentals.metrics.percolator::get_indices_below_fdr Could not find any targets below 0.09 out of 290 targets in total\n"
     ]
    },
    {
     "name": "stdout",
     "output_type": "stream",
     "text": [
      "2023-11-09 13:12:21,521 - INFO - spectrum_fundamentals.metrics.percolator::apply_lda_and_get_indices_below_fdr Found 0 targets and 241 decoys as input for the LDA model\n",
      "2023-11-09 13:12:21,523 - INFO - spectrum_fundamentals.metrics.percolator::apply_lda_and_get_indices_below_fdr Found 0 targets and 273 decoys as input for the LDA model\n",
      "2023-11-09 13:12:21,608 - ERROR - spectrum_fundamentals.metrics.percolator::get_indices_below_fdr Could not find any targets below 0.04 out of 290 targets in total\n",
      "2023-11-09 13:12:21,628 - ERROR - spectrum_fundamentals.metrics.percolator::get_indices_below_fdr Could not find any targets below 0.09 out of 290 targets in total\n"
     ]
    },
    {
     "name": "stderr",
     "output_type": "stream",
     "text": [
      "2023-11-09 13:12:21,608 - ERROR - spectrum_fundamentals.metrics.percolator::get_indices_below_fdr Could not find any targets below 0.04 out of 290 targets in total\n"
     ]
    },
    {
     "data": {
      "application/vnd.jupyter.widget-view+json": {
       "model_id": "ddd2bcd499854650bfab3225773f812d",
       "version_major": 2,
       "version_minor": 0
      },
      "text/plain": [
       "Inferring predictions for 1404 spectra with batch site 1000:   0%|          | 0/2 [00:00<?, ?it/s]"
      ]
     },
     "metadata": {},
     "output_type": "display_data"
    },
    {
     "name": "stdout",
     "output_type": "stream",
     "text": [
      "2023-11-09 13:12:21,672 - ERROR - spectrum_fundamentals.metrics.percolator::get_indices_below_fdr Could not find any targets below 0.05 out of 290 targets in total\n"
     ]
    },
    {
     "name": "stderr",
     "output_type": "stream",
     "text": [
      "2023-11-09 13:12:21,628 - ERROR - spectrum_fundamentals.metrics.percolator::get_indices_below_fdr Could not find any targets below 0.09 out of 290 targets in total\n",
      "2023-11-09 13:12:21,672 - ERROR - spectrum_fundamentals.metrics.percolator::get_indices_below_fdr Could not find any targets below 0.05 out of 290 targets in total\n"
     ]
    },
    {
     "name": "stdout",
     "output_type": "stream",
     "text": [
      "2023-11-09 13:12:21,691 - INFO - spectrum_fundamentals.metrics.percolator::apply_lda_and_get_indices_below_fdr Found 0 targets and 273 decoys as input for the LDA model\n",
      "2023-11-09 13:12:21,686 - ERROR - spectrum_fundamentals.metrics.percolator::get_indices_below_fdr Could not find any targets below 0.09999999999999999 out of 290 targets in total\n"
     ]
    },
    {
     "name": "stderr",
     "output_type": "stream",
     "text": [
      "2023-11-09 13:12:21,686 - ERROR - spectrum_fundamentals.metrics.percolator::get_indices_below_fdr Could not find any targets below 0.09999999999999999 out of 290 targets in total\n"
     ]
    },
    {
     "name": "stdout",
     "output_type": "stream",
     "text": [
      "2023-11-09 13:12:21,740 - ERROR - spectrum_fundamentals.metrics.percolator::get_indices_below_fdr Could not find any targets below 0.05 out of 290 targets in total\n",
      "2023-11-09 13:12:21,739 - INFO - spectrum_fundamentals.metrics.percolator::apply_lda_and_get_indices_below_fdr Found 0 targets and 241 decoys as input for the LDA model\n"
     ]
    },
    {
     "name": "stderr",
     "output_type": "stream",
     "text": [
      "2023-11-09 13:12:21,740 - ERROR - spectrum_fundamentals.metrics.percolator::get_indices_below_fdr Could not find any targets below 0.05 out of 290 targets in total\n"
     ]
    },
    {
     "name": "stdout",
     "output_type": "stream",
     "text": [
      "2023-11-09 13:12:21,775 - ERROR - spectrum_fundamentals.metrics.percolator::get_indices_below_fdr Could not find any targets below 0.060000000000000005 out of 290 targets in total\n"
     ]
    },
    {
     "name": "stderr",
     "output_type": "stream",
     "text": [
      "2023-11-09 13:12:21,775 - ERROR - spectrum_fundamentals.metrics.percolator::get_indices_below_fdr Could not find any targets below 0.060000000000000005 out of 290 targets in total\n"
     ]
    },
    {
     "name": "stdout",
     "output_type": "stream",
     "text": [
      "2023-11-09 13:12:21,820 - ERROR - spectrum_fundamentals.metrics.percolator::get_indices_below_fdr Could not find any targets below 0.09999999999999999 out of 290 targets in total\n"
     ]
    },
    {
     "name": "stderr",
     "output_type": "stream",
     "text": [
      "2023-11-09 13:12:21,820 - ERROR - spectrum_fundamentals.metrics.percolator::get_indices_below_fdr Could not find any targets below 0.09999999999999999 out of 290 targets in total\n"
     ]
    },
    {
     "name": "stdout",
     "output_type": "stream",
     "text": [
      "2023-11-09 13:12:21,825 - INFO - spectrum_fundamentals.metrics.percolator::apply_lda_and_get_indices_below_fdr Found 0 targets and 273 decoys as input for the LDA model\n",
      "2023-11-09 13:12:21,880 - ERROR - spectrum_fundamentals.metrics.percolator::get_indices_below_fdr Could not find any targets below 0.060000000000000005 out of 290 targets in total\n",
      "2023-11-09 13:12:21,847 - ERROR - spectrum_fundamentals.metrics.percolator::get_indices_below_fdr Could not find any targets below 0.10999999999999999 out of 290 targets in total\n"
     ]
    },
    {
     "name": "stderr",
     "output_type": "stream",
     "text": [
      "2023-11-09 13:12:21,847 - ERROR - spectrum_fundamentals.metrics.percolator::get_indices_below_fdr Could not find any targets below 0.10999999999999999 out of 290 targets in total\n",
      "2023-11-09 13:12:21,880 - ERROR - spectrum_fundamentals.metrics.percolator::get_indices_below_fdr Could not find any targets below 0.060000000000000005 out of 290 targets in total\n"
     ]
    },
    {
     "name": "stdout",
     "output_type": "stream",
     "text": [
      "2023-11-09 13:12:21,916 - ERROR - spectrum_fundamentals.metrics.percolator::get_indices_below_fdr Could not find any targets below 0.07 out of 290 targets in total\n"
     ]
    },
    {
     "name": "stderr",
     "output_type": "stream",
     "text": [
      "2023-11-09 13:12:21,916 - ERROR - spectrum_fundamentals.metrics.percolator::get_indices_below_fdr Could not find any targets below 0.07 out of 290 targets in total\n"
     ]
    },
    {
     "name": "stdout",
     "output_type": "stream",
     "text": [
      "2023-11-09 13:12:21,914 - INFO - spectrum_fundamentals.metrics.percolator::apply_lda_and_get_indices_below_fdr Found 0 targets and 241 decoys as input for the LDA model\n",
      "2023-11-09 13:12:21,926 - INFO - spectrum_fundamentals.metrics.percolator::apply_lda_and_get_indices_below_fdr Found 0 targets and 273 decoys as input for the LDA model\n",
      "2023-11-09 13:12:21,953 - ERROR - spectrum_fundamentals.metrics.percolator::get_indices_below_fdr Could not find any targets below 0.10999999999999999 out of 290 targets in total\n"
     ]
    },
    {
     "name": "stderr",
     "output_type": "stream",
     "text": [
      "2023-11-09 13:12:21,953 - ERROR - spectrum_fundamentals.metrics.percolator::get_indices_below_fdr Could not find any targets below 0.10999999999999999 out of 290 targets in total\n",
      "/home/karim/projects/spectrum_fundamentals/spectrum_fundamentals/metrics/percolator.py:88: SettingWithCopyWarning: \n",
      "A value is trying to be set on a copy of a slice from a DataFrame.\n",
      "Try using .loc[row_indexer,col_indexer] = value instead\n",
      "\n",
      "See the caveats in the documentation: https://pandas.pydata.org/pandas-docs/stable/user_guide/indexing.html#returning-a-view-versus-a-copy\n",
      "  retention_time_df[\"rt_bin_index\"] = np.digitize(retention_time_df[\"RETENTION_TIME\"], break_points)\n"
     ]
    },
    {
     "name": "stdout",
     "output_type": "stream",
     "text": [
      "2023-11-09 13:12:22,016 - ERROR - spectrum_fundamentals.metrics.percolator::get_indices_below_fdr Could not find any targets below 0.07 out of 290 targets in total\n"
     ]
    },
    {
     "name": "stderr",
     "output_type": "stream",
     "text": [
      "2023-11-09 13:12:22,016 - ERROR - spectrum_fundamentals.metrics.percolator::get_indices_below_fdr Could not find any targets below 0.07 out of 290 targets in total\n"
     ]
    },
    {
     "name": "stdout",
     "output_type": "stream",
     "text": [
      "2023-11-09 13:12:22,048 - ERROR - spectrum_fundamentals.metrics.percolator::get_indices_below_fdr Could not find any targets below 0.08 out of 290 targets in total\n"
     ]
    },
    {
     "name": "stderr",
     "output_type": "stream",
     "text": [
      "2023-11-09 13:12:22,048 - ERROR - spectrum_fundamentals.metrics.percolator::get_indices_below_fdr Could not find any targets below 0.08 out of 290 targets in total\n",
      "/home/karim/miniconda3/envs/oktoberfest/lib/python3.10/site-packages/numpy/core/fromnumeric.py:3464: RuntimeWarning: Mean of empty slice.\n",
      "  return _methods._mean(a, axis=axis, dtype=dtype,\n"
     ]
    },
    {
     "name": "stdout",
     "output_type": "stream",
     "text": [
      "2023-11-09 13:12:22,064 - INFO - spectrum_fundamentals.metrics.percolator::apply_lda_and_get_indices_below_fdr Found 0 targets and 273 decoys as input for the LDA model\n"
     ]
    },
    {
     "name": "stderr",
     "output_type": "stream",
     "text": [
      "/home/karim/miniconda3/envs/oktoberfest/lib/python3.10/site-packages/numpy/core/_methods.py:192: RuntimeWarning: invalid value encountered in scalar divide\n",
      "  ret = ret.dtype.type(ret / rcount)\n"
     ]
    },
    {
     "name": "stdout",
     "output_type": "stream",
     "text": [
      "2023-11-09 13:12:22,080 - INFO - spectrum_fundamentals.metrics.percolator::calc Median absolute error predicted vs observed retention time on targets < 1% FDR: nan\n",
      "2023-11-09 13:12:22,082 - ERROR - spectrum_fundamentals.metrics.percolator::get_indices_below_fdr Could not find any targets below 0.08 out of 290 targets in total\n"
     ]
    },
    {
     "name": "stderr",
     "output_type": "stream",
     "text": [
      "2023-11-09 13:12:22,082 - ERROR - spectrum_fundamentals.metrics.percolator::get_indices_below_fdr Could not find any targets below 0.08 out of 290 targets in total\n"
     ]
    },
    {
     "name": "stdout",
     "output_type": "stream",
     "text": [
      "2023-11-09 13:12:22,108 - ERROR - spectrum_fundamentals.metrics.percolator::get_indices_below_fdr Could not find any targets below 0.09 out of 290 targets in total\n"
     ]
    },
    {
     "name": "stderr",
     "output_type": "stream",
     "text": [
      "2023-11-09 13:12:22,108 - ERROR - spectrum_fundamentals.metrics.percolator::get_indices_below_fdr Could not find any targets below 0.09 out of 290 targets in total\n"
     ]
    },
    {
     "name": "stdout",
     "output_type": "stream",
     "text": [
      "2023-11-09 13:12:22,116 - INFO - spectrum_fundamentals.metrics.percolator::apply_lda_and_get_indices_below_fdr Found 0 targets and 273 decoys as input for the LDA model\n",
      "2023-11-09 13:12:22,168 - ERROR - spectrum_fundamentals.metrics.percolator::get_indices_below_fdr Could not find any targets below 0.09 out of 290 targets in total\n"
     ]
    },
    {
     "name": "stderr",
     "output_type": "stream",
     "text": [
      "2023-11-09 13:12:22,168 - ERROR - spectrum_fundamentals.metrics.percolator::get_indices_below_fdr Could not find any targets below 0.09 out of 290 targets in total\n"
     ]
    },
    {
     "name": "stdout",
     "output_type": "stream",
     "text": [
      "2023-11-09 13:12:22,188 - ERROR - spectrum_fundamentals.metrics.percolator::get_indices_below_fdr Could not find any targets below 0.09999999999999999 out of 290 targets in total\n"
     ]
    },
    {
     "name": "stderr",
     "output_type": "stream",
     "text": [
      "2023-11-09 13:12:22,188 - ERROR - spectrum_fundamentals.metrics.percolator::get_indices_below_fdr Could not find any targets below 0.09999999999999999 out of 290 targets in total\n"
     ]
    },
    {
     "name": "stdout",
     "output_type": "stream",
     "text": [
      "2023-11-09 13:12:22,202 - INFO - spectrum_fundamentals.metrics.percolator::apply_lda_and_get_indices_below_fdr Found 0 targets and 273 decoys as input for the LDA model\n",
      "2023-11-09 13:12:22,227 - ERROR - spectrum_fundamentals.metrics.percolator::get_indices_below_fdr Could not find any targets below 0.09999999999999999 out of 290 targets in total\n"
     ]
    },
    {
     "name": "stderr",
     "output_type": "stream",
     "text": [
      "2023-11-09 13:12:22,227 - ERROR - spectrum_fundamentals.metrics.percolator::get_indices_below_fdr Could not find any targets below 0.09999999999999999 out of 290 targets in total\n"
     ]
    },
    {
     "name": "stdout",
     "output_type": "stream",
     "text": [
      "2023-11-09 13:12:22,250 - ERROR - spectrum_fundamentals.metrics.percolator::get_indices_below_fdr Could not find any targets below 0.10999999999999999 out of 290 targets in total\n"
     ]
    },
    {
     "name": "stderr",
     "output_type": "stream",
     "text": [
      "2023-11-09 13:12:22,250 - ERROR - spectrum_fundamentals.metrics.percolator::get_indices_below_fdr Could not find any targets below 0.10999999999999999 out of 290 targets in total\n"
     ]
    },
    {
     "name": "stdout",
     "output_type": "stream",
     "text": [
      "2023-11-09 13:12:22,266 - INFO - spectrum_fundamentals.metrics.percolator::apply_lda_and_get_indices_below_fdr Found 0 targets and 273 decoys as input for the LDA model\n",
      "2023-11-09 13:12:22,297 - ERROR - spectrum_fundamentals.metrics.percolator::get_indices_below_fdr Could not find any targets below 0.10999999999999999 out of 290 targets in total\n",
      "\n"
     ]
    },
    {
     "name": "stderr",
     "output_type": "stream",
     "text": [
      "2023-11-09 13:12:22,297 - ERROR - spectrum_fundamentals.metrics.percolator::get_indices_below_fdr Could not find any targets below 0.10999999999999999 out of 290 targets in total\n",
      "/home/karim/projects/spectrum_fundamentals/spectrum_fundamentals/metrics/percolator.py:88: SettingWithCopyWarning: \n",
      "A value is trying to be set on a copy of a slice from a DataFrame.\n",
      "Try using .loc[row_indexer,col_indexer] = value instead\n",
      "\n",
      "See the caveats in the documentation: https://pandas.pydata.org/pandas-docs/stable/user_guide/indexing.html#returning-a-view-versus-a-copy\n",
      "  retention_time_df[\"rt_bin_index\"] = np.digitize(retention_time_df[\"RETENTION_TIME\"], break_points)\n"
     ]
    },
    {
     "name": "stdout",
     "output_type": "stream",
     "text": [
      "2023-11-09 14:12:22,351 - INFO - spectrum_io.file.hdf5::write_dataset Data written to out/data/GN20170722_SK_HLA_G0103_R1_02.mzml.pred.hdf5\n"
     ]
    },
    {
     "name": "stderr",
     "output_type": "stream",
     "text": [
      "/home/karim/miniconda3/envs/oktoberfest/lib/python3.10/site-packages/numpy/core/fromnumeric.py:3464: RuntimeWarning: Mean of empty slice.\n",
      "  return _methods._mean(a, axis=axis, dtype=dtype,\n",
      "/home/karim/miniconda3/envs/oktoberfest/lib/python3.10/site-packages/numpy/core/_methods.py:192: RuntimeWarning: invalid value encountered in scalar divide\n",
      "  ret = ret.dtype.type(ret / rcount)\n"
     ]
    },
    {
     "name": "stdout",
     "output_type": "stream",
     "text": [
      "2023-11-09 13:12:22,394 - INFO - spectrum_fundamentals.metrics.percolator::calc Median absolute error predicted vs observed retention time on targets < 1% FDR: nan\n",
      "2023-11-09 14:12:22,412 - INFO - spectrum_io.file.hdf5::write_dataset Data appended to out/data/GN20170722_SK_HLA_G0103_R1_02.mzml.pred.hdf5\n"
     ]
    },
    {
     "name": "stderr",
     "output_type": "stream",
     "text": [
      "/home/karim/miniconda3/envs/oktoberfest/lib/python3.10/site-packages/scipy/stats/_stats_py.py:4424: ConstantInputWarning: An input array is constant; the correlation coefficient is not defined.\n",
      "  warnings.warn(stats.ConstantInputWarning(msg))\n"
     ]
    },
    {
     "name": "stdout",
     "output_type": "stream",
     "text": [
      "2023-11-09 14:12:22,588 - INFO - spectrum_io.file.hdf5::write_dataset Data appended to out/data/GN20170722_SK_HLA_G0103_R1_02.mzml.pred.hdf5\n",
      "2023-11-09 14:12:22,614 - INFO - spectrum_io.file.hdf5::write_dataset Data appended to out/data/GN20170722_SK_HLA_G0103_R1_02.mzml.pred.hdf5\n",
      "\n",
      "2023-11-09 13:12:22,952 - ERROR - spectrum_fundamentals.metrics.percolator::get_indices_below_fdr Could not find any targets below 0.01 out of 581 targets in total\n"
     ]
    },
    {
     "name": "stderr",
     "output_type": "stream",
     "text": [
      "2023-11-09 13:12:22,952 - ERROR - spectrum_fundamentals.metrics.percolator::get_indices_below_fdr Could not find any targets below 0.01 out of 581 targets in total\n"
     ]
    },
    {
     "name": "stdout",
     "output_type": "stream",
     "text": [
      "2023-11-09 13:12:22,954 - INFO - spectrum_fundamentals.metrics.percolator::apply_lda_and_get_indices_below_fdr Found 0 targets and 603 decoys as input for the LDA model\n",
      "2023-11-09 13:12:22,994 - ERROR - spectrum_fundamentals.metrics.percolator::get_indices_below_fdr Could not find any targets below 0.01 out of 581 targets in total\n"
     ]
    },
    {
     "name": "stderr",
     "output_type": "stream",
     "text": [
      "2023-11-09 13:12:22,994 - ERROR - spectrum_fundamentals.metrics.percolator::get_indices_below_fdr Could not find any targets below 0.01 out of 581 targets in total\n"
     ]
    },
    {
     "name": "stdout",
     "output_type": "stream",
     "text": [
      "2023-11-09 13:12:23,014 - ERROR - spectrum_fundamentals.metrics.percolator::get_indices_below_fdr Could not find any targets below 0.02 out of 581 targets in total\n"
     ]
    },
    {
     "name": "stderr",
     "output_type": "stream",
     "text": [
      "2023-11-09 13:12:23,014 - ERROR - spectrum_fundamentals.metrics.percolator::get_indices_below_fdr Could not find any targets below 0.02 out of 581 targets in total\n"
     ]
    },
    {
     "name": "stdout",
     "output_type": "stream",
     "text": [
      "2023-11-09 13:12:23,028 - INFO - spectrum_fundamentals.metrics.percolator::apply_lda_and_get_indices_below_fdr Found 0 targets and 603 decoys as input for the LDA model\n"
     ]
    },
    {
     "name": "stderr",
     "output_type": "stream",
     "text": [
      "/home/karim/miniconda3/envs/oktoberfest/lib/python3.10/site-packages/scipy/stats/_stats_py.py:4424: ConstantInputWarning: An input array is constant; the correlation coefficient is not defined.\n",
      "  warnings.warn(stats.ConstantInputWarning(msg))\n"
     ]
    },
    {
     "name": "stdout",
     "output_type": "stream",
     "text": [
      "2023-11-09 13:12:23,046 - ERROR - spectrum_fundamentals.metrics.percolator::get_indices_below_fdr Could not find any targets below 0.02 out of 581 targets in total\n"
     ]
    },
    {
     "name": "stderr",
     "output_type": "stream",
     "text": [
      "2023-11-09 13:12:23,046 - ERROR - spectrum_fundamentals.metrics.percolator::get_indices_below_fdr Could not find any targets below 0.02 out of 581 targets in total\n"
     ]
    },
    {
     "name": "stdout",
     "output_type": "stream",
     "text": [
      "2023-11-09 13:12:23,066 - ERROR - spectrum_fundamentals.metrics.percolator::get_indices_below_fdr Could not find any targets below 0.03 out of 581 targets in total\n"
     ]
    },
    {
     "name": "stderr",
     "output_type": "stream",
     "text": [
      "2023-11-09 13:12:23,066 - ERROR - spectrum_fundamentals.metrics.percolator::get_indices_below_fdr Could not find any targets below 0.03 out of 581 targets in total\n"
     ]
    },
    {
     "name": "stdout",
     "output_type": "stream",
     "text": [
      "2023-11-09 13:12:23,079 - INFO - spectrum_fundamentals.metrics.percolator::apply_lda_and_get_indices_below_fdr Found 0 targets and 603 decoys as input for the LDA model\n",
      "2023-11-09 13:12:23,103 - ERROR - spectrum_fundamentals.metrics.percolator::get_indices_below_fdr Could not find any targets below 0.03 out of 581 targets in total\n"
     ]
    },
    {
     "name": "stderr",
     "output_type": "stream",
     "text": [
      "2023-11-09 13:12:23,103 - ERROR - spectrum_fundamentals.metrics.percolator::get_indices_below_fdr Could not find any targets below 0.03 out of 581 targets in total\n"
     ]
    },
    {
     "name": "stdout",
     "output_type": "stream",
     "text": [
      "2023-11-09 13:12:23,135 - ERROR - spectrum_fundamentals.metrics.percolator::get_indices_below_fdr Could not find any targets below 0.04 out of 581 targets in total\n"
     ]
    },
    {
     "name": "stderr",
     "output_type": "stream",
     "text": [
      "2023-11-09 13:12:23,135 - ERROR - spectrum_fundamentals.metrics.percolator::get_indices_below_fdr Could not find any targets below 0.04 out of 581 targets in total\n"
     ]
    },
    {
     "name": "stdout",
     "output_type": "stream",
     "text": [
      "2023-11-09 13:12:23,160 - INFO - spectrum_fundamentals.metrics.percolator::apply_lda_and_get_indices_below_fdr Found 0 targets and 603 decoys as input for the LDA model\n",
      "2023-11-09 13:12:23,189 - ERROR - spectrum_fundamentals.metrics.percolator::get_indices_below_fdr Could not find any targets below 0.04 out of 581 targets in total\n"
     ]
    },
    {
     "name": "stderr",
     "output_type": "stream",
     "text": [
      "2023-11-09 13:12:23,189 - ERROR - spectrum_fundamentals.metrics.percolator::get_indices_below_fdr Could not find any targets below 0.04 out of 581 targets in total\n"
     ]
    },
    {
     "name": "stdout",
     "output_type": "stream",
     "text": [
      "2023-11-09 13:12:23,221 - ERROR - spectrum_fundamentals.metrics.percolator::get_indices_below_fdr Could not find any targets below 0.05 out of 581 targets in total\n"
     ]
    },
    {
     "name": "stderr",
     "output_type": "stream",
     "text": [
      "2023-11-09 13:12:23,221 - ERROR - spectrum_fundamentals.metrics.percolator::get_indices_below_fdr Could not find any targets below 0.05 out of 581 targets in total\n"
     ]
    },
    {
     "name": "stdout",
     "output_type": "stream",
     "text": [
      "2023-11-09 13:12:23,259 - INFO - spectrum_fundamentals.metrics.percolator::apply_lda_and_get_indices_below_fdr Found 0 targets and 603 decoys as input for the LDA model\n",
      "2023-11-09 13:12:23,294 - ERROR - spectrum_fundamentals.metrics.percolator::get_indices_below_fdr Could not find any targets below 0.05 out of 581 targets in total\n"
     ]
    },
    {
     "name": "stderr",
     "output_type": "stream",
     "text": [
      "2023-11-09 13:12:23,294 - ERROR - spectrum_fundamentals.metrics.percolator::get_indices_below_fdr Could not find any targets below 0.05 out of 581 targets in total\n"
     ]
    },
    {
     "name": "stdout",
     "output_type": "stream",
     "text": [
      "2023-11-09 13:12:23,331 - ERROR - spectrum_fundamentals.metrics.percolator::get_indices_below_fdr Could not find any targets below 0.060000000000000005 out of 581 targets in total\n"
     ]
    },
    {
     "name": "stderr",
     "output_type": "stream",
     "text": [
      "2023-11-09 13:12:23,331 - ERROR - spectrum_fundamentals.metrics.percolator::get_indices_below_fdr Could not find any targets below 0.060000000000000005 out of 581 targets in total\n"
     ]
    },
    {
     "name": "stdout",
     "output_type": "stream",
     "text": [
      "2023-11-09 13:12:23,346 - INFO - spectrum_fundamentals.metrics.percolator::apply_lda_and_get_indices_below_fdr Found 0 targets and 603 decoys as input for the LDA model\n",
      "2023-11-09 13:12:23,377 - ERROR - spectrum_fundamentals.metrics.percolator::get_indices_below_fdr Could not find any targets below 0.060000000000000005 out of 581 targets in total\n"
     ]
    },
    {
     "name": "stderr",
     "output_type": "stream",
     "text": [
      "2023-11-09 13:12:23,377 - ERROR - spectrum_fundamentals.metrics.percolator::get_indices_below_fdr Could not find any targets below 0.060000000000000005 out of 581 targets in total\n"
     ]
    },
    {
     "name": "stdout",
     "output_type": "stream",
     "text": [
      "2023-11-09 13:12:23,411 - ERROR - spectrum_fundamentals.metrics.percolator::get_indices_below_fdr Could not find any targets below 0.07 out of 581 targets in total\n"
     ]
    },
    {
     "name": "stderr",
     "output_type": "stream",
     "text": [
      "2023-11-09 13:12:23,411 - ERROR - spectrum_fundamentals.metrics.percolator::get_indices_below_fdr Could not find any targets below 0.07 out of 581 targets in total\n"
     ]
    },
    {
     "name": "stdout",
     "output_type": "stream",
     "text": [
      "2023-11-09 13:12:23,448 - INFO - spectrum_fundamentals.metrics.percolator::apply_lda_and_get_indices_below_fdr Found 0 targets and 603 decoys as input for the LDA model\n",
      "2023-11-09 13:12:23,522 - ERROR - spectrum_fundamentals.metrics.percolator::get_indices_below_fdr Could not find any targets below 0.07 out of 581 targets in total\n"
     ]
    },
    {
     "name": "stderr",
     "output_type": "stream",
     "text": [
      "2023-11-09 13:12:23,522 - ERROR - spectrum_fundamentals.metrics.percolator::get_indices_below_fdr Could not find any targets below 0.07 out of 581 targets in total\n"
     ]
    },
    {
     "name": "stdout",
     "output_type": "stream",
     "text": [
      "2023-11-09 13:12:23,553 - ERROR - spectrum_fundamentals.metrics.percolator::get_indices_below_fdr Could not find any targets below 0.08 out of 581 targets in total\n"
     ]
    },
    {
     "name": "stderr",
     "output_type": "stream",
     "text": [
      "2023-11-09 13:12:23,553 - ERROR - spectrum_fundamentals.metrics.percolator::get_indices_below_fdr Could not find any targets below 0.08 out of 581 targets in total\n"
     ]
    },
    {
     "name": "stdout",
     "output_type": "stream",
     "text": [
      "2023-11-09 13:12:23,570 - INFO - spectrum_fundamentals.metrics.percolator::apply_lda_and_get_indices_below_fdr Found 0 targets and 603 decoys as input for the LDA model\n",
      "2023-11-09 13:12:23,591 - ERROR - spectrum_fundamentals.metrics.percolator::get_indices_below_fdr Could not find any targets below 0.08 out of 581 targets in total\n"
     ]
    },
    {
     "name": "stderr",
     "output_type": "stream",
     "text": [
      "2023-11-09 13:12:23,591 - ERROR - spectrum_fundamentals.metrics.percolator::get_indices_below_fdr Could not find any targets below 0.08 out of 581 targets in total\n"
     ]
    },
    {
     "name": "stdout",
     "output_type": "stream",
     "text": [
      "2023-11-09 13:12:23,627 - ERROR - spectrum_fundamentals.metrics.percolator::get_indices_below_fdr Could not find any targets below 0.09 out of 581 targets in total\n"
     ]
    },
    {
     "name": "stderr",
     "output_type": "stream",
     "text": [
      "2023-11-09 13:12:23,627 - ERROR - spectrum_fundamentals.metrics.percolator::get_indices_below_fdr Could not find any targets below 0.09 out of 581 targets in total\n"
     ]
    },
    {
     "name": "stdout",
     "output_type": "stream",
     "text": [
      "2023-11-09 13:12:23,635 - INFO - spectrum_fundamentals.metrics.percolator::apply_lda_and_get_indices_below_fdr Found 0 targets and 603 decoys as input for the LDA model\n",
      "2023-11-09 13:12:23,641 - ERROR - spectrum_fundamentals.metrics.percolator::get_indices_below_fdr Could not find any targets below 0.01 out of 707 targets in total\n"
     ]
    },
    {
     "name": "stderr",
     "output_type": "stream",
     "text": [
      "2023-11-09 13:12:23,641 - ERROR - spectrum_fundamentals.metrics.percolator::get_indices_below_fdr Could not find any targets below 0.01 out of 707 targets in total\n"
     ]
    },
    {
     "name": "stdout",
     "output_type": "stream",
     "text": [
      "2023-11-09 13:12:23,643 - INFO - spectrum_fundamentals.metrics.percolator::apply_lda_and_get_indices_below_fdr Found 0 targets and 697 decoys as input for the LDA model\n",
      "2023-11-09 13:12:23,679 - ERROR - spectrum_fundamentals.metrics.percolator::get_indices_below_fdr Could not find any targets below 0.09 out of 581 targets in total\n"
     ]
    },
    {
     "name": "stderr",
     "output_type": "stream",
     "text": [
      "2023-11-09 13:12:23,679 - ERROR - spectrum_fundamentals.metrics.percolator::get_indices_below_fdr Could not find any targets below 0.09 out of 581 targets in total\n"
     ]
    },
    {
     "name": "stdout",
     "output_type": "stream",
     "text": [
      "2023-11-09 13:12:23,731 - ERROR - spectrum_fundamentals.metrics.percolator::get_indices_below_fdr Could not find any targets below 0.01 out of 707 targets in total\n"
     ]
    },
    {
     "name": "stderr",
     "output_type": "stream",
     "text": [
      "2023-11-09 13:12:23,731 - ERROR - spectrum_fundamentals.metrics.percolator::get_indices_below_fdr Could not find any targets below 0.01 out of 707 targets in total\n"
     ]
    },
    {
     "name": "stdout",
     "output_type": "stream",
     "text": [
      "2023-11-09 13:12:23,725 - ERROR - spectrum_fundamentals.metrics.percolator::get_indices_below_fdr Could not find any targets below 0.09999999999999999 out of 581 targets in total\n",
      "2023-11-09 13:12:23,755 - ERROR - spectrum_fundamentals.metrics.percolator::get_indices_below_fdr Could not find any targets below 0.02 out of 707 targets in total\n"
     ]
    },
    {
     "name": "stderr",
     "output_type": "stream",
     "text": [
      "2023-11-09 13:12:23,725 - ERROR - spectrum_fundamentals.metrics.percolator::get_indices_below_fdr Could not find any targets below 0.09999999999999999 out of 581 targets in total\n",
      "2023-11-09 13:12:23,755 - ERROR - spectrum_fundamentals.metrics.percolator::get_indices_below_fdr Could not find any targets below 0.02 out of 707 targets in total\n"
     ]
    },
    {
     "name": "stdout",
     "output_type": "stream",
     "text": [
      "2023-11-09 13:12:23,764 - INFO - spectrum_fundamentals.metrics.percolator::apply_lda_and_get_indices_below_fdr Found 0 targets and 603 decoys as input for the LDA model\n",
      "2023-11-09 13:12:23,791 - INFO - spectrum_fundamentals.metrics.percolator::apply_lda_and_get_indices_below_fdr Found 0 targets and 697 decoys as input for the LDA model\n",
      "2023-11-09 13:12:23,821 - ERROR - spectrum_fundamentals.metrics.percolator::get_indices_below_fdr Could not find any targets below 0.09999999999999999 out of 581 targets in total\n",
      "2023-11-09 13:12:23,846 - ERROR - spectrum_fundamentals.metrics.percolator::get_indices_below_fdr Could not find any targets below 0.02 out of 707 targets in total\n"
     ]
    },
    {
     "name": "stderr",
     "output_type": "stream",
     "text": [
      "2023-11-09 13:12:23,821 - ERROR - spectrum_fundamentals.metrics.percolator::get_indices_below_fdr Could not find any targets below 0.09999999999999999 out of 581 targets in total\n",
      "2023-11-09 13:12:23,846 - ERROR - spectrum_fundamentals.metrics.percolator::get_indices_below_fdr Could not find any targets below 0.02 out of 707 targets in total\n"
     ]
    },
    {
     "name": "stdout",
     "output_type": "stream",
     "text": [
      "2023-11-09 13:12:23,874 - ERROR - spectrum_fundamentals.metrics.percolator::get_indices_below_fdr Could not find any targets below 0.10999999999999999 out of 581 targets in total\n",
      "2023-11-09 13:12:23,882 - ERROR - spectrum_fundamentals.metrics.percolator::get_indices_below_fdr Could not find any targets below 0.03 out of 707 targets in total\n"
     ]
    },
    {
     "name": "stderr",
     "output_type": "stream",
     "text": [
      "2023-11-09 13:12:23,874 - ERROR - spectrum_fundamentals.metrics.percolator::get_indices_below_fdr Could not find any targets below 0.10999999999999999 out of 581 targets in total\n",
      "2023-11-09 13:12:23,882 - ERROR - spectrum_fundamentals.metrics.percolator::get_indices_below_fdr Could not find any targets below 0.03 out of 707 targets in total\n"
     ]
    },
    {
     "name": "stdout",
     "output_type": "stream",
     "text": [
      "2023-11-09 13:12:23,904 - INFO - spectrum_fundamentals.metrics.percolator::apply_lda_and_get_indices_below_fdr Found 0 targets and 603 decoys as input for the LDA model\n",
      "2023-11-09 13:12:23,904 - INFO - spectrum_fundamentals.metrics.percolator::apply_lda_and_get_indices_below_fdr Found 0 targets and 697 decoys as input for the LDA model\n",
      "2023-11-09 13:12:23,936 - ERROR - spectrum_fundamentals.metrics.percolator::get_indices_below_fdr Could not find any targets below 0.03 out of 707 targets in total\n"
     ]
    },
    {
     "name": "stderr",
     "output_type": "stream",
     "text": [
      "2023-11-09 13:12:23,936 - ERROR - spectrum_fundamentals.metrics.percolator::get_indices_below_fdr Could not find any targets below 0.03 out of 707 targets in total\n"
     ]
    },
    {
     "name": "stdout",
     "output_type": "stream",
     "text": [
      "2023-11-09 13:12:23,952 - ERROR - spectrum_fundamentals.metrics.percolator::get_indices_below_fdr Could not find any targets below 0.10999999999999999 out of 581 targets in total\n",
      "2023-11-09 13:12:23,973 - ERROR - spectrum_fundamentals.metrics.percolator::get_indices_below_fdr Could not find any targets below 0.04 out of 707 targets in total\n"
     ]
    },
    {
     "name": "stderr",
     "output_type": "stream",
     "text": [
      "2023-11-09 13:12:23,973 - ERROR - spectrum_fundamentals.metrics.percolator::get_indices_below_fdr Could not find any targets below 0.04 out of 707 targets in total\n",
      "2023-11-09 13:12:23,952 - ERROR - spectrum_fundamentals.metrics.percolator::get_indices_below_fdr Could not find any targets below 0.10999999999999999 out of 581 targets in total\n",
      "/home/karim/projects/spectrum_fundamentals/spectrum_fundamentals/metrics/percolator.py:88: SettingWithCopyWarning: \n",
      "A value is trying to be set on a copy of a slice from a DataFrame.\n",
      "Try using .loc[row_indexer,col_indexer] = value instead\n",
      "\n",
      "See the caveats in the documentation: https://pandas.pydata.org/pandas-docs/stable/user_guide/indexing.html#returning-a-view-versus-a-copy\n",
      "  retention_time_df[\"rt_bin_index\"] = np.digitize(retention_time_df[\"RETENTION_TIME\"], break_points)\n"
     ]
    },
    {
     "name": "stdout",
     "output_type": "stream",
     "text": [
      "2023-11-09 13:12:23,996 - INFO - spectrum_fundamentals.metrics.percolator::apply_lda_and_get_indices_below_fdr Found 0 targets and 697 decoys as input for the LDA model\n",
      "2023-11-09 13:12:24,022 - ERROR - spectrum_fundamentals.metrics.percolator::get_indices_below_fdr Could not find any targets below 0.04 out of 707 targets in total\n"
     ]
    },
    {
     "name": "stderr",
     "output_type": "stream",
     "text": [
      "/home/karim/miniconda3/envs/oktoberfest/lib/python3.10/site-packages/numpy/core/fromnumeric.py:3464: RuntimeWarning: Mean of empty slice.\n",
      "  return _methods._mean(a, axis=axis, dtype=dtype,\n",
      "/home/karim/miniconda3/envs/oktoberfest/lib/python3.10/site-packages/numpy/core/_methods.py:192: RuntimeWarning: invalid value encountered in scalar divide\n",
      "  ret = ret.dtype.type(ret / rcount)\n",
      "2023-11-09 13:12:24,022 - ERROR - spectrum_fundamentals.metrics.percolator::get_indices_below_fdr Could not find any targets below 0.04 out of 707 targets in total\n"
     ]
    },
    {
     "name": "stdout",
     "output_type": "stream",
     "text": [
      "2023-11-09 13:12:24,049 - INFO - spectrum_fundamentals.metrics.percolator::calc Median absolute error predicted vs observed retention time on targets < 1% FDR: nan\n",
      "2023-11-09 13:12:24,054 - ERROR - spectrum_fundamentals.metrics.percolator::get_indices_below_fdr Could not find any targets below 0.05 out of 707 targets in total\n"
     ]
    },
    {
     "name": "stderr",
     "output_type": "stream",
     "text": [
      "2023-11-09 13:12:24,054 - ERROR - spectrum_fundamentals.metrics.percolator::get_indices_below_fdr Could not find any targets below 0.05 out of 707 targets in total\n"
     ]
    },
    {
     "name": "stdout",
     "output_type": "stream",
     "text": [
      "2023-11-09 13:12:24,067 - INFO - spectrum_fundamentals.metrics.percolator::apply_lda_and_get_indices_below_fdr Found 0 targets and 697 decoys as input for the LDA model\n",
      "2023-11-09 13:12:24,104 - ERROR - spectrum_fundamentals.metrics.percolator::get_indices_below_fdr Could not find any targets below 0.05 out of 707 targets in total\n"
     ]
    },
    {
     "name": "stderr",
     "output_type": "stream",
     "text": [
      "2023-11-09 13:12:24,104 - ERROR - spectrum_fundamentals.metrics.percolator::get_indices_below_fdr Could not find any targets below 0.05 out of 707 targets in total\n"
     ]
    },
    {
     "name": "stdout",
     "output_type": "stream",
     "text": [
      "2023-11-09 13:12:24,111 - ERROR - spectrum_fundamentals.metrics.percolator::get_indices_below_fdr Could not find any targets below 0.060000000000000005 out of 707 targets in total\n"
     ]
    },
    {
     "name": "stderr",
     "output_type": "stream",
     "text": [
      "2023-11-09 13:12:24,111 - ERROR - spectrum_fundamentals.metrics.percolator::get_indices_below_fdr Could not find any targets below 0.060000000000000005 out of 707 targets in total\n"
     ]
    },
    {
     "name": "stdout",
     "output_type": "stream",
     "text": [
      "2023-11-09 13:12:24,129 - INFO - spectrum_fundamentals.metrics.percolator::apply_lda_and_get_indices_below_fdr Found 0 targets and 697 decoys as input for the LDA model\n",
      "2023-11-09 13:12:24,152 - ERROR - spectrum_fundamentals.metrics.percolator::get_indices_below_fdr Could not find any targets below 0.060000000000000005 out of 707 targets in total\n"
     ]
    },
    {
     "name": "stderr",
     "output_type": "stream",
     "text": [
      "2023-11-09 13:12:24,152 - ERROR - spectrum_fundamentals.metrics.percolator::get_indices_below_fdr Could not find any targets below 0.060000000000000005 out of 707 targets in total\n"
     ]
    },
    {
     "name": "stdout",
     "output_type": "stream",
     "text": [
      "2023-11-09 13:12:24,158 - ERROR - spectrum_fundamentals.metrics.percolator::get_indices_below_fdr Could not find any targets below 0.07 out of 707 targets in total\n"
     ]
    },
    {
     "name": "stderr",
     "output_type": "stream",
     "text": [
      "2023-11-09 13:12:24,158 - ERROR - spectrum_fundamentals.metrics.percolator::get_indices_below_fdr Could not find any targets below 0.07 out of 707 targets in total\n"
     ]
    },
    {
     "name": "stdout",
     "output_type": "stream",
     "text": [
      "2023-11-09 13:12:24,182 - INFO - spectrum_fundamentals.metrics.percolator::apply_lda_and_get_indices_below_fdr Found 0 targets and 697 decoys as input for the LDA model\n",
      "2023-11-09 13:12:24,201 - ERROR - spectrum_fundamentals.metrics.percolator::get_indices_below_fdr Could not find any targets below 0.07 out of 707 targets in total\n"
     ]
    },
    {
     "name": "stderr",
     "output_type": "stream",
     "text": [
      "2023-11-09 13:12:24,201 - ERROR - spectrum_fundamentals.metrics.percolator::get_indices_below_fdr Could not find any targets below 0.07 out of 707 targets in total\n"
     ]
    },
    {
     "name": "stdout",
     "output_type": "stream",
     "text": [
      "2023-11-09 13:12:24,217 - ERROR - spectrum_fundamentals.metrics.percolator::get_indices_below_fdr Could not find any targets below 0.08 out of 707 targets in total\n"
     ]
    },
    {
     "name": "stderr",
     "output_type": "stream",
     "text": [
      "2023-11-09 13:12:24,217 - ERROR - spectrum_fundamentals.metrics.percolator::get_indices_below_fdr Could not find any targets below 0.08 out of 707 targets in total\n"
     ]
    },
    {
     "name": "stdout",
     "output_type": "stream",
     "text": [
      "2023-11-09 13:12:24,232 - INFO - spectrum_fundamentals.metrics.percolator::apply_lda_and_get_indices_below_fdr Found 0 targets and 697 decoys as input for the LDA model\n",
      "2023-11-09 13:12:24,267 - ERROR - spectrum_fundamentals.metrics.percolator::get_indices_below_fdr Could not find any targets below 0.08 out of 707 targets in total\n"
     ]
    },
    {
     "name": "stderr",
     "output_type": "stream",
     "text": [
      "2023-11-09 13:12:24,267 - ERROR - spectrum_fundamentals.metrics.percolator::get_indices_below_fdr Could not find any targets below 0.08 out of 707 targets in total\n"
     ]
    },
    {
     "name": "stdout",
     "output_type": "stream",
     "text": [
      "2023-11-09 13:12:24,297 - ERROR - spectrum_fundamentals.metrics.percolator::get_indices_below_fdr Could not find any targets below 0.09 out of 707 targets in total\n"
     ]
    },
    {
     "name": "stderr",
     "output_type": "stream",
     "text": [
      "2023-11-09 13:12:24,297 - ERROR - spectrum_fundamentals.metrics.percolator::get_indices_below_fdr Could not find any targets below 0.09 out of 707 targets in total\n"
     ]
    },
    {
     "name": "stdout",
     "output_type": "stream",
     "text": [
      "2023-11-09 13:12:24,305 - INFO - spectrum_fundamentals.metrics.percolator::apply_lda_and_get_indices_below_fdr Found 0 targets and 697 decoys as input for the LDA model\n",
      "2023-11-09 13:12:24,334 - ERROR - spectrum_fundamentals.metrics.percolator::get_indices_below_fdr Could not find any targets below 0.09 out of 707 targets in total\n"
     ]
    },
    {
     "name": "stderr",
     "output_type": "stream",
     "text": [
      "2023-11-09 13:12:24,334 - ERROR - spectrum_fundamentals.metrics.percolator::get_indices_below_fdr Could not find any targets below 0.09 out of 707 targets in total\n"
     ]
    },
    {
     "name": "stdout",
     "output_type": "stream",
     "text": [
      "2023-11-09 13:12:24,351 - ERROR - spectrum_fundamentals.metrics.percolator::get_indices_below_fdr Could not find any targets below 0.09999999999999999 out of 707 targets in total\n"
     ]
    },
    {
     "name": "stderr",
     "output_type": "stream",
     "text": [
      "2023-11-09 13:12:24,351 - ERROR - spectrum_fundamentals.metrics.percolator::get_indices_below_fdr Could not find any targets below 0.09999999999999999 out of 707 targets in total\n"
     ]
    },
    {
     "name": "stdout",
     "output_type": "stream",
     "text": [
      "2023-11-09 13:12:24,374 - INFO - spectrum_fundamentals.metrics.percolator::apply_lda_and_get_indices_below_fdr Found 0 targets and 697 decoys as input for the LDA model\n",
      "2023-11-09 13:12:24,393 - ERROR - spectrum_fundamentals.metrics.percolator::get_indices_below_fdr Could not find any targets below 0.09999999999999999 out of 707 targets in total\n"
     ]
    },
    {
     "name": "stderr",
     "output_type": "stream",
     "text": [
      "2023-11-09 13:12:24,393 - ERROR - spectrum_fundamentals.metrics.percolator::get_indices_below_fdr Could not find any targets below 0.09999999999999999 out of 707 targets in total\n"
     ]
    },
    {
     "name": "stdout",
     "output_type": "stream",
     "text": [
      "2023-11-09 13:12:24,420 - ERROR - spectrum_fundamentals.metrics.percolator::get_indices_below_fdr Could not find any targets below 0.10999999999999999 out of 707 targets in total\n"
     ]
    },
    {
     "name": "stderr",
     "output_type": "stream",
     "text": [
      "2023-11-09 13:12:24,420 - ERROR - spectrum_fundamentals.metrics.percolator::get_indices_below_fdr Could not find any targets below 0.10999999999999999 out of 707 targets in total\n"
     ]
    },
    {
     "name": "stdout",
     "output_type": "stream",
     "text": [
      "2023-11-09 13:12:24,429 - INFO - spectrum_fundamentals.metrics.percolator::apply_lda_and_get_indices_below_fdr Found 0 targets and 697 decoys as input for the LDA model\n",
      "2023-11-09 13:12:24,463 - ERROR - spectrum_fundamentals.metrics.percolator::get_indices_below_fdr Could not find any targets below 0.10999999999999999 out of 707 targets in total\n"
     ]
    },
    {
     "name": "stderr",
     "output_type": "stream",
     "text": [
      "2023-11-09 13:12:24,463 - ERROR - spectrum_fundamentals.metrics.percolator::get_indices_below_fdr Could not find any targets below 0.10999999999999999 out of 707 targets in total\n",
      "/home/karim/projects/spectrum_fundamentals/spectrum_fundamentals/metrics/percolator.py:88: SettingWithCopyWarning: \n",
      "A value is trying to be set on a copy of a slice from a DataFrame.\n",
      "Try using .loc[row_indexer,col_indexer] = value instead\n",
      "\n",
      "See the caveats in the documentation: https://pandas.pydata.org/pandas-docs/stable/user_guide/indexing.html#returning-a-view-versus-a-copy\n",
      "  retention_time_df[\"rt_bin_index\"] = np.digitize(retention_time_df[\"RETENTION_TIME\"], break_points)\n",
      "/home/karim/miniconda3/envs/oktoberfest/lib/python3.10/site-packages/numpy/core/fromnumeric.py:3464: RuntimeWarning: Mean of empty slice.\n",
      "  return _methods._mean(a, axis=axis, dtype=dtype,\n",
      "/home/karim/miniconda3/envs/oktoberfest/lib/python3.10/site-packages/numpy/core/_methods.py:192: RuntimeWarning: invalid value encountered in scalar divide\n",
      "  ret = ret.dtype.type(ret / rcount)\n"
     ]
    },
    {
     "name": "stdout",
     "output_type": "stream",
     "text": [
      "2023-11-09 13:12:24,551 - INFO - spectrum_fundamentals.metrics.percolator::calc Median absolute error predicted vs observed retention time on targets < 1% FDR: nan\n",
      "2023-11-09 14:12:24,636 - INFO - oktoberfest.runner::run_rescoring Merging input tab files for rescoring without peptide property prediction\n",
      "2023-11-09 14:12:24,674 - INFO - oktoberfest.runner::run_rescoring Merging input tab files for rescoring with peptide property prediction\n",
      "2023-11-09 14:12:24,814 - INFO - oktoberfest.rescore.rescore::rescore_with_percolator Starting percolator with command percolator --weights out/results/percolator/original.percolator.weights.csv                     --num-threads 3                     --subset-max-train 500000                     --post-processing-tdc                     --testFDR 0.01                     --trainFDR 0.01                     --results-psms out/results/percolator/original.percolator.psms.txt                     --decoy-results-psms out/results/percolator/original.percolator.decoy.psms.txt                     --results-peptides out/results/percolator/original.percolator.peptides.txt                     --decoy-results-peptides out/results/percolator/original.percolator.decoy.peptides.txt                     out/results/percolator/original.tab 2> out/results/percolator/original.log\n",
      "2023-11-09 14:12:45,476 - INFO - oktoberfest.rescore.rescore::rescore_with_percolator Finished rescoring using percolator.\n",
      "2023-11-09 14:12:45,477 - INFO - oktoberfest.rescore.rescore::rescore_with_percolator Starting percolator with command percolator --weights out/results/percolator/rescore.percolator.weights.csv                     --num-threads 3                     --subset-max-train 500000                     --post-processing-tdc                     --testFDR 0.01                     --trainFDR 0.01                     --results-psms out/results/percolator/rescore.percolator.psms.txt                     --decoy-results-psms out/results/percolator/rescore.percolator.decoy.psms.txt                     --results-peptides out/results/percolator/rescore.percolator.peptides.txt                     --decoy-results-peptides out/results/percolator/rescore.percolator.decoy.peptides.txt                     out/results/percolator/rescore.tab 2> out/results/percolator/rescore.log\n",
      "2023-11-09 14:12:50,116 - INFO - oktoberfest.rescore.rescore::rescore_with_percolator Finished rescoring using percolator.\n",
      "2023-11-09 14:12:51,813 - INFO - oktoberfest.runner::run_rescoring Finished rescoring.\n"
     ]
    }
   ],
   "source": [
    "run_job(\"rescoring_config.json\")"
   ]
  },
  {
   "cell_type": "code",
   "execution_count": null,
   "metadata": {},
   "outputs": [],
   "source": []
  },
  {
   "cell_type": "code",
   "execution_count": null,
   "metadata": {},
   "outputs": [],
   "source": []
  }
 ],
 "metadata": {
  "kernelspec": {
   "display_name": "Python 3 (ipykernel)",
   "language": "python",
   "name": "python3"
  },
  "language_info": {
   "codemirror_mode": {
    "name": "ipython",
    "version": 3
   },
   "file_extension": ".py",
   "mimetype": "text/x-python",
   "name": "python",
   "nbconvert_exporter": "python",
   "pygments_lexer": "ipython3",
   "version": "3.10.0"
  }
 },
 "nbformat": 4,
 "nbformat_minor": 4
}
