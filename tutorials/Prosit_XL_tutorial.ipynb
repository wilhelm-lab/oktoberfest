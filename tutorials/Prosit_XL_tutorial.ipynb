{
 "cells": [
  {
   "cell_type": "markdown",
   "metadata": {},
   "source": [
    "# Rescoring of XL-MS data using Oktoberfest\n",
    "\n",
    "This notebook provides an overview of rescoring XL-MS data in Oktoberfest. "
   ]
  },
  {
   "cell_type": "markdown",
   "metadata": {},
   "source": [
    "## 1. Installation:\n",
    "\n",
    "### Percolator:\n",
    "- To install percolator on windows download this file: https://github.com/percolator/percolator/releases/download/rel-3-06-01/percolator-v3-06.exe\n",
    "- Run the downloaded file while running the setup make sure to select \"add percolator to the system PATH for all users\" when asked.\n",
    "\n",
    "### ThermoRawFileParser:\n",
    "- You need this if you want to read thermo rawfiles.\n",
    "- First download this zip folder localy: https://github.com/compomics/ThermoRawFileParser/releases/download/v1.4.3/ThermoRawFileParser1.4.3.zip\n",
    "- Extract the contents of the zip folder and make sure to know where this is saved this will be used later by oktoberfest.\n",
    "\n",
    "### Oktoberfest:\n",
    "- Oktoberfest currenty support Python version 3.10 so please install this python version.\n",
    "- Install oktoberfest using pip install oktoberfest"
   ]
  },
  {
   "cell_type": "markdown",
   "metadata": {},
   "source": [
    "## 2. Import necessary python packages"
   ]
  },
  {
   "cell_type": "code",
   "execution_count": 14,
   "metadata": {
    "tags": []
   },
   "outputs": [],
   "source": [
    "import os\n",
    "from oktoberfest.runner import run_job\n",
    "import json\n",
    "import urllib.request\n",
    "import shutil\n",
    "from tqdm import tqdm"
   ]
  },
  {
   "cell_type": "markdown",
   "metadata": {},
   "source": [
    "## 3. Download files from zenodo required for rescoring task\n",
    "\n",
    "The data used in this tutorial is available through a public Zenodo record.\n",
    "The dataset is approximately 639 MB in size and includes:\n",
    "\n",
    "- msms.csv: the output from **XiSearch (version 1.8.7)**\n",
    "\n",
    "- one RAW file used for rescoring crosslinked peptides."
   ]
  },
  {
   "cell_type": "markdown",
   "metadata": {},
   "source": [
    "### Get the current directory and set the file name"
   ]
  },
  {
   "cell_type": "code",
   "execution_count": 4,
   "metadata": {
    "tags": []
   },
   "outputs": [],
   "source": [
    "download_dir = os.getcwd()\n",
    "download_file = os.path.join(download_dir, \"Oktoberfest_XL_input.zip\")\n",
    "url = \"https://zenodo.org/records/15639875/files/Oktoberfest_XL_input.zip?download=1\"\n",
    "\n",
    "# set download to False if you already have the file and don\"t want to download again in the next step\n",
    "download = True"
   ]
  },
  {
   "cell_type": "markdown",
   "metadata": {},
   "source": [
    "### Download and extract files from zenodo to the same directory"
   ]
  },
  {
   "cell_type": "code",
   "execution_count": 5,
   "metadata": {
    "tags": []
   },
   "outputs": [
    {
     "name": "stderr",
     "output_type": "stream",
     "text": [
      "Oktoberfest_XL_input.zip?download=1: 640MB [23:50, 447kB/s]                                                                \n"
     ]
    }
   ],
   "source": [
    "if download:\n",
    "    with tqdm(unit=\"B\", total=639600000, unit_scale=True, unit_divisor=1000, miniters=1, desc=url.split(\"/\")[-1]) as t:\n",
    "        urllib.request.urlretrieve(\n",
    "            url=url,\n",
    "            filename=download_file,\n",
    "            reporthook=lambda blocks, block_size, _: t.update(blocks * block_size - t.n)\n",
    "        )\n",
    "    shutil.unpack_archive(download_file, download_dir)\n"
   ]
  },
  {
   "cell_type": "markdown",
   "metadata": {},
   "source": [
    "### Check downloaded files"
   ]
  },
  {
   "cell_type": "code",
   "execution_count": 15,
   "metadata": {
    "tags": []
   },
   "outputs": [
    {
     "name": "stdout",
     "output_type": "stream",
     "text": [
      "Downloaded data is stored in /home/mkalhor/oktoberfest/tutorials/Oktoberfest_XL_input\n",
      "Contents:\n"
     ]
    },
    {
     "data": {
      "text/plain": [
       "['msms.csv',\n",
       " 'XLpeplib_Beveridge_QEx-HFX_DSSO_stHCD.raw',\n",
       " 'XLpeplib_Beveridge_QEx-HFX_DSSO_stHCD.raw:Zone.Identifier']"
      ]
     },
     "execution_count": 15,
     "metadata": {},
     "output_type": "execute_result"
    }
   ],
   "source": [
    "input_dir = download_file[:-4]\n",
    "print(f\"Downloaded data is stored in {input_dir}\\nContents:\")\n",
    "os.listdir(input_dir)"
   ]
  },
  {
   "cell_type": "markdown",
   "metadata": {},
   "source": [
    "## 4. Rescoring\n",
    "**Important**: The intensity model specified in the config file is\n",
    "**Prosit_2023_intensity_XL_CMS2** — this is used because DSSO was the crosslinker in this dataset.\n",
    "\n",
    "If you are using non-cleavable crosslinkers (e.g., DSS or BS3), make sure to update the model name in the config file to:\n",
    "**Prosit_2024_intensity_XL_NMS2**"
   ]
  },
  {
   "cell_type": "markdown",
   "metadata": {},
   "source": [
    "### Generate config file"
   ]
  },
  {
   "cell_type": "code",
   "execution_count": 22,
   "metadata": {
    "tags": []
   },
   "outputs": [],
   "source": [
    "task_config_rescoring = {\n",
    "    \"type\": \"Rescoring\",\n",
    "    \"tag\": \"\",\n",
    "    \"inputs\":{\n",
    "        \"search_results\": input_dir + \"/msms.csv\",\n",
    "        \"search_results_type\": \"Xisearch\",\n",
    "        \"spectra\": input_dir,\n",
    "    },\n",
    "    \"output\": \"./XL_out\",\n",
    "    \"models\": {\n",
    "        \"intensity\": \"Prosit_2023_intensity_XL_CMS2\",\n",
    "        \"irt\": \"\"\n",
    "    },\n",
    "    \"prediction_server\": \"koina.wilhelmlab.org:443\",\n",
    "    \"ssl\": True,\n",
    "    \"thermoExe\": \"ThermoRawFileParser.exe\",\n",
    "    \"numThreads\": 1,\n",
    "    \"fdr_estimation_method\": \"percolator\",\n",
    "    \"allFeatures\": False,\n",
    "    \"massTolerance\": 40,\n",
    "    \"unitMassTolerance\": \"ppm\",\n",
    "    \"ce_alignment_options\": {\n",
    "        \"ce_range\": [\n",
    "            5,\n",
    "            45\n",
    "        ],\n",
    "        \"use_ransac_model\": True\n",
    "    }\n",
    "}"
   ]
  },
  {
   "cell_type": "markdown",
   "metadata": {},
   "source": [
    "### Save the config file"
   ]
  },
  {
   "cell_type": "code",
   "execution_count": 23,
   "metadata": {
    "tags": []
   },
   "outputs": [],
   "source": [
    "with open(\"./rescoring_config.json\", \"w\") as fp:\n",
    "    json.dump(task_config_rescoring, fp)"
   ]
  },
  {
   "cell_type": "markdown",
   "metadata": {},
   "source": [
    "### Start rescoring"
   ]
  },
  {
   "cell_type": "code",
   "execution_count": 24,
   "metadata": {
    "tags": []
   },
   "outputs": [
    {
     "name": "stdout",
     "output_type": "stream",
     "text": [
      "2025-06-11 14:37:40,133 - INFO - oktoberfest.utils.config::read Reading configuration from ./rescoring_config.json\n",
      "2025-06-11 14:37:40,146 - INFO - oktoberfest.runner::run_job Oktoberfest version 0.9.0\n",
      "Copyright 2025, Wilhelmlab at Technical University of Munich\n",
      "2025-06-11 14:37:40,186 - INFO - oktoberfest.runner::run_job Job executed with the following config:\n",
      "2025-06-11 14:37:40,192 - INFO - oktoberfest.runner::run_job {\n",
      "    \"type\": \"Rescoring\",\n",
      "    \"tag\": \"\",\n",
      "    \"inputs\": {\n",
      "        \"search_results\": \"/home/mkalhor/oktoberfest/tutorials/Oktoberfest_XL_input/msms.csv\",\n",
      "        \"search_results_type\": \"Xisearch\",\n",
      "        \"spectra\": \"/home/mkalhor/oktoberfest/tutorials/Oktoberfest_XL_input\"\n",
      "    },\n",
      "    \"output\": \"./XL_out\",\n",
      "    \"models\": {\n",
      "        \"intensity\": \"Prosit_2023_intensity_XL_CMS2\",\n",
      "        \"irt\": \"\"\n",
      "    },\n",
      "    \"prediction_server\": \"koina.wilhelmlab.org:443\",\n",
      "    \"ssl\": true,\n",
      "    \"thermoExe\": \"ThermoRawFileParser.exe\",\n",
      "    \"numThreads\": 1,\n",
      "    \"fdr_estimation_method\": \"percolator\",\n",
      "    \"allFeatures\": false,\n",
      "    \"massTolerance\": 40,\n",
      "    \"unitMassTolerance\": \"ppm\",\n",
      "    \"ce_alignment_options\": {\n",
      "        \"ce_range\": [\n",
      "            5,\n",
      "            45\n",
      "        ],\n",
      "        \"use_ransac_model\": true\n",
      "    }\n",
      "}\n",
      "2025-06-11 14:37:40,207 - INFO - oktoberfest.utils.config::read Reading configuration from ./rescoring_config.json\n",
      "2025-06-11 14:37:40,232 - INFO - oktoberfest.preprocessing.preprocessing::list_spectra Found 1 raw file in the spectra input directory.\n",
      "2025-06-11 14:37:40,267 - INFO - oktoberfest.runner::_preprocess Converting search results from /home/mkalhor/oktoberfest/tutorials/Oktoberfest_XL_input/msms.csv to internal search result.\n",
      "2025-06-11 14:37:40,271 - INFO - spectrum_io.search_result.xisearch::read_result Reading search results file...\n",
      "2025-06-11 14:37:54,976 - INFO - spectrum_io.search_result.xisearch::read_result Finished reading search results file.\n",
      "2025-06-11 14:37:55,072 - INFO - spectrum_io.search_result.xisearch::convert_to_internal Converting Xisearch peptide sequence to internal format...\n",
      "2025-06-11 14:37:55,440 - INFO - spectrum_io.search_result.xisearch::filter_valid_prosit_sequences #sequences before filtering for valid prosit sequences: 7502\n",
      "2025-06-11 14:37:55,485 - INFO - spectrum_io.search_result.xisearch::filter_valid_prosit_sequences #sequences after filtering for valid prosit sequences: 4405\n",
      "slicing done\n",
      "Pool size: 4\n",
      "2025-06-11 14:37:59,738 - INFO - oktoberfest.runner::_preprocess Read 4405 PSMs from XL_out/msms/msms.prosit\n",
      "2025-06-11 14:37:59,764 - INFO - oktoberfest.preprocessing.preprocessing::split_search Creating split search results file XL_out/msms/XLpeplib_Beveridge_QEx-HFX_DSSO_stHCD.rescore\n",
      "2025-06-11 14:37:59,865 - INFO - spectrum_io.raw.thermo_raw::convert_raw_mzml Converting thermo rawfile to mzml with the command: mono ThermoRawFileParser.exe --msLevel=2 -i /home/mkalhor/oktoberfest/tutorials/Oktoberfest_XL_input/XLpeplib_Beveridge_QEx-HFX_DSSO_stHCD.raw -b XL_out/spectra/XLpeplib_Beveridge_QEx-HFX_DSSO_stHCD.mzML\n",
      "2025-06-11 14:38:00 INFO Started parsing /home/mkalhor/oktoberfest/tutorials/Oktoberfest_XL_input/XLpeplib_Beveridge_QEx-HFX_DSSO_stHCD.raw\n",
      "2025-06-11 14:38:10 INFO Processing 63544 MS scans\n",
      "10% 20% 30% 40% 50% 60% 70% 80% 90% 100% \n",
      "\n",
      "2025-06-11 14:41:57 INFO Finished parsing /home/mkalhor/oktoberfest/tutorials/Oktoberfest_XL_input/XLpeplib_Beveridge_QEx-HFX_DSSO_stHCD.raw\n",
      "2025-06-11 14:41:58 INFO Processing completed 0 errors, 0 warnings\n",
      "2025-06-11 14:41:58,886 - INFO - spectrum_io.raw.msraw::_read_mzml_pyteomics Reading mzML file: XL_out/spectra/XLpeplib_Beveridge_QEx-HFX_DSSO_stHCD.mzML\n",
      "2025-06-11 14:42:29,428 - INFO - oktoberfest.preprocessing.preprocessing::merge_spectra_and_peptides Merging rawfile and search result\n",
      "2025-06-11 14:42:29,443 - INFO - oktoberfest.preprocessing.preprocessing::annotate_spectral_library_xl Annotating spectra...\n"
     ]
    },
    {
     "name": "stderr",
     "output_type": "stream",
     "text": [
      "/home/mkalhor/anaconda3/envs/oktoberfest/lib/python3.10/site-packages/anndata/_core/aligned_df.py:68: ImplicitModificationWarning: Transforming to str index.\n",
      "  warnings.warn(\"Transforming to str index.\", ImplicitModificationWarning)\n"
     ]
    },
    {
     "name": "stdout",
     "output_type": "stream",
     "text": [
      "2025-06-11 14:43:45,266 - INFO - oktoberfest.preprocessing.preprocessing::annotate_spectral_library_xl Finished annotating.\n",
      "2025-06-11 14:43:45,985 - INFO - oktoberfest.predict.predictor::from_config Using model Prosit_2023_intensity_XL_CMS2 via Koina\n"
     ]
    },
    {
     "name": "stderr",
     "output_type": "stream",
     "text": [
      "/home/mkalhor/oktoberfest/oktoberfest/predict/alignment.py:36: FutureWarning: The default of observed=False is deprecated and will be changed to True in a future version of pandas. Pass observed=False to retain current behavior or observed=True to adopt the future default and silence this warning.\n",
      "  hcd_targets = hcd_targets.sort_values(by=\"SCORE\", ascending=False).groupby(groups)\n",
      "Prosit_2023_intensity_XL_CMS2:: 100%|████████████████████████████████████████████| 3/3 [00:06<00:00,  2.04s/it]\n",
      "Prosit_2023_intensity_XL_CMS2:: 100%|████████████████████████████████████████████| 3/3 [00:05<00:00,  1.72s/it]"
     ]
    },
    {
     "name": "stdout",
     "output_type": "stream",
     "text": [
      "2025-06-11 14:43:58,005 - INFO - oktoberfest.runner::_get_best_ce Performing RANSAC regression\n"
     ]
    },
    {
     "name": "stderr",
     "output_type": "stream",
     "text": [
      "\n",
      "/home/mkalhor/oktoberfest/oktoberfest/runner.py:217: FutureWarning: DataFrameGroupBy.apply operated on the grouping columns. This behavior is deprecated, and in a future version of pandas the grouping columns will be excluded from the operation. Either pass `include_groups=False` to exclude the groupings or explicitly select the grouping columns after groupby to silence this warning.\n",
      "  .apply(lambda x: x.loc[x[\"SPECTRAL_ANGLE\"].idxmax()])\n"
     ]
    },
    {
     "name": "stdout",
     "output_type": "stream",
     "text": [
      "2025-06-11 14:43:59,264 - INFO - oktoberfest.utils.process_step::is_done Skipping ce_calib.XLpeplib_Beveridge_QEx-HFX_DSSO_stHCD step because XL_out/proc/ce_calib.XLpeplib_Beveridge_QEx-HFX_DSSO_stHCD.done was found.\n",
      "2025-06-11 14:43:59,470 - INFO - oktoberfest.predict.predictor::from_config Using model Prosit_2023_intensity_XL_CMS2 via Koina\n"
     ]
    },
    {
     "name": "stderr",
     "output_type": "stream",
     "text": [
      "Prosit_2023_intensity_XL_CMS2:: 100%|████████████████████████████████████████████| 5/5 [00:10<00:00,  2.03s/it]\n",
      "Prosit_2023_intensity_XL_CMS2:: 100%|████████████████████████████████████████████| 5/5 [00:06<00:00,  1.29s/it]\n",
      "/home/mkalhor/spectrum_fundamentals/spectrum_fundamentals/metrics/similarity.py:243: ConstantInputWarning: An input array is constant; the correlation coefficient is not defined.\n",
      "  scipy.stats.pearsonr(obs, pred)[0] if method == \"pearson\" else scipy.stats.spearmanr(obs, pred)[0]\n",
      "/home/mkalhor/spectrum_fundamentals/spectrum_fundamentals/metrics/similarity.py:243: ConstantInputWarning: An input array is constant; the correlation coefficient is not defined.\n",
      "  scipy.stats.pearsonr(obs, pred)[0] if method == \"pearson\" else scipy.stats.spearmanr(obs, pred)[0]\n"
     ]
    },
    {
     "name": "stdout",
     "output_type": "stream",
     "text": [
      "2025-06-11 14:44:20,579 - INFO - oktoberfest.runner::run_rescoring Merging input tab files for rescoring without peptide property prediction\n",
      "2025-06-11 14:44:20,882 - INFO - oktoberfest.runner::run_rescoring Merging input tab files for rescoring with peptide property prediction\n"
     ]
    },
    {
     "name": "stderr",
     "output_type": "stream",
     "text": [
      "/home/mkalhor/oktoberfest/oktoberfest/runner.py:1063: FutureWarning: A value is trying to be set on a copy of a DataFrame or Series through chained assignment using an inplace method.\n",
      "The behavior will change in pandas 3.0. This inplace method will never work because the intermediate object on which we are setting values always behaves as a copy.\n",
      "\n",
      "For example, when doing 'df[col].method(value, inplace=True)', try using 'df.method({col: value}, inplace=True)' or df[col] = df[col].method(value) instead, to perform the operation inplace on the original object.\n",
      "\n",
      "\n",
      "  input_psm_rescore[\"Proteins\"].fillna(\"unknown\", inplace=True)\n"
     ]
    },
    {
     "name": "stdout",
     "output_type": "stream",
     "text": [
      "2025-06-11 14:44:22,621 - INFO - oktoberfest.rescore.rescore::rescore_with_percolator Starting percolator with command percolator --weights XL_out/results/percolator/original.percolator.weights.csv                     --results-psms XL_out/results/percolator/original.percolator.psms.txt                     --decoy-results-psms XL_out/results/percolator/original.percolator.decoy.psms.txt                     --only-psms                     XL_out/results/percolator/original.tab 2> XL_out/results/percolator/original.log\n"
     ]
    },
    {
     "name": "stderr",
     "output_type": "stream",
     "text": [
      "/home/mkalhor/oktoberfest/oktoberfest/runner.py:1063: FutureWarning: A value is trying to be set on a copy of a DataFrame or Series through chained assignment using an inplace method.\n",
      "The behavior will change in pandas 3.0. This inplace method will never work because the intermediate object on which we are setting values always behaves as a copy.\n",
      "\n",
      "For example, when doing 'df[col].method(value, inplace=True)', try using 'df.method({col: value}, inplace=True)' or df[col] = df[col].method(value) instead, to perform the operation inplace on the original object.\n",
      "\n",
      "\n",
      "  input_psm_rescore[\"Proteins\"].fillna(\"unknown\", inplace=True)\n"
     ]
    },
    {
     "name": "stdout",
     "output_type": "stream",
     "text": [
      "2025-06-11 14:44:24,829 - INFO - oktoberfest.rescore.rescore::rescore_with_percolator Finished rescoring using percolator.\n",
      "2025-06-11 14:44:25,115 - INFO - oktoberfest.runner::_rescore False\n",
      "2025-06-11 14:44:25,117 - INFO - oktoberfest.rescore.rescore::rescore_with_percolator Starting percolator with command percolator --weights XL_out/results/percolator/rescore.percolator.weights.csv                     --results-psms XL_out/results/percolator/rescore.percolator.psms.txt                     --decoy-results-psms XL_out/results/percolator/rescore.percolator.decoy.psms.txt                     --only-psms                     XL_out/results/percolator/rescore.tab 2> XL_out/results/percolator/rescore.log\n"
     ]
    },
    {
     "name": "stderr",
     "output_type": "stream",
     "text": [
      "/home/mkalhor/oktoberfest/oktoberfest/runner.py:790: FutureWarning: Downcasting behavior in `replace` is deprecated and will be removed in a future version. To retain the old behavior, explicitly call `result.infer_objects(copy=False)`. To opt-in to the future behavior, set `pd.set_option('future.no_silent_downcasting', True)`\n",
      "  df[\"label\"] = df[\"label\"].replace({\"TT\": True, \"TD\": False, \"DD\": False})\n"
     ]
    },
    {
     "name": "stdout",
     "output_type": "stream",
     "text": [
      "2025-06-11 14:44:40,563 - INFO - oktoberfest.rescore.rescore::rescore_with_percolator Finished rescoring using percolator.\n",
      "2025-06-11 14:44:40,845 - INFO - oktoberfest.runner::run_rescoring Finished rescoring.\n",
      "2025-06-11 14:44:40,847 - INFO - oktoberfest.runner::run_rescoring Generating xiFDR input.\n"
     ]
    },
    {
     "name": "stderr",
     "output_type": "stream",
     "text": [
      "/home/mkalhor/oktoberfest/oktoberfest/runner.py:790: FutureWarning: Downcasting behavior in `replace` is deprecated and will be removed in a future version. To retain the old behavior, explicitly call `result.infer_objects(copy=False)`. To opt-in to the future behavior, set `pd.set_option('future.no_silent_downcasting', True)`\n",
      "  df[\"label\"] = df[\"label\"].replace({\"TT\": True, \"TD\": False, \"DD\": False})\n"
     ]
    },
    {
     "name": "stdout",
     "output_type": "stream",
     "text": [
      "2025-06-11 14:44:41,157 - INFO - oktoberfest.runner::run_rescoring Finished Generating xiFDR input.\n"
     ]
    }
   ],
   "source": [
    "run_job(\"./rescoring_config.json\")"
   ]
  },
  {
   "cell_type": "markdown",
   "metadata": {},
   "source": [
    "### Check the results\n",
    "\n",
    "The results are written to the output folder specified in your config file.\n",
    "\n",
    "You should find the following key output files:\n",
    "\n",
    "1. **percolator_xifdr_input.csv**\n",
    "\n",
    "   Location: `.../XL_out/results/percolator/percolator_xifdr_input.csv`  \n",
    "\n",
    "   This file contains Percolator scores for each CSM (cross-linked spectrum match).  \n",
    "\n",
    "   It is intended for use with the **xiFDR** tool to estimate FDR.  \n",
    "\n",
    "   👉 Note: Oktoberfest **does not perform FDR estimation** itself for XL-MS data — it only generates Percolator-based scores.  \n",
    "\n",
    "   You can upload this file directly to **xiFDR** and apply FDR estimation as needed.  \n",
    "\n",
    "   🔗 More info: [xiFDR GitHub Repository](https://github.com/Rappsilber-Laboratory/xiFDR)\n",
    "\n",
    "\n",
    "   \n",
    "\n",
    "2. **xisearch_xifdr_input.csv**  \n",
    "\n",
    "   **Location:** `.../XL_out/results/percolator/xisearch_xifdr_input.csv`  \n",
    "\n",
    "   This file contains XiSearch scores for each CSM (cross-linked spectrum match).  \n",
    "\n",
    "   It can also be used as input for **xiFDR**, just like the Percolator version.  \n",
    "\n",
    "   This allows you to **compare the performance of rescoring** (Percolator) against the original XiSearch scores.  \n",
    "\n",
    "   📊 Useful for benchmarking rescoring effectiveness.\n",
    "\n"
   ]
  },
  {
   "cell_type": "code",
   "execution_count": null,
   "metadata": {},
   "outputs": [],
   "source": []
  },
  {
   "cell_type": "code",
   "execution_count": null,
   "metadata": {},
   "outputs": [],
   "source": []
  }
 ],
 "metadata": {
  "kernelspec": {
   "display_name": "Python 3 (ipykernel)",
   "language": "python",
   "name": "python3"
  },
  "language_info": {
   "codemirror_mode": {
    "name": "ipython",
    "version": 3
   },
   "file_extension": ".py",
   "mimetype": "text/x-python",
   "name": "python",
   "nbconvert_exporter": "python",
   "pygments_lexer": "ipython3",
   "version": "3.10.0"
  }
 },
 "nbformat": 4,
 "nbformat_minor": 4
}
