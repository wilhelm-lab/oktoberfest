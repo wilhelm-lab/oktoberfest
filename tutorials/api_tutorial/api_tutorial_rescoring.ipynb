{
 "cells": [
  {
   "cell_type": "code",
   "execution_count": null,
   "metadata": {},
   "outputs": [],
   "source": [
    "import oktoberfest as ok\n",
    "%load_ext autoreload \n",
    "%autoreload 2\n",
    "import pandas as pd \n"
   ]
  },
  {
   "cell_type": "code",
   "execution_count": null,
   "metadata": {},
   "outputs": [],
   "source": [
    "config = {\n",
    "    \"type\": \"Rescoring\",\n",
    "    \"tag\": \"\",\n",
    "    \"output\": \"./out\",\n",
    "    \"inputs\": {\n",
    "        \"search_results\": \"./msms.txt\",\n",
    "        \"search_results_type\": \"Maxquant\",\n",
    "        \"spectra\": \"./\",\n",
    "        \"spectra_type\": \"raw\"\n",
    "    },\n",
    "    \"models\": {\n",
    "        \"intensity\": \"Prosit_2020_intensity_HCD\",\n",
    "        \"irt\": \"Prosit_2019_irt\"\n",
    "    },\n",
    "    \"prediction_server\": \"koina.proteomicsdb.org:443\",\n",
    "    \"numThreads\": 1,\n",
    "    \"fdr_estimation_method\": \"mokapot\",\n",
    "    \"allFeatures\": False,\n",
    "    \"regressionMethod\":\"spline\",\n",
    "    \"ssl\": False,\n",
    "    \"thermoExe\": \"ThermoRawFileParser.exe\",\n",
    "    \"massTolerance\": 20,\n",
    "    \"unitMassTolerance\": \"ppm\"}"
   ]
  },
  {
   "cell_type": "markdown",
   "metadata": {},
   "source": [
    "    Pre-Processing : "
   ]
  },
  {
   "cell_type": "markdown",
   "metadata": {},
   "source": [
    "Spectral preprocessing"
   ]
  },
  {
   "cell_type": "code",
   "execution_count": null,
   "metadata": {},
   "outputs": [],
   "source": [
    "output = '/home/karim/projects/oktoberfest/tutorials/out/'\n",
    "therm = '/home/karim/non_git/essentials/therm/ThermoRawFileParser.exe'\n"
   ]
  },
  {
   "cell_type": "markdown",
   "metadata": {},
   "source": [
    "Getting a list of raw files"
   ]
  },
  {
   "cell_type": "code",
   "execution_count": null,
   "metadata": {},
   "outputs": [],
   "source": [
    "list_of_spectra = ok.pp.list_spectra('/home/karim/projects/oktoberfest/tutorials/Oktoberfest_input','raw')\n",
    "print(list_of_spectra)"
   ]
  },
  {
   "cell_type": "markdown",
   "metadata": {},
   "source": [
    "Converting raw files to mzml and merging into one file"
   ]
  },
  {
   "cell_type": "code",
   "execution_count": null,
   "metadata": {},
   "outputs": [],
   "source": [
    "from pyteomics import mzml\n",
    "import os\n",
    "\n",
    "# Define the output directory where individual mzML files are stored\n",
    "output_directory = '/home/karim/projects/oktoberfest/tutorials/out/' \n",
    "\n",
    "# Create a directory to store the mzML files if it doesn't exist\n",
    "if not os.path.exists(output_directory):\n",
    "    os.makedirs(output_directory)\n",
    "\n",
    "# Initialize an empty list to store the paths of the converted mzML files\n",
    "conversion_results = []\n",
    "# TODO you need to understand this code \n",
    "# Loop through the list of spectra files and convert each one\n",
    "for file in list_of_spectra:\n",
    "    # Generate a unique output file name for the mzML file\n",
    "    base_filename = os.path.splitext(os.path.basename(file))[0]  # Remove file extension\n",
    "    output_mzml_file = os.path.join(output_directory, f\"{base_filename}.mzML\")\n",
    "    \n",
    "    # Call the convert_spectra function with the current file and the output file path\n",
    "    ok.pp.convert_spectra(file, output_file=output_mzml_file, thermo_exe=therm)\n",
    "    \n",
    "    # Append the path of the converted mzML file to the conversion_results list\n",
    "    conversion_results.append(output_mzml_file)\n",
    "\n",
    "\n"
   ]
  },
  {
   "cell_type": "markdown",
   "metadata": {},
   "source": [
    "Path of the mzml file"
   ]
  },
  {
   "cell_type": "code",
   "execution_count": null,
   "metadata": {},
   "outputs": [],
   "source": [
    "mzml = '/home/karim/projects/oktoberfest/tutorials/out/'"
   ]
  },
  {
   "cell_type": "markdown",
   "metadata": {},
   "source": [
    "Loading the spectra from mzml file"
   ]
  },
  {
   "cell_type": "code",
   "execution_count": null,
   "metadata": {},
   "outputs": [],
   "source": [
    "spectra = ok.pp.load_spectra(mzml_file= mzml, parser= 'pyteomics')"
   ]
  },
  {
   "cell_type": "code",
   "execution_count": null,
   "metadata": {},
   "outputs": [],
   "source": [
    "spectra.head()"
   ]
  },
  {
   "cell_type": "markdown",
   "metadata": {},
   "source": [
    "Peptide processing"
   ]
  },
  {
   "cell_type": "markdown",
   "metadata": {},
   "source": [
    "Converting search results to Oktoberfest format."
   ]
  },
  {
   "cell_type": "code",
   "execution_count": null,
   "metadata": {},
   "outputs": [],
   "source": [
    "peptide_out_file = '/home/karim/projects/oktoberfest/tutorials/out/peptide_output.tsv'\n",
    "split_search = '/home/karim/projects/oktoberfest/tutorials/out/split_search'\n"
   ]
  },
  {
   "cell_type": "code",
   "execution_count": null,
   "metadata": {},
   "outputs": [],
   "source": [
    "ok.pp.convert_search(input_path= '/home/karim/projects/oktoberfest/tutorials/Oktoberfest_input/msms.txt',output_file = peptide_out_file , search_engine= 'maxquant')"
   ]
  },
  {
   "cell_type": "code",
   "execution_count": null,
   "metadata": {},
   "outputs": [],
   "source": [
    "peptide_csv = pd.read_csv('/home/karim/projects/oktoberfest/tutorials/out/peptide_output.tsv')"
   ]
  },
  {
   "cell_type": "code",
   "execution_count": null,
   "metadata": {},
   "outputs": [],
   "source": [
    "peptide_csv.head()"
   ]
  },
  {
   "cell_type": "markdown",
   "metadata": {},
   "source": [
    "Loading search results"
   ]
  },
  {
   "cell_type": "code",
   "execution_count": null,
   "metadata": {},
   "outputs": [],
   "source": [
    "peptide_df = ok.pp.load_search(peptide_out_file)"
   ]
  },
  {
   "cell_type": "code",
   "execution_count": null,
   "metadata": {},
   "outputs": [],
   "source": [
    "peptide_df.info()"
   ]
  },
  {
   "cell_type": "markdown",
   "metadata": {},
   "source": [
    "Filtering search results using given constraints."
   ]
  },
  {
   "cell_type": "code",
   "execution_count": null,
   "metadata": {},
   "outputs": [],
   "source": [
    "filtered_peptides = ok.pp.filter_peptides_for_model(peptides = peptide_df , model='prosit')"
   ]
  },
  {
   "cell_type": "code",
   "execution_count": null,
   "metadata": {},
   "outputs": [],
   "source": [
    "filtered_peptides.info()"
   ]
  },
  {
   "cell_type": "markdown",
   "metadata": {},
   "source": [
    "Generating Psms"
   ]
  },
  {
   "cell_type": "code",
   "execution_count": null,
   "metadata": {},
   "outputs": [],
   "source": [
    "psms = ok.pp.merge_spectra_and_peptides(spectra= spectra , search= filtered_peptides)"
   ]
  },
  {
   "cell_type": "code",
   "execution_count": null,
   "metadata": {},
   "outputs": [],
   "source": [
    "psms.spectra_data"
   ]
  },
  {
   "cell_type": "markdown",
   "metadata": {},
   "source": [
    "    Rescoring"
   ]
  },
  {
   "cell_type": "markdown",
   "metadata": {},
   "source": [
    "Generating original features "
   ]
  },
  {
   "cell_type": "code",
   "execution_count": null,
   "metadata": {},
   "outputs": [],
   "source": [
    "# adding the path for the original and rescored features.\n",
    "original_features = '/home/karim/projects/oktoberfest/tutorials/out/original.tab'\n",
    "rescore_features = '/home/karim/projects/oktoberfest/tutorials/out/rescore.tab'\n"
   ]
  },
  {
   "cell_type": "markdown",
   "metadata": {},
   "source": [
    "Anotate the Psms"
   ]
  },
  {
   "cell_type": "code",
   "execution_count": null,
   "metadata": {},
   "outputs": [],
   "source": [
    "# No need to assign this function to a variable as it does not have a return.\n",
    "ok.pp.annotate_spectral_library(psms= psms , mass_tol= 20 , unit_mass_tol= 'ppm' )"
   ]
  },
  {
   "cell_type": "markdown",
   "metadata": {},
   "source": [
    "Generating features for the original"
   ]
  },
  {
   "cell_type": "markdown",
   "metadata": {},
   "source": [
    "Predictions \n",
    "first perform ce caliberation and add to a variable as the function returns a pd series"
   ]
  },
  {
   "cell_type": "code",
   "execution_count": null,
   "metadata": {},
   "outputs": [],
   "source": [
    "alignment_library = ok.pr.ce_calibration(psms,url= config['prediction_server'] , intensity_model= config['models']['intensity'],  \n",
    "                   irt_model= config['models']['irt'])"
   ]
  },
  {
   "cell_type": "code",
   "execution_count": null,
   "metadata": {},
   "outputs": [],
   "source": [
    "ce_alignment = alignment_library.spectra_data.groupby(by=[\"COLLISION_ENERGY\"])[\"SPECTRAL_ANGLE\"].mean()"
   ]
  },
  {
   "cell_type": "code",
   "execution_count": null,
   "metadata": {},
   "outputs": [],
   "source": [
    "best_ce = ce_alignment.idxmax()\n",
    "psms.spectra_data['COLLISION_ENERGY']= best_ce"
   ]
  },
  {
   "cell_type": "markdown",
   "metadata": {},
   "source": [
    "you have to understand this part to do it the caliberation. you need the collision energy and also the best collision energy for the file to be ready to predict the features of the rescored. Also apperently you need to split the psms file. "
   ]
  },
  {
   "cell_type": "code",
   "execution_count": null,
   "metadata": {},
   "outputs": [],
   "source": [
    "gprc = ok.pr.grpc_predict(library = psms ,url= config['prediction_server'] , intensity_model= config['models']['intensity'],  \n",
    "                   irt_model= config['models']['irt'], ssl= True , alignment= False)"
   ]
  },
  {
   "cell_type": "code",
   "execution_count": null,
   "metadata": {},
   "outputs": [],
   "source": [
    "psms.spectra_data['PREDICTED_IRT']"
   ]
  },
  {
   "cell_type": "code",
   "execution_count": null,
   "metadata": {},
   "outputs": [],
   "source": [
    "ok.re.generate_features( library= psms , search_type= 'rescore' , output_file= rescore_features , all_features=False , regression_method= 'spline' )"
   ]
  },
  {
   "cell_type": "code",
   "execution_count": null,
   "metadata": {},
   "outputs": [],
   "source": [
    "ok.re.generate_features( library= psms , search_type= 'original' , output_file= original_features, all_features=False, regression_method= 'spline')"
   ]
  },
  {
   "cell_type": "markdown",
   "metadata": {},
   "source": [
    "Merging the input "
   ]
  },
  {
   "cell_type": "markdown",
   "metadata": {},
   "source": [
    "Generating a list of Tab files "
   ]
  },
  {
   "cell_type": "code",
   "execution_count": null,
   "metadata": {},
   "outputs": [],
   "source": [
    "rescore_percolator = '/home/karim/projects/oktoberfest/tutorials/out/percolator/'\n",
    "original_percolator = '/home/karim/projects/oktoberfest/tutorials/out/percolator/'\n",
    "plot = '/home/karim/projects/oktoberfest/tutorials/out/' "
   ]
  },
  {
   "cell_type": "code",
   "execution_count": null,
   "metadata": {},
   "outputs": [],
   "source": [
    "#ok.re.merge_input(tab_list,combined_tab)"
   ]
  },
  {
   "cell_type": "code",
   "execution_count": null,
   "metadata": {},
   "outputs": [],
   "source": [
    "ok.re.rescore_with_percolator(rescore_features,rescore_percolator)"
   ]
  },
  {
   "cell_type": "code",
   "execution_count": null,
   "metadata": {},
   "outputs": [],
   "source": [
    "ok.re.rescore_with_percolator(original_features, original_percolator)"
   ]
  },
  {
   "cell_type": "markdown",
   "metadata": {},
   "source": [
    "# Visualisations"
   ]
  },
  {
   "cell_type": "code",
   "execution_count": null,
   "metadata": {},
   "outputs": [],
   "source": [
    "# Plots path \n",
    "plots = '/home/karim/projects/oktoberfest/tutorials/out/plots'\n",
    "\n",
    "# Generate histogram of the score distribution for targets and decoys.\n",
    "from pathlib import Path\n",
    "perc_output_path = Path('/home/karim/projects/oktoberfest/tutorials/out/percolator')\n",
    "peptide_decoy_df = pd.read_csv(perc_output_path / 'rescore.percolator.decoy.peptides.txt', sep='\\t')\n",
    "\n",
    "peptide_target_df = pd.read_csv(perc_output_path / 'rescore.percolator.peptides.txt', sep='\\t')\n",
    "\n",
    "display(peptide_decoy_df)\n",
    "\n",
    "ok.pl.plot_score_distribution(peptide_target_df, peptide_decoy_df, level = 'peptide', filename=plots)"
   ]
  },
  {
   "cell_type": "code",
   "execution_count": null,
   "metadata": {},
   "outputs": [],
   "source": [
    "ok.pl.plot_all(perc_output_path)"
   ]
  },
  {
   "cell_type": "code",
   "execution_count": null,
   "metadata": {},
   "outputs": [],
   "source": []
  }
 ],
 "metadata": {
  "kernelspec": {
   "display_name": "oktoberfest",
   "language": "python",
   "name": "python3"
  },
  "language_info": {
   "codemirror_mode": {
    "name": "ipython",
    "version": 3
   },
   "file_extension": ".py",
   "mimetype": "text/x-python",
   "name": "python",
   "nbconvert_exporter": "python",
   "pygments_lexer": "ipython3",
   "version": "3.10.0"
  }
 },
 "nbformat": 4,
 "nbformat_minor": 2
}
