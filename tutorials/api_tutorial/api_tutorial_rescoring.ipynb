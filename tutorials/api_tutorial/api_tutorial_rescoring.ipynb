{
 "cells": [
  {
   "cell_type": "code",
   "execution_count": 5,
   "metadata": {},
   "outputs": [
    {
     "name": "stdout",
     "output_type": "stream",
     "text": [
      "The autoreload extension is already loaded. To reload it, use:\n",
      "  %reload_ext autoreload\n"
     ]
    }
   ],
   "source": [
    "import oktoberfest as ok\n",
    "%load_ext autoreload \n",
    "%autoreload 2\n",
    "import pandas as pd \n"
   ]
  },
  {
   "cell_type": "markdown",
   "metadata": {},
   "source": [
    "List of issues : \n",
    "1. Filter peptides function : is documented but I had to use filter peptide for model. max,min length and max charge was not clearly written what to write\n",
    "2. Merge spectra function : would be nice if it could return a df instead of having to write the variable name.spectrum_data to see it. also spectrum_data bit was not documented so I could n't review what I created. \n",
    "3. annotate spectral library : \n",
    "- it is not documented at all in the api so one has to find in the source code. \n",
    "- is also confusing as it is annotating psms and in the input parameter I am supposed to input the \"spectra library\" ? which adds to the confusion. \n",
    "- It also does not return a value and that is also not documented. So if assigned to a value it return empty which creates problems down the line.\n",
    "4. in prediction part you have to start with ce caliberation first before grpc which is also not documented"
   ]
  },
  {
   "cell_type": "code",
   "execution_count": 6,
   "metadata": {},
   "outputs": [],
   "source": [
    "config = {\n",
    "    \"type\": \"Rescoring\",\n",
    "    \"tag\": \"\",\n",
    "    \"output\": \"./out\",\n",
    "    \"inputs\": {\n",
    "        \"search_results\": \"./msms.txt\",\n",
    "        \"search_results_type\": \"Maxquant\",\n",
    "        \"spectra\": \"./\",\n",
    "        \"spectra_type\": \"raw\"\n",
    "    },\n",
    "    \"models\": {\n",
    "        \"intensity\": \"Prosit_2020_intensity_HCD\",\n",
    "        \"irt\": \"Prosit_2019_irt\"\n",
    "    },\n",
    "    \"prediction_server\": \"koina.proteomicsdb.org:443\",\n",
    "    \"numThreads\": 1,\n",
    "    \"fdr_estimation_method\": \"mokapot\",\n",
    "    \"allFeatures\": False,\n",
    "    \"regressionMethod\":\"spline\",\n",
    "    \"ssl\": False,\n",
    "    \"thermoExe\": \"ThermoRawFileParser.exe\",\n",
    "    \"massTolerance\": 20,\n",
    "    \"unitMassTolerance\": \"ppm\"}"
   ]
  },
  {
   "cell_type": "markdown",
   "metadata": {},
   "source": [
    "    Pre-Processing : "
   ]
  },
  {
   "cell_type": "markdown",
   "metadata": {},
   "source": [
    "Spectral preprocessing"
   ]
  },
  {
   "cell_type": "code",
   "execution_count": 11,
   "metadata": {},
   "outputs": [],
   "source": [
    "output = '/home/karim/projects/oktoberfest/tutorials/out/'\n",
    "therm = '/home/karim/non_git/essentials/therm/ThermoRawFileParser.exe'\n"
   ]
  },
  {
   "cell_type": "markdown",
   "metadata": {},
   "source": [
    "Getting a list of raw files"
   ]
  },
  {
   "cell_type": "code",
   "execution_count": 12,
   "metadata": {},
   "outputs": [
    {
     "name": "stdout",
     "output_type": "stream",
     "text": [
      "[PosixPath('/home/karim/projects/oktoberfest/tutorials/Oktoberfest_input/GN20170722_SK_HLA_G0103_R1_02.raw'), PosixPath('/home/karim/projects/oktoberfest/tutorials/Oktoberfest_input/GN20170722_SK_HLA_G0103_R2_01.raw'), PosixPath('/home/karim/projects/oktoberfest/tutorials/Oktoberfest_input/GN20170722_SK_HLA_G0103_R2_02.raw'), PosixPath('/home/karim/projects/oktoberfest/tutorials/Oktoberfest_input/GN20170722_SK_HLA_G0103_R1_01.raw')]\n"
     ]
    }
   ],
   "source": [
    "list_of_spectra = ok.pp.list_spectra('/home/karim/projects/oktoberfest/tutorials/Oktoberfest_input','raw')\n",
    "print(list_of_spectra)"
   ]
  },
  {
   "cell_type": "markdown",
   "metadata": {},
   "source": [
    "Converting raw files to mzml and merging into one file"
   ]
  },
  {
   "cell_type": "code",
   "execution_count": 13,
   "metadata": {},
   "outputs": [
    {
     "name": "stdout",
     "output_type": "stream",
     "text": [
      "2023-11-07 16:15:38,639 - INFO - spectrum_io.raw.thermo_raw::convert_raw_mzml Converting thermo rawfile to mzml with the command: mono /home/karim/non_git/essentials/therm/ThermoRawFileParser.exe --msLevel=2 -i /home/karim/projects/oktoberfest/tutorials/Oktoberfest_input/GN20170722_SK_HLA_G0103_R1_02.raw -b /home/karim/projects/oktoberfest/tutorials/out/GN20170722_SK_HLA_G0103_R1_02.mzML\n"
     ]
    },
    {
     "name": "stdout",
     "output_type": "stream",
     "text": [
      "2023-11-07 16:15:38 INFO Started parsing /home/karim/projects/oktoberfest/tutorials/Oktoberfest_input/GN20170722_SK_HLA_G0103_R1_02.raw\n",
      "2023-11-07 16:15:43 INFO Processing 53354 MS scans\n",
      "10% 20% 30% 40% 50% 60% 70% 80% 90% 100% \n",
      "\n",
      "2023-11-07 16:17:14 INFO Finished parsing /home/karim/projects/oktoberfest/tutorials/Oktoberfest_input/GN20170722_SK_HLA_G0103_R1_02.raw\n",
      "2023-11-07 16:17:14 INFO Processing completed 0 errors, 0 warnings\n",
      "2023-11-07 16:17:15,030 - INFO - spectrum_io.raw.thermo_raw::convert_raw_mzml Converting thermo rawfile to mzml with the command: mono /home/karim/non_git/essentials/therm/ThermoRawFileParser.exe --msLevel=2 -i /home/karim/projects/oktoberfest/tutorials/Oktoberfest_input/GN20170722_SK_HLA_G0103_R2_01.raw -b /home/karim/projects/oktoberfest/tutorials/out/GN20170722_SK_HLA_G0103_R2_01.mzML\n",
      "2023-11-07 16:17:15 INFO Started parsing /home/karim/projects/oktoberfest/tutorials/Oktoberfest_input/GN20170722_SK_HLA_G0103_R2_01.raw\n",
      "2023-11-07 16:17:19 INFO Processing 51948 MS scans\n",
      "10% 20% 30% 40% 50% 60% 70% 80% 90% 100% \n",
      "\n",
      "2023-11-07 16:18:43 INFO Finished parsing /home/karim/projects/oktoberfest/tutorials/Oktoberfest_input/GN20170722_SK_HLA_G0103_R2_01.raw\n",
      "2023-11-07 16:18:43 INFO Processing completed 0 errors, 0 warnings\n",
      "2023-11-07 16:18:45,112 - INFO - spectrum_io.raw.thermo_raw::convert_raw_mzml Converting thermo rawfile to mzml with the command: mono /home/karim/non_git/essentials/therm/ThermoRawFileParser.exe --msLevel=2 -i /home/karim/projects/oktoberfest/tutorials/Oktoberfest_input/GN20170722_SK_HLA_G0103_R2_02.raw -b /home/karim/projects/oktoberfest/tutorials/out/GN20170722_SK_HLA_G0103_R2_02.mzML\n",
      "2023-11-07 16:18:45 INFO Started parsing /home/karim/projects/oktoberfest/tutorials/Oktoberfest_input/GN20170722_SK_HLA_G0103_R2_02.raw\n",
      "2023-11-07 16:18:49 INFO Processing 51713 MS scans\n",
      "10% 20% 30% 40% 50% 60% 70% 80% 90% 100% \n",
      "\n",
      "2023-11-07 16:20:10 INFO Finished parsing /home/karim/projects/oktoberfest/tutorials/Oktoberfest_input/GN20170722_SK_HLA_G0103_R2_02.raw\n",
      "2023-11-07 16:20:10 INFO Processing completed 0 errors, 0 warnings\n",
      "2023-11-07 16:20:10,871 - INFO - spectrum_io.raw.thermo_raw::convert_raw_mzml Converting thermo rawfile to mzml with the command: mono /home/karim/non_git/essentials/therm/ThermoRawFileParser.exe --msLevel=2 -i /home/karim/projects/oktoberfest/tutorials/Oktoberfest_input/GN20170722_SK_HLA_G0103_R1_01.raw -b /home/karim/projects/oktoberfest/tutorials/out/GN20170722_SK_HLA_G0103_R1_01.mzML\n",
      "2023-11-07 16:20:10 INFO Started parsing /home/karim/projects/oktoberfest/tutorials/Oktoberfest_input/GN20170722_SK_HLA_G0103_R1_01.raw\n",
      "2023-11-07 16:20:16 INFO Processing 53419 MS scans\n",
      "10% 20% 30% 40% 50% 60% 70% 80% 90% 100% \n",
      "\n",
      "2023-11-07 16:21:43 INFO Finished parsing /home/karim/projects/oktoberfest/tutorials/Oktoberfest_input/GN20170722_SK_HLA_G0103_R1_01.raw\n",
      "2023-11-07 16:21:43 INFO Processing completed 0 errors, 0 warnings\n"
     ]
    }
   ],
   "source": [
    "from pyteomics import mzml\n",
    "import os\n",
    "\n",
    "# Define the output directory where individual mzML files are stored\n",
    "output_directory = '/home/karim/projects/oktoberfest/tutorials/out/' \n",
    "\n",
    "# Create a directory to store the mzML files if it doesn't exist\n",
    "if not os.path.exists(output_directory):\n",
    "    os.makedirs(output_directory)\n",
    "\n",
    "# Initialize an empty list to store the paths of the converted mzML files\n",
    "conversion_results = []\n",
    "# TODO you need to understand this code \n",
    "# Loop through the list of spectra files and convert each one\n",
    "for file in list_of_spectra:\n",
    "    # Generate a unique output file name for the mzML file\n",
    "    base_filename = os.path.splitext(os.path.basename(file))[0]  # Remove file extension\n",
    "    output_mzml_file = os.path.join(output_directory, f\"{base_filename}.mzML\")\n",
    "    \n",
    "    # Call the convert_spectra function with the current file and the output file path\n",
    "    ok.pp.convert_spectra(file, output_file=output_mzml_file, thermo_exe=therm)\n",
    "    \n",
    "    # Append the path of the converted mzML file to the conversion_results list\n",
    "    conversion_results.append(output_mzml_file)\n",
    "\n",
    "\n"
   ]
  },
  {
   "cell_type": "markdown",
   "metadata": {},
   "source": [
    "Path of the mzml file"
   ]
  },
  {
   "cell_type": "code",
   "execution_count": 14,
   "metadata": {},
   "outputs": [],
   "source": [
    "mzml = '/home/karim/projects/oktoberfest/tutorials/out/'"
   ]
  },
  {
   "cell_type": "markdown",
   "metadata": {},
   "source": [
    "Loading the spectra from mzml file"
   ]
  },
  {
   "cell_type": "code",
   "execution_count": 15,
   "metadata": {},
   "outputs": [
    {
     "name": "stdout",
     "output_type": "stream",
     "text": [
      "2023-11-07 16:21:44,136 - INFO - spectrum_io.raw.msraw::read_mzml Reading mzML file: /home/karim/projects/oktoberfest/tutorials/out/GN20170722_SK_HLA_G0103_R1_01.mzML\n",
      "2023-11-07 16:22:03,836 - INFO - spectrum_io.raw.msraw::read_mzml Reading mzML file: /home/karim/projects/oktoberfest/tutorials/out/GN20170722_SK_HLA_G0103_R2_02.mzML\n",
      "2023-11-07 16:22:23,332 - INFO - spectrum_io.raw.msraw::read_mzml Reading mzML file: /home/karim/projects/oktoberfest/tutorials/out/GN20170722_SK_HLA_G0103_R2_01.mzML\n",
      "2023-11-07 16:22:43,167 - INFO - spectrum_io.raw.msraw::read_mzml Reading mzML file: /home/karim/projects/oktoberfest/tutorials/out/GN20170722_SK_HLA_G0103_R1_02.mzML\n"
     ]
    }
   ],
   "source": [
    "spectra = ok.pp.load_spectra(mzml_file= mzml, parser= 'pyteomics')"
   ]
  },
  {
   "cell_type": "code",
   "execution_count": 16,
   "metadata": {},
   "outputs": [
    {
     "data": {
      "text/html": [
       "<div>\n",
       "<style scoped>\n",
       "    .dataframe tbody tr th:only-of-type {\n",
       "        vertical-align: middle;\n",
       "    }\n",
       "\n",
       "    .dataframe tbody tr th {\n",
       "        vertical-align: top;\n",
       "    }\n",
       "\n",
       "    .dataframe thead th {\n",
       "        text-align: right;\n",
       "    }\n",
       "</style>\n",
       "<table border=\"1\" class=\"dataframe\">\n",
       "  <thead>\n",
       "    <tr style=\"text-align: right;\">\n",
       "      <th></th>\n",
       "      <th>RAW_FILE</th>\n",
       "      <th>SCAN_NUMBER</th>\n",
       "      <th>INTENSITIES</th>\n",
       "      <th>MZ</th>\n",
       "      <th>MZ_RANGE</th>\n",
       "      <th>RETENTION_TIME</th>\n",
       "      <th>MASS_ANALYZER</th>\n",
       "      <th>FRAGMENTATION</th>\n",
       "    </tr>\n",
       "  </thead>\n",
       "  <tbody>\n",
       "    <tr>\n",
       "      <th>GN20170722_SK_HLA_G0103_R1_01_4</th>\n",
       "      <td>GN20170722_SK_HLA_G0103_R1_01</td>\n",
       "      <td>4</td>\n",
       "      <td>[2115.24267578125, 4477.49169921875, 19077.226...</td>\n",
       "      <td>[101.2032699584961, 102.09208679199219, 123.11...</td>\n",
       "      <td>100.00-385.00</td>\n",
       "      <td>0.011957</td>\n",
       "      <td>FTMS</td>\n",
       "      <td>HCD</td>\n",
       "    </tr>\n",
       "    <tr>\n",
       "      <th>GN20170722_SK_HLA_G0103_R1_01_5</th>\n",
       "      <td>GN20170722_SK_HLA_G0103_R1_01</td>\n",
       "      <td>5</td>\n",
       "      <td>[8681.994140625, 693.3976440429688, 580.188476...</td>\n",
       "      <td>[101.06001281738281, 105.36332702636719, 110.0...</td>\n",
       "      <td>100.00-395.00</td>\n",
       "      <td>0.014245</td>\n",
       "      <td>FTMS</td>\n",
       "      <td>HCD</td>\n",
       "    </tr>\n",
       "    <tr>\n",
       "      <th>GN20170722_SK_HLA_G0103_R1_01_6</th>\n",
       "      <td>GN20170722_SK_HLA_G0103_R1_01</td>\n",
       "      <td>6</td>\n",
       "      <td>[5248.67822265625, 118141.4140625, 4605.001953...</td>\n",
       "      <td>[102.05547332763672, 102.09180450439453, 103.0...</td>\n",
       "      <td>100.00-325.00</td>\n",
       "      <td>0.016720</td>\n",
       "      <td>FTMS</td>\n",
       "      <td>HCD</td>\n",
       "    </tr>\n",
       "    <tr>\n",
       "      <th>GN20170722_SK_HLA_G0103_R1_01_7</th>\n",
       "      <td>GN20170722_SK_HLA_G0103_R1_01</td>\n",
       "      <td>7</td>\n",
       "      <td>[523.4241333007812, 516.0610961914062, 18938.2...</td>\n",
       "      <td>[129.10244750976562, 141.6624298095703, 149.04...</td>\n",
       "      <td>100.00-410.00</td>\n",
       "      <td>0.019195</td>\n",
       "      <td>FTMS</td>\n",
       "      <td>HCD</td>\n",
       "    </tr>\n",
       "    <tr>\n",
       "      <th>GN20170722_SK_HLA_G0103_R1_01_8</th>\n",
       "      <td>GN20170722_SK_HLA_G0103_R1_01</td>\n",
       "      <td>8</td>\n",
       "      <td>[503.8333435058594, 478.1268310546875, 592.651...</td>\n",
       "      <td>[101.03336334228516, 119.5694580078125, 132.63...</td>\n",
       "      <td>100.00-485.00</td>\n",
       "      <td>0.021689</td>\n",
       "      <td>FTMS</td>\n",
       "      <td>HCD</td>\n",
       "    </tr>\n",
       "  </tbody>\n",
       "</table>\n",
       "</div>"
      ],
      "text/plain": [
       "                                                      RAW_FILE  SCAN_NUMBER  \\\n",
       "GN20170722_SK_HLA_G0103_R1_01_4  GN20170722_SK_HLA_G0103_R1_01            4   \n",
       "GN20170722_SK_HLA_G0103_R1_01_5  GN20170722_SK_HLA_G0103_R1_01            5   \n",
       "GN20170722_SK_HLA_G0103_R1_01_6  GN20170722_SK_HLA_G0103_R1_01            6   \n",
       "GN20170722_SK_HLA_G0103_R1_01_7  GN20170722_SK_HLA_G0103_R1_01            7   \n",
       "GN20170722_SK_HLA_G0103_R1_01_8  GN20170722_SK_HLA_G0103_R1_01            8   \n",
       "\n",
       "                                                                       INTENSITIES  \\\n",
       "GN20170722_SK_HLA_G0103_R1_01_4  [2115.24267578125, 4477.49169921875, 19077.226...   \n",
       "GN20170722_SK_HLA_G0103_R1_01_5  [8681.994140625, 693.3976440429688, 580.188476...   \n",
       "GN20170722_SK_HLA_G0103_R1_01_6  [5248.67822265625, 118141.4140625, 4605.001953...   \n",
       "GN20170722_SK_HLA_G0103_R1_01_7  [523.4241333007812, 516.0610961914062, 18938.2...   \n",
       "GN20170722_SK_HLA_G0103_R1_01_8  [503.8333435058594, 478.1268310546875, 592.651...   \n",
       "\n",
       "                                                                                MZ  \\\n",
       "GN20170722_SK_HLA_G0103_R1_01_4  [101.2032699584961, 102.09208679199219, 123.11...   \n",
       "GN20170722_SK_HLA_G0103_R1_01_5  [101.06001281738281, 105.36332702636719, 110.0...   \n",
       "GN20170722_SK_HLA_G0103_R1_01_6  [102.05547332763672, 102.09180450439453, 103.0...   \n",
       "GN20170722_SK_HLA_G0103_R1_01_7  [129.10244750976562, 141.6624298095703, 149.04...   \n",
       "GN20170722_SK_HLA_G0103_R1_01_8  [101.03336334228516, 119.5694580078125, 132.63...   \n",
       "\n",
       "                                      MZ_RANGE  RETENTION_TIME MASS_ANALYZER  \\\n",
       "GN20170722_SK_HLA_G0103_R1_01_4  100.00-385.00        0.011957          FTMS   \n",
       "GN20170722_SK_HLA_G0103_R1_01_5  100.00-395.00        0.014245          FTMS   \n",
       "GN20170722_SK_HLA_G0103_R1_01_6  100.00-325.00        0.016720          FTMS   \n",
       "GN20170722_SK_HLA_G0103_R1_01_7  100.00-410.00        0.019195          FTMS   \n",
       "GN20170722_SK_HLA_G0103_R1_01_8  100.00-485.00        0.021689          FTMS   \n",
       "\n",
       "                                FRAGMENTATION  \n",
       "GN20170722_SK_HLA_G0103_R1_01_4           HCD  \n",
       "GN20170722_SK_HLA_G0103_R1_01_5           HCD  \n",
       "GN20170722_SK_HLA_G0103_R1_01_6           HCD  \n",
       "GN20170722_SK_HLA_G0103_R1_01_7           HCD  \n",
       "GN20170722_SK_HLA_G0103_R1_01_8           HCD  "
      ]
     },
     "execution_count": 16,
     "metadata": {},
     "output_type": "execute_result"
    }
   ],
   "source": [
    "spectra.head()"
   ]
  },
  {
   "cell_type": "markdown",
   "metadata": {},
   "source": [
    "Peptide processing"
   ]
  },
  {
   "cell_type": "markdown",
   "metadata": {},
   "source": [
    "Converting search results to Oktoberfest format."
   ]
  },
  {
   "cell_type": "code",
   "execution_count": 17,
   "metadata": {},
   "outputs": [],
   "source": [
    "peptide_out_file = '/home/karim/projects/oktoberfest/tutorials/out/peptide_output.tsv'\n",
    "split_search = '/home/karim/projects/oktoberfest/tutorials/out/split_search'\n"
   ]
  },
  {
   "cell_type": "code",
   "execution_count": 19,
   "metadata": {},
   "outputs": [
    {
     "name": "stdout",
     "output_type": "stream",
     "text": [
      "2023-11-07 16:25:19,617 - INFO - spectrum_io.search_result.maxquant::read_result Reading msms.txt file\n"
     ]
    },
    {
     "name": "stdout",
     "output_type": "stream",
     "text": [
      "2023-11-07 16:25:20,013 - INFO - spectrum_io.search_result.maxquant::read_result Finished reading msms.txt file\n",
      "2023-11-07 16:25:20,023 - INFO - spectrum_io.search_result.maxquant::update_columns_for_prosit Converting MaxQuant peptide sequence to internal format\n",
      "2023-11-07 16:25:20,213 - INFO - spectrum_io.search_result.search_results::filter_valid_prosit_sequences #sequences before filtering for valid prosit sequences: 99672\n",
      "2023-11-07 16:25:20,333 - INFO - spectrum_io.search_result.search_results::filter_valid_prosit_sequences #sequences after filtering for valid prosit sequences: 99202\n"
     ]
    }
   ],
   "source": [
    "ok.pp.convert_search(input_path= '/home/karim/projects/oktoberfest/tutorials/Oktoberfest_input/msms.txt',output_file = peptide_out_file , search_engine= 'maxquant')"
   ]
  },
  {
   "cell_type": "code",
   "execution_count": 20,
   "metadata": {},
   "outputs": [],
   "source": [
    "peptide_csv = pd.read_csv('/home/karim/projects/oktoberfest/tutorials/out/peptide_output.tsv')"
   ]
  },
  {
   "cell_type": "code",
   "execution_count": 21,
   "metadata": {},
   "outputs": [
    {
     "data": {
      "text/html": [
       "<div>\n",
       "<style scoped>\n",
       "    .dataframe tbody tr th:only-of-type {\n",
       "        vertical-align: middle;\n",
       "    }\n",
       "\n",
       "    .dataframe tbody tr th {\n",
       "        vertical-align: top;\n",
       "    }\n",
       "\n",
       "    .dataframe thead th {\n",
       "        text-align: right;\n",
       "    }\n",
       "</style>\n",
       "<table border=\"1\" class=\"dataframe\">\n",
       "  <thead>\n",
       "    <tr style=\"text-align: right;\">\n",
       "      <th></th>\n",
       "      <th>RAW_FILE</th>\n",
       "      <th>SCAN_NUMBER</th>\n",
       "      <th>MODIFIED_SEQUENCE</th>\n",
       "      <th>PRECURSOR_CHARGE</th>\n",
       "      <th>SCAN_EVENT_NUMBER</th>\n",
       "      <th>MASS</th>\n",
       "      <th>SCORE</th>\n",
       "      <th>REVERSE</th>\n",
       "      <th>SEQUENCE</th>\n",
       "      <th>PEPTIDE_LENGTH</th>\n",
       "    </tr>\n",
       "  </thead>\n",
       "  <tbody>\n",
       "    <tr>\n",
       "      <th>0</th>\n",
       "      <td>GN20170722_SK_HLA_G0103_R1_01</td>\n",
       "      <td>35161</td>\n",
       "      <td>AAAAAAYY</td>\n",
       "      <td>1</td>\n",
       "      <td>1</td>\n",
       "      <td>770.35990</td>\n",
       "      <td>8.0035</td>\n",
       "      <td>False</td>\n",
       "      <td>AAAAAAYY</td>\n",
       "      <td>8</td>\n",
       "    </tr>\n",
       "    <tr>\n",
       "      <th>1</th>\n",
       "      <td>GN20170722_SK_HLA_G0103_R1_02</td>\n",
       "      <td>51825</td>\n",
       "      <td>AAAAPPWAC[UNIMOD:4]FAAV</td>\n",
       "      <td>2</td>\n",
       "      <td>2</td>\n",
       "      <td>1301.62270</td>\n",
       "      <td>3.9695</td>\n",
       "      <td>True</td>\n",
       "      <td>AAAAPPWACFAAV</td>\n",
       "      <td>13</td>\n",
       "    </tr>\n",
       "    <tr>\n",
       "      <th>2</th>\n",
       "      <td>GN20170722_SK_HLA_G0103_R1_01</td>\n",
       "      <td>21329</td>\n",
       "      <td>AAAAVVSGPKRGRKKP</td>\n",
       "      <td>3</td>\n",
       "      <td>9</td>\n",
       "      <td>1591.96340</td>\n",
       "      <td>7.9138</td>\n",
       "      <td>True</td>\n",
       "      <td>AAAAVVSGPKRGRKKP</td>\n",
       "      <td>16</td>\n",
       "    </tr>\n",
       "    <tr>\n",
       "      <th>3</th>\n",
       "      <td>GN20170722_SK_HLA_G0103_R2_02</td>\n",
       "      <td>20501</td>\n",
       "      <td>AAAAVVSGPKRGRKKP</td>\n",
       "      <td>3</td>\n",
       "      <td>5</td>\n",
       "      <td>1591.96340</td>\n",
       "      <td>4.7582</td>\n",
       "      <td>True</td>\n",
       "      <td>AAAAVVSGPKRGRKKP</td>\n",
       "      <td>16</td>\n",
       "    </tr>\n",
       "    <tr>\n",
       "      <th>4</th>\n",
       "      <td>GN20170722_SK_HLA_G0103_R1_01</td>\n",
       "      <td>5650</td>\n",
       "      <td>AAAC[UNIMOD:4]RFVQ</td>\n",
       "      <td>3</td>\n",
       "      <td>8</td>\n",
       "      <td>921.44907</td>\n",
       "      <td>7.5676</td>\n",
       "      <td>True</td>\n",
       "      <td>AAACRFVQ</td>\n",
       "      <td>8</td>\n",
       "    </tr>\n",
       "  </tbody>\n",
       "</table>\n",
       "</div>"
      ],
      "text/plain": [
       "                        RAW_FILE  SCAN_NUMBER        MODIFIED_SEQUENCE  \\\n",
       "0  GN20170722_SK_HLA_G0103_R1_01        35161                 AAAAAAYY   \n",
       "1  GN20170722_SK_HLA_G0103_R1_02        51825  AAAAPPWAC[UNIMOD:4]FAAV   \n",
       "2  GN20170722_SK_HLA_G0103_R1_01        21329         AAAAVVSGPKRGRKKP   \n",
       "3  GN20170722_SK_HLA_G0103_R2_02        20501         AAAAVVSGPKRGRKKP   \n",
       "4  GN20170722_SK_HLA_G0103_R1_01         5650       AAAC[UNIMOD:4]RFVQ   \n",
       "\n",
       "   PRECURSOR_CHARGE  SCAN_EVENT_NUMBER        MASS   SCORE  REVERSE  \\\n",
       "0                 1                  1   770.35990  8.0035    False   \n",
       "1                 2                  2  1301.62270  3.9695     True   \n",
       "2                 3                  9  1591.96340  7.9138     True   \n",
       "3                 3                  5  1591.96340  4.7582     True   \n",
       "4                 3                  8   921.44907  7.5676     True   \n",
       "\n",
       "           SEQUENCE  PEPTIDE_LENGTH  \n",
       "0          AAAAAAYY               8  \n",
       "1     AAAAPPWACFAAV              13  \n",
       "2  AAAAVVSGPKRGRKKP              16  \n",
       "3  AAAAVVSGPKRGRKKP              16  \n",
       "4          AAACRFVQ               8  "
      ]
     },
     "execution_count": 21,
     "metadata": {},
     "output_type": "execute_result"
    }
   ],
   "source": [
    "peptide_csv.head()"
   ]
  },
  {
   "cell_type": "markdown",
   "metadata": {},
   "source": [
    "Loading search results"
   ]
  },
  {
   "cell_type": "code",
   "execution_count": 22,
   "metadata": {},
   "outputs": [],
   "source": [
    "peptide_df = ok.pp.load_search(peptide_out_file)"
   ]
  },
  {
   "cell_type": "code",
   "execution_count": 23,
   "metadata": {},
   "outputs": [
    {
     "name": "stdout",
     "output_type": "stream",
     "text": [
      "<class 'pandas.core.frame.DataFrame'>\n",
      "RangeIndex: 99202 entries, 0 to 99201\n",
      "Data columns (total 10 columns):\n",
      " #   Column             Non-Null Count  Dtype  \n",
      "---  ------             --------------  -----  \n",
      " 0   RAW_FILE           99202 non-null  object \n",
      " 1   SCAN_NUMBER        99202 non-null  int64  \n",
      " 2   MODIFIED_SEQUENCE  99202 non-null  object \n",
      " 3   PRECURSOR_CHARGE   99202 non-null  int64  \n",
      " 4   SCAN_EVENT_NUMBER  99202 non-null  int64  \n",
      " 5   MASS               99202 non-null  float64\n",
      " 6   SCORE              99202 non-null  float64\n",
      " 7   REVERSE            99202 non-null  bool   \n",
      " 8   SEQUENCE           99202 non-null  object \n",
      " 9   PEPTIDE_LENGTH     99202 non-null  int64  \n",
      "dtypes: bool(1), float64(2), int64(4), object(3)\n",
      "memory usage: 6.9+ MB\n"
     ]
    }
   ],
   "source": [
    "peptide_df.info()"
   ]
  },
  {
   "cell_type": "markdown",
   "metadata": {},
   "source": [
    "Filtering search results using given constraints."
   ]
  },
  {
   "cell_type": "code",
   "execution_count": 24,
   "metadata": {},
   "outputs": [],
   "source": [
    "filtered_peptides = ok.pp.filter_peptides_for_model(peptides = peptide_df , model='prosit')"
   ]
  },
  {
   "cell_type": "code",
   "execution_count": 25,
   "metadata": {},
   "outputs": [
    {
     "name": "stdout",
     "output_type": "stream",
     "text": [
      "<class 'pandas.core.frame.DataFrame'>\n",
      "Int64Index: 99202 entries, 0 to 99201\n",
      "Data columns (total 10 columns):\n",
      " #   Column             Non-Null Count  Dtype  \n",
      "---  ------             --------------  -----  \n",
      " 0   RAW_FILE           99202 non-null  object \n",
      " 1   SCAN_NUMBER        99202 non-null  int64  \n",
      " 2   MODIFIED_SEQUENCE  99202 non-null  object \n",
      " 3   PRECURSOR_CHARGE   99202 non-null  int64  \n",
      " 4   SCAN_EVENT_NUMBER  99202 non-null  int64  \n",
      " 5   MASS               99202 non-null  float64\n",
      " 6   SCORE              99202 non-null  float64\n",
      " 7   REVERSE            99202 non-null  bool   \n",
      " 8   SEQUENCE           99202 non-null  object \n",
      " 9   PEPTIDE_LENGTH     99202 non-null  int64  \n",
      "dtypes: bool(1), float64(2), int64(4), object(3)\n",
      "memory usage: 7.7+ MB\n"
     ]
    }
   ],
   "source": [
    "filtered_peptides.info()"
   ]
  },
  {
   "cell_type": "markdown",
   "metadata": {},
   "source": [
    "Generating Psms"
   ]
  },
  {
   "cell_type": "code",
   "execution_count": 26,
   "metadata": {},
   "outputs": [
    {
     "name": "stdout",
     "output_type": "stream",
     "text": [
      "2023-11-07 16:25:26,253 - INFO - oktoberfest.preprocessing.preprocessing::merge_spectra_and_peptides Merging rawfile and search result\n",
      "2023-11-07 16:25:26,420 - INFO - oktoberfest.preprocessing.preprocessing::merge_spectra_and_peptides There are 99202 matched identifications\n"
     ]
    }
   ],
   "source": [
    "psms = ok.pp.merge_spectra_and_peptides(spectra= spectra , search= filtered_peptides)"
   ]
  },
  {
   "cell_type": "code",
   "execution_count": 27,
   "metadata": {},
   "outputs": [
    {
     "data": {
      "text/html": [
       "<div>\n",
       "<style scoped>\n",
       "    .dataframe tbody tr th:only-of-type {\n",
       "        vertical-align: middle;\n",
       "    }\n",
       "\n",
       "    .dataframe tbody tr th {\n",
       "        vertical-align: top;\n",
       "    }\n",
       "\n",
       "    .dataframe thead th {\n",
       "        text-align: right;\n",
       "    }\n",
       "</style>\n",
       "<table border=\"1\" class=\"dataframe\">\n",
       "  <thead>\n",
       "    <tr style=\"text-align: right;\">\n",
       "      <th></th>\n",
       "      <th>RAW_FILE</th>\n",
       "      <th>SCAN_NUMBER</th>\n",
       "      <th>MODIFIED_SEQUENCE</th>\n",
       "      <th>PRECURSOR_CHARGE</th>\n",
       "      <th>SCAN_EVENT_NUMBER</th>\n",
       "      <th>MASS</th>\n",
       "      <th>SCORE</th>\n",
       "      <th>REVERSE</th>\n",
       "      <th>SEQUENCE</th>\n",
       "      <th>PEPTIDE_LENGTH</th>\n",
       "      <th>INTENSITIES</th>\n",
       "      <th>MZ</th>\n",
       "      <th>MZ_RANGE</th>\n",
       "      <th>RETENTION_TIME</th>\n",
       "      <th>MASS_ANALYZER</th>\n",
       "      <th>FRAGMENTATION</th>\n",
       "    </tr>\n",
       "  </thead>\n",
       "  <tbody>\n",
       "    <tr>\n",
       "      <th>0</th>\n",
       "      <td>GN20170722_SK_HLA_G0103_R1_01</td>\n",
       "      <td>35161</td>\n",
       "      <td>AAAAAAYY</td>\n",
       "      <td>1</td>\n",
       "      <td>1</td>\n",
       "      <td>770.3599</td>\n",
       "      <td>8.0035</td>\n",
       "      <td>False</td>\n",
       "      <td>AAAAAAYY</td>\n",
       "      <td>8</td>\n",
       "      <td>[324826.46875, 1255.1343994140625, 6190.715332...</td>\n",
       "      <td>[100.1125717163086, 100.1261215209961, 101.071...</td>\n",
       "      <td>100.00-805.00</td>\n",
       "      <td>78.086489</td>\n",
       "      <td>FTMS</td>\n",
       "      <td>HCD</td>\n",
       "    </tr>\n",
       "    <tr>\n",
       "      <th>1</th>\n",
       "      <td>GN20170722_SK_HLA_G0103_R1_02</td>\n",
       "      <td>51825</td>\n",
       "      <td>AAAAPPWAC[UNIMOD:4]FAAV</td>\n",
       "      <td>2</td>\n",
       "      <td>2</td>\n",
       "      <td>1301.6227</td>\n",
       "      <td>3.9695</td>\n",
       "      <td>True</td>\n",
       "      <td>AAAAPPWACFAAV</td>\n",
       "      <td>13</td>\n",
       "      <td>[2698.22314453125, 3675.60693359375, 1123.8502...</td>\n",
       "      <td>[101.07110595703125, 102.05532836914062, 103.0...</td>\n",
       "      <td>100.00-685.00</td>\n",
       "      <td>116.195940</td>\n",
       "      <td>FTMS</td>\n",
       "      <td>HCD</td>\n",
       "    </tr>\n",
       "    <tr>\n",
       "      <th>2</th>\n",
       "      <td>GN20170722_SK_HLA_G0103_R1_01</td>\n",
       "      <td>21329</td>\n",
       "      <td>AAAAVVSGPKRGRKKP</td>\n",
       "      <td>3</td>\n",
       "      <td>9</td>\n",
       "      <td>1591.9634</td>\n",
       "      <td>7.9138</td>\n",
       "      <td>True</td>\n",
       "      <td>AAAAVVSGPKRGRKKP</td>\n",
       "      <td>16</td>\n",
       "      <td>[1057.125732421875, 10181.4873046875, 33789.39...</td>\n",
       "      <td>[101.06056213378906, 102.05546569824219, 102.0...</td>\n",
       "      <td>100.00-1650.00</td>\n",
       "      <td>46.272255</td>\n",
       "      <td>FTMS</td>\n",
       "      <td>HCD</td>\n",
       "    </tr>\n",
       "    <tr>\n",
       "      <th>3</th>\n",
       "      <td>GN20170722_SK_HLA_G0103_R1_01</td>\n",
       "      <td>21329</td>\n",
       "      <td>PTALHKQRL</td>\n",
       "      <td>2</td>\n",
       "      <td>9</td>\n",
       "      <td>1062.6298</td>\n",
       "      <td>9.3575</td>\n",
       "      <td>False</td>\n",
       "      <td>PTALHKQRL</td>\n",
       "      <td>9</td>\n",
       "      <td>[1057.125732421875, 10181.4873046875, 33789.39...</td>\n",
       "      <td>[101.06056213378906, 102.05546569824219, 102.0...</td>\n",
       "      <td>100.00-1650.00</td>\n",
       "      <td>46.272255</td>\n",
       "      <td>FTMS</td>\n",
       "      <td>HCD</td>\n",
       "    </tr>\n",
       "    <tr>\n",
       "      <th>4</th>\n",
       "      <td>GN20170722_SK_HLA_G0103_R2_02</td>\n",
       "      <td>20501</td>\n",
       "      <td>AAAAVVSGPKRGRKKP</td>\n",
       "      <td>3</td>\n",
       "      <td>5</td>\n",
       "      <td>1591.9634</td>\n",
       "      <td>4.7582</td>\n",
       "      <td>True</td>\n",
       "      <td>AAAAVVSGPKRGRKKP</td>\n",
       "      <td>16</td>\n",
       "      <td>[870.1561279296875, 996.1369018554688, 39476.2...</td>\n",
       "      <td>[102.055419921875, 102.0848617553711, 102.0918...</td>\n",
       "      <td>100.00-1650.00</td>\n",
       "      <td>46.388269</td>\n",
       "      <td>FTMS</td>\n",
       "      <td>HCD</td>\n",
       "    </tr>\n",
       "    <tr>\n",
       "      <th>...</th>\n",
       "      <td>...</td>\n",
       "      <td>...</td>\n",
       "      <td>...</td>\n",
       "      <td>...</td>\n",
       "      <td>...</td>\n",
       "      <td>...</td>\n",
       "      <td>...</td>\n",
       "      <td>...</td>\n",
       "      <td>...</td>\n",
       "      <td>...</td>\n",
       "      <td>...</td>\n",
       "      <td>...</td>\n",
       "      <td>...</td>\n",
       "      <td>...</td>\n",
       "      <td>...</td>\n",
       "      <td>...</td>\n",
       "    </tr>\n",
       "    <tr>\n",
       "      <th>99197</th>\n",
       "      <td>GN20170722_SK_HLA_G0103_R2_01</td>\n",
       "      <td>35746</td>\n",
       "      <td>YYYKDGDYYEDEDEDEDE</td>\n",
       "      <td>3</td>\n",
       "      <td>4</td>\n",
       "      <td>2353.8183</td>\n",
       "      <td>1.6758</td>\n",
       "      <td>False</td>\n",
       "      <td>YYYKDGDYYEDEDEDEDE</td>\n",
       "      <td>18</td>\n",
       "      <td>[1551.66748046875, 4759.90185546875, 5069.5161...</td>\n",
       "      <td>[101.07146453857422, 102.05550384521484, 103.0...</td>\n",
       "      <td>100.00-2425.00</td>\n",
       "      <td>82.511449</td>\n",
       "      <td>FTMS</td>\n",
       "      <td>HCD</td>\n",
       "    </tr>\n",
       "    <tr>\n",
       "      <th>99198</th>\n",
       "      <td>GN20170722_SK_HLA_G0103_R1_02</td>\n",
       "      <td>52630</td>\n",
       "      <td>YYYKDGDYYEDEDEDEDEDEENE</td>\n",
       "      <td>2</td>\n",
       "      <td>6</td>\n",
       "      <td>2970.0159</td>\n",
       "      <td>0.0000</td>\n",
       "      <td>False</td>\n",
       "      <td>YYYKDGDYYEDEDEDEDEDEENE</td>\n",
       "      <td>23</td>\n",
       "      <td>[944.7178955078125, 737.7440185546875, 1518.81...</td>\n",
       "      <td>[101.0711669921875, 103.05423736572266, 110.07...</td>\n",
       "      <td>100.00-3050.00</td>\n",
       "      <td>118.207100</td>\n",
       "      <td>FTMS</td>\n",
       "      <td>HCD</td>\n",
       "    </tr>\n",
       "    <tr>\n",
       "      <th>99199</th>\n",
       "      <td>GN20170722_SK_HLA_G0103_R1_01</td>\n",
       "      <td>41703</td>\n",
       "      <td>YYYLDWANIKGDYE</td>\n",
       "      <td>2</td>\n",
       "      <td>12</td>\n",
       "      <td>1811.8043</td>\n",
       "      <td>6.2759</td>\n",
       "      <td>True</td>\n",
       "      <td>YYYLDWANIKGDYE</td>\n",
       "      <td>14</td>\n",
       "      <td>[5452.5234375, 937.5213623046875, 9635.3115234...</td>\n",
       "      <td>[101.07122039794922, 101.1076889038086, 102.05...</td>\n",
       "      <td>100.00-945.00</td>\n",
       "      <td>93.073608</td>\n",
       "      <td>FTMS</td>\n",
       "      <td>HCD</td>\n",
       "    </tr>\n",
       "    <tr>\n",
       "      <th>99200</th>\n",
       "      <td>GN20170722_SK_HLA_G0103_R2_01</td>\n",
       "      <td>37870</td>\n",
       "      <td>YYYLDWANIKGDYE</td>\n",
       "      <td>2</td>\n",
       "      <td>12</td>\n",
       "      <td>1811.8043</td>\n",
       "      <td>6.2759</td>\n",
       "      <td>True</td>\n",
       "      <td>YYYLDWANIKGDYE</td>\n",
       "      <td>14</td>\n",
       "      <td>[8445.8740234375, 1322.7825927734375, 15181.16...</td>\n",
       "      <td>[101.07130432128906, 102.049072265625, 102.055...</td>\n",
       "      <td>100.00-945.00</td>\n",
       "      <td>87.243202</td>\n",
       "      <td>FTMS</td>\n",
       "      <td>HCD</td>\n",
       "    </tr>\n",
       "    <tr>\n",
       "      <th>99201</th>\n",
       "      <td>GN20170722_SK_HLA_G0103_R2_01</td>\n",
       "      <td>38258</td>\n",
       "      <td>YYYLDWANIKGDYE</td>\n",
       "      <td>2</td>\n",
       "      <td>10</td>\n",
       "      <td>1811.8043</td>\n",
       "      <td>4.5468</td>\n",
       "      <td>True</td>\n",
       "      <td>YYYLDWANIKGDYE</td>\n",
       "      <td>14</td>\n",
       "      <td>[9834.814453125, 1628.714599609375, 10986.9033...</td>\n",
       "      <td>[101.0712661743164, 101.10784912109375, 102.05...</td>\n",
       "      <td>100.00-945.00</td>\n",
       "      <td>88.199900</td>\n",
       "      <td>FTMS</td>\n",
       "      <td>HCD</td>\n",
       "    </tr>\n",
       "  </tbody>\n",
       "</table>\n",
       "<p>99202 rows × 16 columns</p>\n",
       "</div>"
      ],
      "text/plain": [
       "                            RAW_FILE  SCAN_NUMBER        MODIFIED_SEQUENCE  \\\n",
       "0      GN20170722_SK_HLA_G0103_R1_01        35161                 AAAAAAYY   \n",
       "1      GN20170722_SK_HLA_G0103_R1_02        51825  AAAAPPWAC[UNIMOD:4]FAAV   \n",
       "2      GN20170722_SK_HLA_G0103_R1_01        21329         AAAAVVSGPKRGRKKP   \n",
       "3      GN20170722_SK_HLA_G0103_R1_01        21329                PTALHKQRL   \n",
       "4      GN20170722_SK_HLA_G0103_R2_02        20501         AAAAVVSGPKRGRKKP   \n",
       "...                              ...          ...                      ...   \n",
       "99197  GN20170722_SK_HLA_G0103_R2_01        35746       YYYKDGDYYEDEDEDEDE   \n",
       "99198  GN20170722_SK_HLA_G0103_R1_02        52630  YYYKDGDYYEDEDEDEDEDEENE   \n",
       "99199  GN20170722_SK_HLA_G0103_R1_01        41703           YYYLDWANIKGDYE   \n",
       "99200  GN20170722_SK_HLA_G0103_R2_01        37870           YYYLDWANIKGDYE   \n",
       "99201  GN20170722_SK_HLA_G0103_R2_01        38258           YYYLDWANIKGDYE   \n",
       "\n",
       "       PRECURSOR_CHARGE  SCAN_EVENT_NUMBER       MASS   SCORE  REVERSE  \\\n",
       "0                     1                  1   770.3599  8.0035    False   \n",
       "1                     2                  2  1301.6227  3.9695     True   \n",
       "2                     3                  9  1591.9634  7.9138     True   \n",
       "3                     2                  9  1062.6298  9.3575    False   \n",
       "4                     3                  5  1591.9634  4.7582     True   \n",
       "...                 ...                ...        ...     ...      ...   \n",
       "99197                 3                  4  2353.8183  1.6758    False   \n",
       "99198                 2                  6  2970.0159  0.0000    False   \n",
       "99199                 2                 12  1811.8043  6.2759     True   \n",
       "99200                 2                 12  1811.8043  6.2759     True   \n",
       "99201                 2                 10  1811.8043  4.5468     True   \n",
       "\n",
       "                      SEQUENCE  PEPTIDE_LENGTH  \\\n",
       "0                     AAAAAAYY               8   \n",
       "1                AAAAPPWACFAAV              13   \n",
       "2             AAAAVVSGPKRGRKKP              16   \n",
       "3                    PTALHKQRL               9   \n",
       "4             AAAAVVSGPKRGRKKP              16   \n",
       "...                        ...             ...   \n",
       "99197       YYYKDGDYYEDEDEDEDE              18   \n",
       "99198  YYYKDGDYYEDEDEDEDEDEENE              23   \n",
       "99199           YYYLDWANIKGDYE              14   \n",
       "99200           YYYLDWANIKGDYE              14   \n",
       "99201           YYYLDWANIKGDYE              14   \n",
       "\n",
       "                                             INTENSITIES  \\\n",
       "0      [324826.46875, 1255.1343994140625, 6190.715332...   \n",
       "1      [2698.22314453125, 3675.60693359375, 1123.8502...   \n",
       "2      [1057.125732421875, 10181.4873046875, 33789.39...   \n",
       "3      [1057.125732421875, 10181.4873046875, 33789.39...   \n",
       "4      [870.1561279296875, 996.1369018554688, 39476.2...   \n",
       "...                                                  ...   \n",
       "99197  [1551.66748046875, 4759.90185546875, 5069.5161...   \n",
       "99198  [944.7178955078125, 737.7440185546875, 1518.81...   \n",
       "99199  [5452.5234375, 937.5213623046875, 9635.3115234...   \n",
       "99200  [8445.8740234375, 1322.7825927734375, 15181.16...   \n",
       "99201  [9834.814453125, 1628.714599609375, 10986.9033...   \n",
       "\n",
       "                                                      MZ        MZ_RANGE  \\\n",
       "0      [100.1125717163086, 100.1261215209961, 101.071...   100.00-805.00   \n",
       "1      [101.07110595703125, 102.05532836914062, 103.0...   100.00-685.00   \n",
       "2      [101.06056213378906, 102.05546569824219, 102.0...  100.00-1650.00   \n",
       "3      [101.06056213378906, 102.05546569824219, 102.0...  100.00-1650.00   \n",
       "4      [102.055419921875, 102.0848617553711, 102.0918...  100.00-1650.00   \n",
       "...                                                  ...             ...   \n",
       "99197  [101.07146453857422, 102.05550384521484, 103.0...  100.00-2425.00   \n",
       "99198  [101.0711669921875, 103.05423736572266, 110.07...  100.00-3050.00   \n",
       "99199  [101.07122039794922, 101.1076889038086, 102.05...   100.00-945.00   \n",
       "99200  [101.07130432128906, 102.049072265625, 102.055...   100.00-945.00   \n",
       "99201  [101.0712661743164, 101.10784912109375, 102.05...   100.00-945.00   \n",
       "\n",
       "       RETENTION_TIME MASS_ANALYZER FRAGMENTATION  \n",
       "0           78.086489          FTMS           HCD  \n",
       "1          116.195940          FTMS           HCD  \n",
       "2           46.272255          FTMS           HCD  \n",
       "3           46.272255          FTMS           HCD  \n",
       "4           46.388269          FTMS           HCD  \n",
       "...               ...           ...           ...  \n",
       "99197       82.511449          FTMS           HCD  \n",
       "99198      118.207100          FTMS           HCD  \n",
       "99199       93.073608          FTMS           HCD  \n",
       "99200       87.243202          FTMS           HCD  \n",
       "99201       88.199900          FTMS           HCD  \n",
       "\n",
       "[99202 rows x 16 columns]"
      ]
     },
     "execution_count": 27,
     "metadata": {},
     "output_type": "execute_result"
    }
   ],
   "source": [
    "psms.spectra_data"
   ]
  },
  {
   "cell_type": "markdown",
   "metadata": {},
   "source": [
    "    Rescoring"
   ]
  },
  {
   "cell_type": "markdown",
   "metadata": {},
   "source": [
    "Generating original features "
   ]
  },
  {
   "cell_type": "code",
   "execution_count": 28,
   "metadata": {},
   "outputs": [],
   "source": [
    "# adding the path for the original and rescored features.\n",
    "original_features = '/home/karim/projects/oktoberfest/tutorials/out/original.tab'\n",
    "rescore_features = '/home/karim/projects/oktoberfest/tutorials/out/rescore.tab'\n"
   ]
  },
  {
   "cell_type": "markdown",
   "metadata": {},
   "source": [
    "Anotate the Psms"
   ]
  },
  {
   "cell_type": "code",
   "execution_count": 29,
   "metadata": {},
   "outputs": [
    {
     "name": "stdout",
     "output_type": "stream",
     "text": [
      "2023-11-07 16:25:29,012 - INFO - oktoberfest.preprocessing.preprocessing::annotate_spectral_library Annotating spectra...\n",
      "2023-11-07 15:27:30,672 - INFO - spectrum_fundamentals.annotation.annotation::annotate_spectra Removed count    99202.000000\n",
      "mean         0.000171\n",
      "std          0.013090\n",
      "min          0.000000\n",
      "25%          0.000000\n",
      "50%          0.000000\n",
      "75%          0.000000\n",
      "max          1.000000\n",
      "Name: removed_peaks, dtype: float64 redundant peaks\n",
      "2023-11-07 16:27:30,693 - INFO - oktoberfest.preprocessing.preprocessing::annotate_spectral_library Finished annotating.\n"
     ]
    }
   ],
   "source": [
    "# No need to assign this function to a variable as it does not have a return.\n",
    "ok.pp.annotate_spectral_library(psms= psms , mass_tol= 20 , unit_mass_tol= 'ppm' )"
   ]
  },
  {
   "cell_type": "markdown",
   "metadata": {},
   "source": [
    "Generating features for the original"
   ]
  },
  {
   "cell_type": "markdown",
   "metadata": {},
   "source": [
    "Predictions \n",
    "first perform ce caliberation and add to a variable as the function returns a pd series"
   ]
  },
  {
   "cell_type": "code",
   "execution_count": 30,
   "metadata": {},
   "outputs": [
    {
     "data": {
      "application/vnd.jupyter.widget-view+json": {
       "model_id": "7e09ab9633c44934b295fb967a089ad2",
       "version_major": 2,
       "version_minor": 0
      },
      "text/plain": [
       "Inferring predictions for 32000 spectra with batch site 1000:   0%|          | 0/32 [00:00<?, ?it/s]"
      ]
     },
     "metadata": {},
     "output_type": "display_data"
    },
    {
     "data": {
      "application/vnd.jupyter.widget-view+json": {
       "model_id": "ff858689c20045209fa78ea70a4db69f",
       "version_major": 2,
       "version_minor": 0
      },
      "text/plain": [
       "Inferring predictions for 32000 spectra with batch site 1000:   0%|          | 0/32 [00:00<?, ?it/s]"
      ]
     },
     "metadata": {},
     "output_type": "display_data"
    }
   ],
   "source": [
    "alignment_library = ok.pr.ce_calibration(psms,url= config['prediction_server'] , intensity_model= config['models']['intensity'],  \n",
    "                   irt_model= config['models']['irt'])"
   ]
  },
  {
   "cell_type": "code",
   "execution_count": 31,
   "metadata": {},
   "outputs": [],
   "source": [
    "ce_alignment = alignment_library.spectra_data.groupby(by=[\"COLLISION_ENERGY\"])[\"SPECTRAL_ANGLE\"].mean()"
   ]
  },
  {
   "cell_type": "code",
   "execution_count": 32,
   "metadata": {},
   "outputs": [],
   "source": [
    "best_ce = ce_alignment.idxmax()\n",
    "psms.spectra_data['COLLISION_ENERGY']= best_ce"
   ]
  },
  {
   "cell_type": "markdown",
   "metadata": {},
   "source": [
    "you have to understand this part to do it the caliberation. you need the collision energy and also the best collision energy for the file to be ready to predict the features of the rescored. Also apperently you need to split the psms file. "
   ]
  },
  {
   "cell_type": "code",
   "execution_count": 33,
   "metadata": {},
   "outputs": [
    {
     "data": {
      "application/vnd.jupyter.widget-view+json": {
       "model_id": "6c35b89fff404d18ab614ae64b498f40",
       "version_major": 2,
       "version_minor": 0
      },
      "text/plain": [
       "Inferring predictions for 99202 spectra with batch site 1000:   0%|          | 0/100 [00:00<?, ?it/s]"
      ]
     },
     "metadata": {},
     "output_type": "display_data"
    },
    {
     "data": {
      "application/vnd.jupyter.widget-view+json": {
       "model_id": "ab9d724c26d14c23ac938a0fe331fc34",
       "version_major": 2,
       "version_minor": 0
      },
      "text/plain": [
       "Inferring predictions for 99202 spectra with batch site 1000:   0%|          | 0/100 [00:00<?, ?it/s]"
      ]
     },
     "metadata": {},
     "output_type": "display_data"
    }
   ],
   "source": [
    "gprc = ok.pr.grpc_predict(library = psms ,url= config['prediction_server'] , intensity_model= config['models']['intensity'],  \n",
    "                   irt_model= config['models']['irt'], ssl= True , alignment= False)"
   ]
  },
  {
   "cell_type": "code",
   "execution_count": 34,
   "metadata": {},
   "outputs": [
    {
     "data": {
      "text/plain": [
       "0         36.519104\n",
       "1        148.557037\n",
       "2        -29.577068\n",
       "3        104.830978\n",
       "4        -29.577068\n",
       "            ...    \n",
       "99197     46.457218\n",
       "99198     47.603615\n",
       "99199    115.418266\n",
       "99200    115.418266\n",
       "99201    115.418266\n",
       "Name: PREDICTED_IRT, Length: 99202, dtype: float32"
      ]
     },
     "execution_count": 34,
     "metadata": {},
     "output_type": "execute_result"
    }
   ],
   "source": [
    "psms.spectra_data['PREDICTED_IRT']"
   ]
  },
  {
   "cell_type": "code",
   "execution_count": 35,
   "metadata": {},
   "outputs": [
    {
     "name": "stdout",
     "output_type": "stream",
     "text": [
      "\n"
     ]
    },
    {
     "name": "stderr",
     "output_type": "stream",
     "text": [
      "/home/karim/miniconda3/envs/oktoberfest/lib/python3.10/site-packages/scipy/stats/_stats_py.py:4424: ConstantInputWarning: An input array is constant; the correlation coefficient is not defined.\n",
      "  warnings.warn(stats.ConstantInputWarning(msg))\n"
     ]
    },
    {
     "name": "stdout",
     "output_type": "stream",
     "text": [
      "2023-11-07 15:30:07,933 - INFO - spectrum_fundamentals.metrics.percolator::get_indices_below_fdr Found 6601 (out of 58078) targets below 0.01             FDR using spectral_angle as feature\n",
      "2023-11-07 15:30:07,934 - INFO - spectrum_fundamentals.metrics.percolator::apply_lda_and_get_indices_below_fdr Found 6601 targets and 41124 decoys as input for the LDA model\n",
      "2023-11-07 15:30:08,441 - INFO - spectrum_fundamentals.metrics.percolator::get_indices_below_fdr Found 12500 (out of 58078) targets below 0.01             FDR using lda_scores as feature\n",
      "2023-11-07 15:30:08,488 - INFO - spectrum_fundamentals.metrics.percolator::calc Median absolute error predicted vs observed retention time on targets < 1% FDR: 1.3319870130893658\n"
     ]
    }
   ],
   "source": [
    "ok.re.generate_features( library= psms , search_type= 'rescore' , output_file= rescore_features , all_features=False , regression_method= 'spline' )"
   ]
  },
  {
   "cell_type": "code",
   "execution_count": 36,
   "metadata": {},
   "outputs": [],
   "source": [
    "ok.re.generate_features( library= psms , search_type= 'original' , output_file= original_features, all_features=False, regression_method= 'spline')"
   ]
  },
  {
   "cell_type": "markdown",
   "metadata": {},
   "source": [
    "Merging the input "
   ]
  },
  {
   "cell_type": "markdown",
   "metadata": {},
   "source": [
    "Generating a list of Tab files "
   ]
  },
  {
   "cell_type": "code",
   "execution_count": 37,
   "metadata": {},
   "outputs": [],
   "source": [
    "rescore_percolator = '/home/karim/projects/oktoberfest/tutorials/out/percolator/'\n",
    "original_percolator = '/home/karim/projects/oktoberfest/tutorials/out/percolator/'\n",
    "plot = '/home/karim/projects/oktoberfest/tutorials/out/' "
   ]
  },
  {
   "cell_type": "code",
   "execution_count": 38,
   "metadata": {},
   "outputs": [],
   "source": [
    "#ok.re.merge_input(tab_list,combined_tab)"
   ]
  },
  {
   "cell_type": "code",
   "execution_count": 40,
   "metadata": {},
   "outputs": [
    {
     "name": "stdout",
     "output_type": "stream",
     "text": [
      "2023-11-07 16:32:16,731 - INFO - oktoberfest.rescore.rescore::rescore_with_percolator Starting percolator with command percolator --weights /home/karim/projects/oktoberfest/tutorials/out/percolator/rescore.percolator.weights.csv                     --num-threads 3                     --subset-max-train 500000                     --post-processing-tdc                     --testFDR 0.01                     --trainFDR 0.01                     --results-psms /home/karim/projects/oktoberfest/tutorials/out/percolator/rescore.percolator.psms.txt                     --decoy-results-psms /home/karim/projects/oktoberfest/tutorials/out/percolator/rescore.percolator.decoy.psms.txt                     --results-peptides /home/karim/projects/oktoberfest/tutorials/out/percolator/rescore.percolator.peptides.txt                     --decoy-results-peptides /home/karim/projects/oktoberfest/tutorials/out/percolator/rescore.percolator.decoy.peptides.txt                     /home/karim/projects/oktoberfest/tutorials/out/rescore.tab 2> /home/karim/projects/oktoberfest/tutorials/out/percolator/rescore.log\n"
     ]
    },
    {
     "name": "stdout",
     "output_type": "stream",
     "text": [
      "2023-11-07 16:34:01,441 - INFO - oktoberfest.rescore.rescore::rescore_with_percolator Finished rescoring using percolator.\n"
     ]
    }
   ],
   "source": [
    "ok.re.rescore_with_percolator(rescore_features,rescore_percolator)"
   ]
  },
  {
   "cell_type": "code",
   "execution_count": 41,
   "metadata": {},
   "outputs": [
    {
     "name": "stdout",
     "output_type": "stream",
     "text": [
      "2023-11-07 16:34:01,516 - INFO - oktoberfest.rescore.rescore::rescore_with_percolator Starting percolator with command percolator --weights /home/karim/projects/oktoberfest/tutorials/out/percolator/original.percolator.weights.csv                     --num-threads 3                     --subset-max-train 500000                     --post-processing-tdc                     --testFDR 0.01                     --trainFDR 0.01                     --results-psms /home/karim/projects/oktoberfest/tutorials/out/percolator/original.percolator.psms.txt                     --decoy-results-psms /home/karim/projects/oktoberfest/tutorials/out/percolator/original.percolator.decoy.psms.txt                     --results-peptides /home/karim/projects/oktoberfest/tutorials/out/percolator/original.percolator.peptides.txt                     --decoy-results-peptides /home/karim/projects/oktoberfest/tutorials/out/percolator/original.percolator.decoy.peptides.txt                     /home/karim/projects/oktoberfest/tutorials/out/original.tab 2> /home/karim/projects/oktoberfest/tutorials/out/percolator/original.log\n",
      "2023-11-07 16:34:25,767 - INFO - oktoberfest.rescore.rescore::rescore_with_percolator Finished rescoring using percolator.\n"
     ]
    }
   ],
   "source": [
    "ok.re.rescore_with_percolator(original_features, original_percolator)"
   ]
  },
  {
   "cell_type": "markdown",
   "metadata": {},
   "source": [
    "# Visualisations"
   ]
  },
  {
   "cell_type": "code",
   "execution_count": 42,
   "metadata": {},
   "outputs": [
    {
     "data": {
      "text/html": [
       "<div>\n",
       "<style scoped>\n",
       "    .dataframe tbody tr th:only-of-type {\n",
       "        vertical-align: middle;\n",
       "    }\n",
       "\n",
       "    .dataframe tbody tr th {\n",
       "        vertical-align: top;\n",
       "    }\n",
       "\n",
       "    .dataframe thead th {\n",
       "        text-align: right;\n",
       "    }\n",
       "</style>\n",
       "<table border=\"1\" class=\"dataframe\">\n",
       "  <thead>\n",
       "    <tr style=\"text-align: right;\">\n",
       "      <th></th>\n",
       "      <th>PSMId</th>\n",
       "      <th>filename</th>\n",
       "      <th>score</th>\n",
       "      <th>q-value</th>\n",
       "      <th>posterior_error_prob</th>\n",
       "      <th>peptide</th>\n",
       "      <th>proteinIds</th>\n",
       "    </tr>\n",
       "  </thead>\n",
       "  <tbody>\n",
       "    <tr>\n",
       "      <th>0</th>\n",
       "      <td>GN20170722_SK_HLA_G0103_R2_02-7450-KINHESLKI-3-4</td>\n",
       "      <td>GN20170722_SK_HLA_G0103_R2_02</td>\n",
       "      <td>0.201566</td>\n",
       "      <td>0.002401</td>\n",
       "      <td>0.039482</td>\n",
       "      <td>_.KINHESLKI._</td>\n",
       "      <td>KINHESLKI</td>\n",
       "    </tr>\n",
       "    <tr>\n",
       "      <th>1</th>\n",
       "      <td>GN20170722_SK_HLA_G0103_R1_01-15631-QLLEKRNIL-2-9</td>\n",
       "      <td>GN20170722_SK_HLA_G0103_R1_01</td>\n",
       "      <td>0.160470</td>\n",
       "      <td>0.003021</td>\n",
       "      <td>0.058471</td>\n",
       "      <td>_.QLLEKRNIL._</td>\n",
       "      <td>QLLEKRNIL</td>\n",
       "    </tr>\n",
       "    <tr>\n",
       "      <th>2</th>\n",
       "      <td>GN20170722_SK_HLA_G0103_R1_01-5581-IRNDHIRL-3-4</td>\n",
       "      <td>GN20170722_SK_HLA_G0103_R1_01</td>\n",
       "      <td>0.142857</td>\n",
       "      <td>0.003813</td>\n",
       "      <td>0.069125</td>\n",
       "      <td>_.IRNDHIRL._</td>\n",
       "      <td>IRNDHIRL</td>\n",
       "    </tr>\n",
       "    <tr>\n",
       "      <th>3</th>\n",
       "      <td>GN20170722_SK_HLA_G0103_R1_01-6469-LKSRKALDL-3-5</td>\n",
       "      <td>GN20170722_SK_HLA_G0103_R1_01</td>\n",
       "      <td>0.136986</td>\n",
       "      <td>0.004198</td>\n",
       "      <td>0.073076</td>\n",
       "      <td>_.LKSRKALDL._</td>\n",
       "      <td>LKSRKALDL</td>\n",
       "    </tr>\n",
       "    <tr>\n",
       "      <th>4</th>\n",
       "      <td>GN20170722_SK_HLA_G0103_R1_01-21958-PPPPPPPPPP...</td>\n",
       "      <td>GN20170722_SK_HLA_G0103_R1_01</td>\n",
       "      <td>0.120352</td>\n",
       "      <td>0.004680</td>\n",
       "      <td>0.085481</td>\n",
       "      <td>_.PPPPPPPPPPPPPPPPPPPPQAEL._</td>\n",
       "      <td>PPPPPPPPPPPPPPPPPPPPQAEL</td>\n",
       "    </tr>\n",
       "    <tr>\n",
       "      <th>...</th>\n",
       "      <td>...</td>\n",
       "      <td>...</td>\n",
       "      <td>...</td>\n",
       "      <td>...</td>\n",
       "      <td>...</td>\n",
       "      <td>...</td>\n",
       "      <td>...</td>\n",
       "    </tr>\n",
       "    <tr>\n",
       "      <th>11684</th>\n",
       "      <td>GN20170722_SK_HLA_G0103_R2_01-46428-MKSKKKKKKL...</td>\n",
       "      <td>GN20170722_SK_HLA_G0103_R2_01</td>\n",
       "      <td>-3.435420</td>\n",
       "      <td>0.879004</td>\n",
       "      <td>1.000000</td>\n",
       "      <td>_.MKSKKKKKKL._</td>\n",
       "      <td>MKSKKKKKKL</td>\n",
       "    </tr>\n",
       "    <tr>\n",
       "      <th>11685</th>\n",
       "      <td>GN20170722_SK_HLA_G0103_R1_02-52044-LEDSGDEC[U...</td>\n",
       "      <td>GN20170722_SK_HLA_G0103_R1_02</td>\n",
       "      <td>-3.444230</td>\n",
       "      <td>0.879004</td>\n",
       "      <td>1.000000</td>\n",
       "      <td>_.LEDSGDEC[UNIMOD:4]DE._</td>\n",
       "      <td>LEDSGDEC[UNIMOD:4]DE</td>\n",
       "    </tr>\n",
       "    <tr>\n",
       "      <th>11686</th>\n",
       "      <td>GN20170722_SK_HLA_G0103_R2_01-46489-VVKKKKKKE-2-6</td>\n",
       "      <td>GN20170722_SK_HLA_G0103_R2_01</td>\n",
       "      <td>-3.524460</td>\n",
       "      <td>0.879004</td>\n",
       "      <td>1.000000</td>\n",
       "      <td>_.VVKKKKKKE._</td>\n",
       "      <td>VVKKKKKKE</td>\n",
       "    </tr>\n",
       "    <tr>\n",
       "      <th>11687</th>\n",
       "      <td>GN20170722_SK_HLA_G0103_R2_01-51792-ELIRIRRRIK...</td>\n",
       "      <td>GN20170722_SK_HLA_G0103_R2_01</td>\n",
       "      <td>-3.650680</td>\n",
       "      <td>0.879004</td>\n",
       "      <td>1.000000</td>\n",
       "      <td>_.ELIRIRRRIKVK._</td>\n",
       "      <td>ELIRIRRRIKVK</td>\n",
       "    </tr>\n",
       "    <tr>\n",
       "      <th>11688</th>\n",
       "      <td>GN20170722_SK_HLA_G0103_R1_02-51971-VTATAGTG-2-2</td>\n",
       "      <td>GN20170722_SK_HLA_G0103_R1_02</td>\n",
       "      <td>-3.923680</td>\n",
       "      <td>0.879080</td>\n",
       "      <td>1.000000</td>\n",
       "      <td>_.VTATAGTG._</td>\n",
       "      <td>VTATAGTG</td>\n",
       "    </tr>\n",
       "  </tbody>\n",
       "</table>\n",
       "<p>11689 rows × 7 columns</p>\n",
       "</div>"
      ],
      "text/plain": [
       "                                                   PSMId  \\\n",
       "0       GN20170722_SK_HLA_G0103_R2_02-7450-KINHESLKI-3-4   \n",
       "1      GN20170722_SK_HLA_G0103_R1_01-15631-QLLEKRNIL-2-9   \n",
       "2        GN20170722_SK_HLA_G0103_R1_01-5581-IRNDHIRL-3-4   \n",
       "3       GN20170722_SK_HLA_G0103_R1_01-6469-LKSRKALDL-3-5   \n",
       "4      GN20170722_SK_HLA_G0103_R1_01-21958-PPPPPPPPPP...   \n",
       "...                                                  ...   \n",
       "11684  GN20170722_SK_HLA_G0103_R2_01-46428-MKSKKKKKKL...   \n",
       "11685  GN20170722_SK_HLA_G0103_R1_02-52044-LEDSGDEC[U...   \n",
       "11686  GN20170722_SK_HLA_G0103_R2_01-46489-VVKKKKKKE-2-6   \n",
       "11687  GN20170722_SK_HLA_G0103_R2_01-51792-ELIRIRRRIK...   \n",
       "11688   GN20170722_SK_HLA_G0103_R1_02-51971-VTATAGTG-2-2   \n",
       "\n",
       "                            filename     score   q-value  \\\n",
       "0      GN20170722_SK_HLA_G0103_R2_02  0.201566  0.002401   \n",
       "1      GN20170722_SK_HLA_G0103_R1_01  0.160470  0.003021   \n",
       "2      GN20170722_SK_HLA_G0103_R1_01  0.142857  0.003813   \n",
       "3      GN20170722_SK_HLA_G0103_R1_01  0.136986  0.004198   \n",
       "4      GN20170722_SK_HLA_G0103_R1_01  0.120352  0.004680   \n",
       "...                              ...       ...       ...   \n",
       "11684  GN20170722_SK_HLA_G0103_R2_01 -3.435420  0.879004   \n",
       "11685  GN20170722_SK_HLA_G0103_R1_02 -3.444230  0.879004   \n",
       "11686  GN20170722_SK_HLA_G0103_R2_01 -3.524460  0.879004   \n",
       "11687  GN20170722_SK_HLA_G0103_R2_01 -3.650680  0.879004   \n",
       "11688  GN20170722_SK_HLA_G0103_R1_02 -3.923680  0.879080   \n",
       "\n",
       "       posterior_error_prob                       peptide  \\\n",
       "0                  0.039482                 _.KINHESLKI._   \n",
       "1                  0.058471                 _.QLLEKRNIL._   \n",
       "2                  0.069125                  _.IRNDHIRL._   \n",
       "3                  0.073076                 _.LKSRKALDL._   \n",
       "4                  0.085481  _.PPPPPPPPPPPPPPPPPPPPQAEL._   \n",
       "...                     ...                           ...   \n",
       "11684              1.000000                _.MKSKKKKKKL._   \n",
       "11685              1.000000      _.LEDSGDEC[UNIMOD:4]DE._   \n",
       "11686              1.000000                 _.VVKKKKKKE._   \n",
       "11687              1.000000              _.ELIRIRRRIKVK._   \n",
       "11688              1.000000                  _.VTATAGTG._   \n",
       "\n",
       "                     proteinIds  \n",
       "0                     KINHESLKI  \n",
       "1                     QLLEKRNIL  \n",
       "2                      IRNDHIRL  \n",
       "3                     LKSRKALDL  \n",
       "4      PPPPPPPPPPPPPPPPPPPPQAEL  \n",
       "...                         ...  \n",
       "11684                MKSKKKKKKL  \n",
       "11685      LEDSGDEC[UNIMOD:4]DE  \n",
       "11686                 VVKKKKKKE  \n",
       "11687              ELIRIRRRIKVK  \n",
       "11688                  VTATAGTG  \n",
       "\n",
       "[11689 rows x 7 columns]"
      ]
     },
     "metadata": {},
     "output_type": "display_data"
    }
   ],
   "source": [
    "# Plots path \n",
    "plots = '/home/karim/projects/oktoberfest/tutorials/out/plots'\n",
    "\n",
    "# Generate histogram of the score distribution for targets and decoys.\n",
    "from pathlib import Path\n",
    "perc_output_path = Path('/home/karim/projects/oktoberfest/tutorials/out/percolator')\n",
    "peptide_decoy_df = pd.read_csv(perc_output_path / 'rescore.percolator.decoy.peptides.txt', sep='\\t')\n",
    "\n",
    "peptide_target_df = pd.read_csv(perc_output_path / 'rescore.percolator.peptides.txt', sep='\\t')\n",
    "\n",
    "display(peptide_decoy_df)\n",
    "\n",
    "ok.pl.plot_score_distribution(peptide_target_df, peptide_decoy_df, level = 'peptide', filename=plots)"
   ]
  },
  {
   "cell_type": "code",
   "execution_count": 44,
   "metadata": {},
   "outputs": [],
   "source": [
    "ok.pl.plot_all(perc_output_path)"
   ]
  },
  {
   "cell_type": "code",
   "execution_count": null,
   "metadata": {},
   "outputs": [],
   "source": []
  }
 ],
 "metadata": {
  "kernelspec": {
   "display_name": "oktoberfest",
   "language": "python",
   "name": "python3"
  },
  "language_info": {
   "codemirror_mode": {
    "name": "ipython",
    "version": 3
   },
   "file_extension": ".py",
   "mimetype": "text/x-python",
   "name": "python",
   "nbconvert_exporter": "python",
   "pygments_lexer": "ipython3",
   "version": "3.10.0"
  }
 },
 "nbformat": 4,
 "nbformat_minor": 2
}
