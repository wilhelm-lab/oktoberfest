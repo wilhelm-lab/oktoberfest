{
 "cells": [
  {
   "cell_type": "markdown",
   "metadata": {},
   "source": [
    "# Oktoberfest Rescoring API Tutorial\n",
    "\n",
    "This notebook covers how to run Oktoberfest Rescoring by using API functions. All API functions as well as additional guides and examples can be found on the official read the docs page at https://oktoberfest.readthedocs.io/en/stable/index.html.\n",
    "\n",
    "The workflow is divided into six sections:\n",
    "\n",
    "1. Install Oktoberfest and load packages\n",
    "2. Download example data\n",
    "3. Preprocess search results and spectra files\n",
    "4. Annotate spectra and calibrate collision energy\n",
    "5. Predict intensities and indexed retention time\n",
    "6. Rescore with percolator\n",
    "7. Plot the results"
   ]
  },
  {
   "cell_type": "markdown",
   "metadata": {},
   "source": [
    "# 1. Installation\n",
    "\n",
    "Before using Oktoberfest, the package and dependencies need to be installed. This step is only required once on the notebook."
   ]
  },
  {
   "cell_type": "markdown",
   "metadata": {},
   "source": [
    "## 1.1 \n",
    "Install percolator."
   ]
  },
  {
   "cell_type": "code",
   "execution_count": null,
   "metadata": {},
   "outputs": [],
   "source": [
    "!wget https://github.com/percolator/percolator/releases/download/rel-3-06-01/percolator-v3-06-linux-amd64.deb\n",
    "!dpkg -i percolator-v3-06-linux-amd64.deb"
   ]
  },
  {
   "cell_type": "markdown",
   "metadata": {},
   "source": [
    "If the install fails due to missing superuser privilages, run this command instead. You will be prompted for your superuser password."
   ]
  },
  {
   "cell_type": "code",
   "execution_count": null,
   "metadata": {},
   "outputs": [],
   "source": [
    "import getpass\n",
    "password = str(getpass.getpass()) \n",
    "!echo '{password}' | sudo -S bash -c 'dpkg -i percolator-v3-06-linux-amd64.deb'"
   ]
  },
  {
   "cell_type": "markdown",
   "metadata": {},
   "source": [
    "## 1.2"
   ]
  },
  {
   "cell_type": "markdown",
   "metadata": {},
   "source": [
    "Install Oktoberfest."
   ]
  },
  {
   "cell_type": "code",
   "execution_count": 18,
   "metadata": {},
   "outputs": [
    {
     "name": "stdout",
     "output_type": "stream",
     "text": [
      "Note: you may need to restart the kernel to use updated packages.\n"
     ]
    }
   ],
   "source": [
    "%pip install -q oktoberfest"
   ]
  },
  {
   "cell_type": "markdown",
   "metadata": {},
   "source": [
    "Import the required packages and functions by executing the code in the cell."
   ]
  },
  {
   "cell_type": "code",
   "execution_count": 19,
   "metadata": {},
   "outputs": [
    {
     "name": "stderr",
     "output_type": "stream",
     "text": [
      "/cmnfs/home/a.berg/miniconda3/envs/api/lib/python3.10/site-packages/tqdm/auto.py:21: TqdmWarning: IProgress not found. Please update jupyter and ipywidgets. See https://ipywidgets.readthedocs.io/en/stable/user_install.html\n",
      "  from .autonotebook import tqdm as notebook_tqdm\n"
     ]
    }
   ],
   "source": [
    "import oktoberfest as ok\n",
    "from oktoberfest import __version__ as version\n",
    "import os\n",
    "import pandas as pd\n",
    "from pathlib import Path\n",
    "import urllib.request\n",
    "import requests\n",
    "import shutil\n",
    "from tqdm.auto import tqdm"
   ]
  },
  {
   "cell_type": "markdown",
   "metadata": {},
   "source": [
    "If this works, you have installed Oktoberfest correctly. You check the version of your installed oktoberfest instance by executing the following. (This notebook was tested with Oktoberfest version 0.7.0)"
   ]
  },
  {
   "cell_type": "code",
   "execution_count": 20,
   "metadata": {},
   "outputs": [
    {
     "data": {
      "text/plain": [
       "'0.7.0'"
      ]
     },
     "execution_count": 20,
     "metadata": {},
     "output_type": "execute_result"
    }
   ],
   "source": [
    "version"
   ]
  },
  {
   "cell_type": "markdown",
   "metadata": {},
   "source": [
    "# 2. Download example data"
   ]
  },
  {
   "cell_type": "markdown",
   "metadata": {},
   "source": [
    "The data used in this notebook as an example is provided as a zip archive that can be downloaded from zenodo from this record https://zenodo.org/records/10814834. In case you want to use your own data, skip ahead to Step 3."
   ]
  },
  {
   "cell_type": "markdown",
   "metadata": {},
   "source": [
    "Specify the download link as well as file name and download destination."
   ]
  },
  {
   "cell_type": "code",
   "execution_count": 21,
   "metadata": {},
   "outputs": [],
   "source": [
    "url = \"https://zenodo.org/records/10814834/files/tomato_dataset_example.zip\"  # download link\n",
    "download_dir = Path(\"./data\")                                                 # choose any directory\n",
    "file_name = Path(\"tomato_dataset_example.zip\")                                # choose any filename"
   ]
  },
  {
   "cell_type": "markdown",
   "metadata": {},
   "source": [
    "Download and unpack the data. (2.74G, approx. 5 minutes)."
   ]
  },
  {
   "cell_type": "code",
   "execution_count": 22,
   "metadata": {},
   "outputs": [
    {
     "name": "stderr",
     "output_type": "stream",
     "text": [
      "tomato_dataset_example.zip: 191MB [00:02, 91.7MB/s]                              \n"
     ]
    }
   ],
   "source": [
    "if not os.path.isdir(download_dir):\n",
    "  os.mkdir(download_dir)\n",
    "download_file = os.path.join(download_dir, file_name)\n",
    "filesize = int(requests.head(url).headers.get('content-length', -1))\n",
    "with tqdm(unit=\"B\", total=filesize, unit_scale=True, unit_divisor=1000, miniters=1, desc=url.split(\"/\")[-1]) as t:\n",
    "    urllib.request.urlretrieve(url=url, filename=download_file, reporthook=lambda blocks, block_size, _: t.update(blocks * block_size - t.n))\n",
    "shutil.unpack_archive(download_file, download_dir)"
   ]
  },
  {
   "cell_type": "markdown",
   "metadata": {},
   "source": [
    "# 3. Pre-Processing"
   ]
  },
  {
   "cell_type": "markdown",
   "metadata": {},
   "source": [
    "## 3.1 Spectral preprocessing"
   ]
  },
  {
   "cell_type": "markdown",
   "metadata": {},
   "source": [
    "### A) Converting raw files\n",
    "If your spectra data is saved in form of .raw files, you need to convert them to .mzml files in order to perform rescoring. In the case that they are already in the mzml data format you can skip to step B). Since Oktoberfest uses the ThermoRawFileParser to convert the files, you need to make sure that you have installed 'mono' and give Oktoberfest the path to the executable."
   ]
  },
  {
   "cell_type": "markdown",
   "metadata": {},
   "source": [
    "Install mono if needed. Installation may differ by Linux distribution, refer to https://www.mono-project.com/download/stable/#download-lin."
   ]
  },
  {
   "cell_type": "code",
   "execution_count": null,
   "metadata": {},
   "outputs": [],
   "source": [
    "password = getpass.getpass()\n",
    "!echo '{password}' | sudo -S bash -c 'apt install mono-complete -y'"
   ]
  },
  {
   "cell_type": "code",
   "execution_count": null,
   "metadata": {},
   "outputs": [],
   "source": [
    "# path to the ThermoRawFileParser executable\n",
    "therm = Path(\"/opt/compomics/ThermoRawFileParser.exe\")"
   ]
  },
  {
   "cell_type": "markdown",
   "metadata": {},
   "source": [
    "Get a list of all raw files located in the specified input directory."
   ]
  },
  {
   "cell_type": "code",
   "execution_count": null,
   "metadata": {},
   "outputs": [],
   "source": [
    "list_of_spectra = ok.pp.list_spectra(download_dir / file_name.stem,'raw')\n",
    "print(list_of_spectra)"
   ]
  },
  {
   "cell_type": "markdown",
   "metadata": {},
   "source": [
    "Convert the raw files to mzml files."
   ]
  },
  {
   "cell_type": "code",
   "execution_count": null,
   "metadata": {},
   "outputs": [],
   "source": [
    "# Define output directory where individual mzML files will be stored\n",
    "mzml_directory = download_dir / \"mzml/\"\n",
    "\n",
    "# Create the directory if it doesn't exist\n",
    "if not os.path.exists(mzml_directory):\n",
    "    os.makedirs(mzml_directory)\n",
    "\n",
    "# Initialize an empty list to store the paths of the converted mzML files\n",
    "conversion_results = []\n",
    "\n",
    "# Loop through the list of spectra files and convert each one\n",
    "for file in list_of_spectra:\n",
    "    # Generate corresponding mzML file name for each raw file\n",
    "    base_filename = os.path.splitext(os.path.basename(file))[0]  # Remove file extension\n",
    "    output_mzml_file = os.path.join(mzml_directory, f\"{base_filename}.mzML\")\n",
    "    \n",
    "    # Call the convert_spectra function with the current file and the output file path\n",
    "    ok.pp.convert_raw_to_mzml(file, output_file=output_mzml_file, thermo_exe=therm)\n",
    "    \n",
    "    # Append the path of the converted mzML file to the conversion_results list\n",
    "    conversion_results.append(output_mzml_file)"
   ]
  },
  {
   "cell_type": "markdown",
   "metadata": {},
   "source": [
    "### B) Loading Spectra\n",
    "Specify the mzml path and list all mzml files in directory. In case you are using your own data, you need to change the mzml_dir variable to the path of your own mzml directory."
   ]
  },
  {
   "cell_type": "code",
   "execution_count": 23,
   "metadata": {},
   "outputs": [
    {
     "name": "stdout",
     "output_type": "stream",
     "text": [
      "2024-09-06 15:19:36,456 - INFO - oktoberfest.preprocessing.preprocessing::list_spectra Found 1 mzml file in the spectra input directory.\n",
      "[PosixPath('data/tomato_dataset_example/5407_GC4_063119_S00_U4_R1.mzML')]\n"
     ]
    }
   ],
   "source": [
    "mzml_directory = download_dir / \"tomato_dataset_example\" # change if needed\n",
    "mzml_list = ok.pp.list_spectra(mzml_directory,'mzml')\n",
    "print(mzml_list)"
   ]
  },
  {
   "cell_type": "markdown",
   "metadata": {},
   "source": [
    "If you have multiple spectra files, load them all separately and save them to a list."
   ]
  },
  {
   "cell_type": "code",
   "execution_count": 24,
   "metadata": {},
   "outputs": [
    {
     "name": "stdout",
     "output_type": "stream",
     "text": [
      "2024-09-06 15:19:36,579 - INFO - spectrum_io.raw.msraw::_read_mzml_pyteomics Reading mzML file: data/tomato_dataset_example/5407_GC4_063119_S00_U4_R1.mzML\n",
      "[                                                  RAW_FILE  SCAN_NUMBER  \\\n",
      "5407_GC4_063119_S00_U4_R1_3      5407_GC4_063119_S00_U4_R1            3   \n",
      "5407_GC4_063119_S00_U4_R1_24     5407_GC4_063119_S00_U4_R1           24   \n",
      "5407_GC4_063119_S00_U4_R1_26     5407_GC4_063119_S00_U4_R1           26   \n",
      "5407_GC4_063119_S00_U4_R1_27     5407_GC4_063119_S00_U4_R1           27   \n",
      "5407_GC4_063119_S00_U4_R1_28     5407_GC4_063119_S00_U4_R1           28   \n",
      "...                                                    ...          ...   \n",
      "5407_GC4_063119_S00_U4_R1_76832  5407_GC4_063119_S00_U4_R1        76832   \n",
      "5407_GC4_063119_S00_U4_R1_76833  5407_GC4_063119_S00_U4_R1        76833   \n",
      "5407_GC4_063119_S00_U4_R1_76834  5407_GC4_063119_S00_U4_R1        76834   \n",
      "5407_GC4_063119_S00_U4_R1_76835  5407_GC4_063119_S00_U4_R1        76835   \n",
      "5407_GC4_063119_S00_U4_R1_76836  5407_GC4_063119_S00_U4_R1        76836   \n",
      "\n",
      "                                                                       INTENSITIES  \\\n",
      "5407_GC4_063119_S00_U4_R1_3      [5273.9033203125, 5655.81640625, 6876.453125, ...   \n",
      "5407_GC4_063119_S00_U4_R1_24     [5534.6416015625, 5367.7216796875, 4912.280273...   \n",
      "5407_GC4_063119_S00_U4_R1_26     [6806.1171875, 6784.01904296875, 6926.38037109...   \n",
      "5407_GC4_063119_S00_U4_R1_27     [5471.10888671875, 8091.5556640625, 8263.40136...   \n",
      "5407_GC4_063119_S00_U4_R1_28     [5415.35986328125, 5688.5732421875, 6405.89599...   \n",
      "...                                                                            ...   \n",
      "5407_GC4_063119_S00_U4_R1_76832  [6505.61083984375, 5076.7744140625, 5585.87304...   \n",
      "5407_GC4_063119_S00_U4_R1_76833  [6344.43017578125, 5776.47216796875, 6854.1972...   \n",
      "5407_GC4_063119_S00_U4_R1_76834  [9125.037109375, 4987.8525390625, 8424.9990234...   \n",
      "5407_GC4_063119_S00_U4_R1_76835  [6681.17236328125, 6974.52978515625, 9550.2275...   \n",
      "5407_GC4_063119_S00_U4_R1_76836  [5394.44873046875, 6490.53955078125, 7454.6176...   \n",
      "\n",
      "                                                                                MZ  \\\n",
      "5407_GC4_063119_S00_U4_R1_3      [104.91542053222656, 107.431884765625, 132.052...   \n",
      "5407_GC4_063119_S00_U4_R1_24     [102.29611206054688, 107.55339813232422, 110.1...   \n",
      "5407_GC4_063119_S00_U4_R1_26     [107.6615219116211, 110.07098388671875, 122.72...   \n",
      "5407_GC4_063119_S00_U4_R1_27     [104.47915649414062, 148.6957550048828, 176.99...   \n",
      "5407_GC4_063119_S00_U4_R1_28     [101.23018646240234, 115.2862319946289, 116.25...   \n",
      "...                                                                            ...   \n",
      "5407_GC4_063119_S00_U4_R1_76832  [102.05438232421875, 103.13880157470703, 106.5...   \n",
      "5407_GC4_063119_S00_U4_R1_76833  [110.07087707519531, 111.96112060546875, 114.5...   \n",
      "5407_GC4_063119_S00_U4_R1_76834  [102.0545883178711, 103.35358428955078, 104.10...   \n",
      "5407_GC4_063119_S00_U4_R1_76835  [112.6787338256836, 134.73329162597656, 175.11...   \n",
      "5407_GC4_063119_S00_U4_R1_76836  [100.6014404296875, 101.0714340209961, 102.054...   \n",
      "\n",
      "                                     MZ_RANGE  RETENTION_TIME MASS_ANALYZER  \\\n",
      "5407_GC4_063119_S00_U4_R1_3      100.0-1123.0        0.008898          FTMS   \n",
      "5407_GC4_063119_S00_U4_R1_24     100.0-1334.0        0.143206          FTMS   \n",
      "5407_GC4_063119_S00_U4_R1_26     100.0-1228.0        0.149944          FTMS   \n",
      "5407_GC4_063119_S00_U4_R1_27     100.0-2000.0        0.154293          FTMS   \n",
      "5407_GC4_063119_S00_U4_R1_28      100.0-766.0        0.155201          FTMS   \n",
      "...                                       ...             ...           ...   \n",
      "5407_GC4_063119_S00_U4_R1_76832  100.0-1906.0       62.006008          FTMS   \n",
      "5407_GC4_063119_S00_U4_R1_76833  100.0-2000.0       62.006685          FTMS   \n",
      "5407_GC4_063119_S00_U4_R1_76834  100.0-1801.0       62.007367          FTMS   \n",
      "5407_GC4_063119_S00_U4_R1_76835  100.0-2000.0       62.008035          FTMS   \n",
      "5407_GC4_063119_S00_U4_R1_76836  100.0-1961.0       62.008719          FTMS   \n",
      "\n",
      "                                FRAGMENTATION  COLLISION_ENERGY  \\\n",
      "5407_GC4_063119_S00_U4_R1_3               HCD              28.0   \n",
      "5407_GC4_063119_S00_U4_R1_24              HCD              28.0   \n",
      "5407_GC4_063119_S00_U4_R1_26              HCD              28.0   \n",
      "5407_GC4_063119_S00_U4_R1_27              HCD              28.0   \n",
      "5407_GC4_063119_S00_U4_R1_28              HCD              28.0   \n",
      "...                                       ...               ...   \n",
      "5407_GC4_063119_S00_U4_R1_76832           HCD              28.0   \n",
      "5407_GC4_063119_S00_U4_R1_76833           HCD              28.0   \n",
      "5407_GC4_063119_S00_U4_R1_76834           HCD              28.0   \n",
      "5407_GC4_063119_S00_U4_R1_76835           HCD              28.0   \n",
      "5407_GC4_063119_S00_U4_R1_76836           HCD              28.0   \n",
      "\n",
      "                                 INSTRUMENT_TYPES  \n",
      "5407_GC4_063119_S00_U4_R1_3      Orbitrap Eclipse  \n",
      "5407_GC4_063119_S00_U4_R1_24     Orbitrap Eclipse  \n",
      "5407_GC4_063119_S00_U4_R1_26     Orbitrap Eclipse  \n",
      "5407_GC4_063119_S00_U4_R1_27     Orbitrap Eclipse  \n",
      "5407_GC4_063119_S00_U4_R1_28     Orbitrap Eclipse  \n",
      "...                                           ...  \n",
      "5407_GC4_063119_S00_U4_R1_76832  Orbitrap Eclipse  \n",
      "5407_GC4_063119_S00_U4_R1_76833  Orbitrap Eclipse  \n",
      "5407_GC4_063119_S00_U4_R1_76834  Orbitrap Eclipse  \n",
      "5407_GC4_063119_S00_U4_R1_76835  Orbitrap Eclipse  \n",
      "5407_GC4_063119_S00_U4_R1_76836  Orbitrap Eclipse  \n",
      "\n",
      "[74109 rows x 10 columns]]\n"
     ]
    }
   ],
   "source": [
    "spectra_list = []\n",
    "for spectra_file in mzml_list:\n",
    "    spectra = ok.pp.load_spectra(filenames=spectra_file, parser=\"pyteomics\")\n",
    "    spectra_list.append(spectra)\n",
    "print(spectra_list)"
   ]
  },
  {
   "cell_type": "markdown",
   "metadata": {},
   "source": [
    "## 3.2 Loading search results"
   ]
  },
  {
   "cell_type": "markdown",
   "metadata": {},
   "source": [
    "Converting search results to internal Oktoberfest format. If you are using custom search results, this step isn't necessairy as they should already be provided in the internal data format. Please refer to https://oktoberfest.readthedocs.io/en/stable/internal_format.html for the specific format."
   ]
  },
  {
   "cell_type": "code",
   "execution_count": 25,
   "metadata": {},
   "outputs": [
    {
     "name": "stdout",
     "output_type": "stream",
     "text": [
      "2024-09-06 15:21:03,202 - INFO - spectrum_io.search_result.search_results::generate_internal Found search results in internal format at out/msms/msms.prosit, skipping conversion\n"
     ]
    },
    {
     "data": {
      "text/html": [
       "<div>\n",
       "<style scoped>\n",
       "    .dataframe tbody tr th:only-of-type {\n",
       "        vertical-align: middle;\n",
       "    }\n",
       "\n",
       "    .dataframe tbody tr th {\n",
       "        vertical-align: top;\n",
       "    }\n",
       "\n",
       "    .dataframe thead th {\n",
       "        text-align: right;\n",
       "    }\n",
       "</style>\n",
       "<table border=\"1\" class=\"dataframe\">\n",
       "  <thead>\n",
       "    <tr style=\"text-align: right;\">\n",
       "      <th></th>\n",
       "      <th>RAW_FILE</th>\n",
       "      <th>SCAN_NUMBER</th>\n",
       "      <th>MODIFIED_SEQUENCE</th>\n",
       "      <th>PROTEINS</th>\n",
       "      <th>PRECURSOR_CHARGE</th>\n",
       "      <th>SCAN_EVENT_NUMBER</th>\n",
       "      <th>MASS</th>\n",
       "      <th>SCORE</th>\n",
       "      <th>REVERSE</th>\n",
       "      <th>SEQUENCE</th>\n",
       "      <th>PEPTIDE_LENGTH</th>\n",
       "    </tr>\n",
       "  </thead>\n",
       "  <tbody>\n",
       "    <tr>\n",
       "      <th>0</th>\n",
       "      <td>5407_GC4_063119_S00_U4_R1</td>\n",
       "      <td>73228</td>\n",
       "      <td>AAAAAGLTVAEVTGSNTVSVAEDELMR</td>\n",
       "      <td>Q5NE18</td>\n",
       "      <td>3</td>\n",
       "      <td>10</td>\n",
       "      <td>2632.30140</td>\n",
       "      <td>214.9200</td>\n",
       "      <td>False</td>\n",
       "      <td>AAAAAGLTVAEVTGSNTVSVAEDELMR</td>\n",
       "      <td>27</td>\n",
       "    </tr>\n",
       "    <tr>\n",
       "      <th>1</th>\n",
       "      <td>5407_GC4_063119_S00_U4_R1</td>\n",
       "      <td>41907</td>\n",
       "      <td>AAAAARMNQQK</td>\n",
       "      <td>A0A3Q7H1D4</td>\n",
       "      <td>2</td>\n",
       "      <td>16</td>\n",
       "      <td>1158.59280</td>\n",
       "      <td>9.3831</td>\n",
       "      <td>False</td>\n",
       "      <td>AAAAARMNQQK</td>\n",
       "      <td>11</td>\n",
       "    </tr>\n",
       "    <tr>\n",
       "      <th>2</th>\n",
       "      <td>5407_GC4_063119_S00_U4_R1</td>\n",
       "      <td>17706</td>\n",
       "      <td>AAAAFQLEK</td>\n",
       "      <td>A0A3Q7J3B4</td>\n",
       "      <td>2</td>\n",
       "      <td>29</td>\n",
       "      <td>947.50763</td>\n",
       "      <td>27.2540</td>\n",
       "      <td>False</td>\n",
       "      <td>AAAAFQLEK</td>\n",
       "      <td>9</td>\n",
       "    </tr>\n",
       "    <tr>\n",
       "      <th>3</th>\n",
       "      <td>5407_GC4_063119_S00_U4_R1</td>\n",
       "      <td>12788</td>\n",
       "      <td>AAAASLLGK</td>\n",
       "      <td>A0A3Q7HMH3</td>\n",
       "      <td>2</td>\n",
       "      <td>9</td>\n",
       "      <td>800.47560</td>\n",
       "      <td>30.5930</td>\n",
       "      <td>False</td>\n",
       "      <td>AAAASLLGK</td>\n",
       "      <td>9</td>\n",
       "    </tr>\n",
       "    <tr>\n",
       "      <th>4</th>\n",
       "      <td>5407_GC4_063119_S00_U4_R1</td>\n",
       "      <td>32215</td>\n",
       "      <td>AAAASMVAEDFARR</td>\n",
       "      <td>A0A3Q7EIM9</td>\n",
       "      <td>2</td>\n",
       "      <td>17</td>\n",
       "      <td>1464.71430</td>\n",
       "      <td>17.0260</td>\n",
       "      <td>False</td>\n",
       "      <td>AAAASMVAEDFARR</td>\n",
       "      <td>14</td>\n",
       "    </tr>\n",
       "    <tr>\n",
       "      <th>...</th>\n",
       "      <td>...</td>\n",
       "      <td>...</td>\n",
       "      <td>...</td>\n",
       "      <td>...</td>\n",
       "      <td>...</td>\n",
       "      <td>...</td>\n",
       "      <td>...</td>\n",
       "      <td>...</td>\n",
       "      <td>...</td>\n",
       "      <td>...</td>\n",
       "      <td>...</td>\n",
       "    </tr>\n",
       "    <tr>\n",
       "      <th>74698</th>\n",
       "      <td>5407_GC4_063119_S00_U4_R1</td>\n",
       "      <td>18859</td>\n",
       "      <td>YYYEPVTGSK</td>\n",
       "      <td>K4DA31</td>\n",
       "      <td>2</td>\n",
       "      <td>12</td>\n",
       "      <td>1205.56050</td>\n",
       "      <td>80.6880</td>\n",
       "      <td>False</td>\n",
       "      <td>YYYEPVTGSK</td>\n",
       "      <td>10</td>\n",
       "    </tr>\n",
       "    <tr>\n",
       "      <th>74699</th>\n",
       "      <td>5407_GC4_063119_S00_U4_R1</td>\n",
       "      <td>55236</td>\n",
       "      <td>YYYKFPSPTK</td>\n",
       "      <td>A0A3Q7EMA7</td>\n",
       "      <td>2</td>\n",
       "      <td>10</td>\n",
       "      <td>1292.64410</td>\n",
       "      <td>11.8480</td>\n",
       "      <td>False</td>\n",
       "      <td>YYYKFPSPTK</td>\n",
       "      <td>10</td>\n",
       "    </tr>\n",
       "    <tr>\n",
       "      <th>74700</th>\n",
       "      <td>5407_GC4_063119_S00_U4_R1</td>\n",
       "      <td>73593</td>\n",
       "      <td>YYYKSPTPSKYYYK</td>\n",
       "      <td>A0A3Q7F714</td>\n",
       "      <td>2</td>\n",
       "      <td>4</td>\n",
       "      <td>1849.89270</td>\n",
       "      <td>11.8660</td>\n",
       "      <td>False</td>\n",
       "      <td>YYYKSPTPSKYYYK</td>\n",
       "      <td>14</td>\n",
       "    </tr>\n",
       "    <tr>\n",
       "      <th>74701</th>\n",
       "      <td>5407_GC4_063119_S00_U4_R1</td>\n",
       "      <td>73963</td>\n",
       "      <td>YYYNSQTNVSQWEHPSK</td>\n",
       "      <td>A0A3Q7IPQ3</td>\n",
       "      <td>2</td>\n",
       "      <td>6</td>\n",
       "      <td>2129.94430</td>\n",
       "      <td>5.4839</td>\n",
       "      <td>False</td>\n",
       "      <td>YYYNSQTNVSQWEHPSK</td>\n",
       "      <td>17</td>\n",
       "    </tr>\n",
       "    <tr>\n",
       "      <th>74702</th>\n",
       "      <td>5407_GC4_063119_S00_U4_R1</td>\n",
       "      <td>14999</td>\n",
       "      <td>YYYQVGSDSR</td>\n",
       "      <td>A0A3Q7FWW1</td>\n",
       "      <td>2</td>\n",
       "      <td>3</td>\n",
       "      <td>1236.54110</td>\n",
       "      <td>122.2800</td>\n",
       "      <td>False</td>\n",
       "      <td>YYYQVGSDSR</td>\n",
       "      <td>10</td>\n",
       "    </tr>\n",
       "  </tbody>\n",
       "</table>\n",
       "<p>74703 rows × 11 columns</p>\n",
       "</div>"
      ],
      "text/plain": [
       "                        RAW_FILE  SCAN_NUMBER            MODIFIED_SEQUENCE  \\\n",
       "0      5407_GC4_063119_S00_U4_R1        73228  AAAAAGLTVAEVTGSNTVSVAEDELMR   \n",
       "1      5407_GC4_063119_S00_U4_R1        41907                  AAAAARMNQQK   \n",
       "2      5407_GC4_063119_S00_U4_R1        17706                    AAAAFQLEK   \n",
       "3      5407_GC4_063119_S00_U4_R1        12788                    AAAASLLGK   \n",
       "4      5407_GC4_063119_S00_U4_R1        32215               AAAASMVAEDFARR   \n",
       "...                          ...          ...                          ...   \n",
       "74698  5407_GC4_063119_S00_U4_R1        18859                   YYYEPVTGSK   \n",
       "74699  5407_GC4_063119_S00_U4_R1        55236                   YYYKFPSPTK   \n",
       "74700  5407_GC4_063119_S00_U4_R1        73593               YYYKSPTPSKYYYK   \n",
       "74701  5407_GC4_063119_S00_U4_R1        73963            YYYNSQTNVSQWEHPSK   \n",
       "74702  5407_GC4_063119_S00_U4_R1        14999                   YYYQVGSDSR   \n",
       "\n",
       "         PROTEINS  PRECURSOR_CHARGE  SCAN_EVENT_NUMBER        MASS     SCORE  \\\n",
       "0          Q5NE18                 3                 10  2632.30140  214.9200   \n",
       "1      A0A3Q7H1D4                 2                 16  1158.59280    9.3831   \n",
       "2      A0A3Q7J3B4                 2                 29   947.50763   27.2540   \n",
       "3      A0A3Q7HMH3                 2                  9   800.47560   30.5930   \n",
       "4      A0A3Q7EIM9                 2                 17  1464.71430   17.0260   \n",
       "...           ...               ...                ...         ...       ...   \n",
       "74698      K4DA31                 2                 12  1205.56050   80.6880   \n",
       "74699  A0A3Q7EMA7                 2                 10  1292.64410   11.8480   \n",
       "74700  A0A3Q7F714                 2                  4  1849.89270   11.8660   \n",
       "74701  A0A3Q7IPQ3                 2                  6  2129.94430    5.4839   \n",
       "74702  A0A3Q7FWW1                 2                  3  1236.54110  122.2800   \n",
       "\n",
       "       REVERSE                     SEQUENCE  PEPTIDE_LENGTH  \n",
       "0        False  AAAAAGLTVAEVTGSNTVSVAEDELMR              27  \n",
       "1        False                  AAAAARMNQQK              11  \n",
       "2        False                    AAAAFQLEK               9  \n",
       "3        False                    AAAASLLGK               9  \n",
       "4        False               AAAASMVAEDFARR              14  \n",
       "...        ...                          ...             ...  \n",
       "74698    False                   YYYEPVTGSK              10  \n",
       "74699    False                   YYYKFPSPTK              10  \n",
       "74700    False               YYYKSPTPSKYYYK              14  \n",
       "74701    False            YYYNSQTNVSQWEHPSK              17  \n",
       "74702    False                   YYYQVGSDSR              10  \n",
       "\n",
       "[74703 rows x 11 columns]"
      ]
     },
     "execution_count": 25,
     "metadata": {},
     "output_type": "execute_result"
    }
   ],
   "source": [
    "# Define output directory for the converted search results\n",
    "search_path = Path('./out/msms/msms.prosit')\n",
    "\n",
    "# Create the directoriy if it doesn't exist\n",
    "if not os.path.exists(search_path.parent):\n",
    "    os.makedirs(search_path.parent)\n",
    "\n",
    "# conveerting maxquant msms.txt to internal format\n",
    "ok.pp.convert_search(input_path= download_dir / \"tomato_dataset_example/msms.txt\", output_file=search_path, search_engine='maxquant')"
   ]
  },
  {
   "cell_type": "markdown",
   "metadata": {},
   "source": [
    "Loading search results to a Pandas dataframe."
   ]
  },
  {
   "cell_type": "code",
   "execution_count": 26,
   "metadata": {},
   "outputs": [
    {
     "name": "stdout",
     "output_type": "stream",
     "text": [
      "<class 'pandas.core.frame.DataFrame'>\n",
      "RangeIndex: 74703 entries, 0 to 74702\n",
      "Data columns (total 11 columns):\n",
      " #   Column             Non-Null Count  Dtype  \n",
      "---  ------             --------------  -----  \n",
      " 0   RAW_FILE           74703 non-null  object \n",
      " 1   SCAN_NUMBER        74703 non-null  int64  \n",
      " 2   MODIFIED_SEQUENCE  74703 non-null  object \n",
      " 3   PROTEINS           74703 non-null  object \n",
      " 4   PRECURSOR_CHARGE   74703 non-null  int64  \n",
      " 5   SCAN_EVENT_NUMBER  74703 non-null  int64  \n",
      " 6   MASS               74703 non-null  float64\n",
      " 7   SCORE              74703 non-null  float64\n",
      " 8   REVERSE            74703 non-null  bool   \n",
      " 9   SEQUENCE           74703 non-null  object \n",
      " 10  PEPTIDE_LENGTH     74703 non-null  int64  \n",
      "dtypes: bool(1), float64(2), int64(4), object(4)\n",
      "memory usage: 5.8+ MB\n"
     ]
    }
   ],
   "source": [
    "peptide_df = ok.pp.load_search(search_path)\n",
    "peptide_df.info()"
   ]
  },
  {
   "cell_type": "markdown",
   "metadata": {},
   "source": [
    "Filtering search results using given peptide length and charge requirements posed by the selected model."
   ]
  },
  {
   "cell_type": "code",
   "execution_count": 27,
   "metadata": {},
   "outputs": [],
   "source": [
    "filtered_peptides = ok.pp.filter_peptides_for_model(peptides=peptide_df, model='prosit')"
   ]
  },
  {
   "cell_type": "markdown",
   "metadata": {},
   "source": [
    "# 4. Annotate spectra and calibrate collision energy"
   ]
  },
  {
   "cell_type": "markdown",
   "metadata": {},
   "source": [
    "Annotation and collision energy calibration is done seperately for each raw file so you need to loop over all spectra files in the spectra_list. \n",
    "The spectra files need to be merged on \"Raw_file\" and \"Scan number\" with the peptides taken from the search results before annotation."
   ]
  },
  {
   "cell_type": "code",
   "execution_count": 28,
   "metadata": {},
   "outputs": [
    {
     "name": "stdout",
     "output_type": "stream",
     "text": [
      "2024-09-06 15:21:03,832 - INFO - oktoberfest.preprocessing.preprocessing::merge_spectra_and_peptides Merging rawfile and search result\n"
     ]
    }
   ],
   "source": [
    "psm_list = []\n",
    "for spectra in spectra_list:\n",
    "    psms = ok.pp.merge_spectra_and_peptides(spectra=spectra, search=filtered_peptides)\n",
    "    psm_list.append(psms)"
   ]
  },
  {
   "cell_type": "markdown",
   "metadata": {},
   "source": [
    "Annotate the peaks for all psms in each psm_file (by efault b- and y-ions). It is important to check the mass_tolerance of the data used in order to correctly set the mass_tol and unit_mass_toll parameters. More information can be found in the docs https://oktoberfest.readthedocs.io/en/stable/config.html."
   ]
  },
  {
   "cell_type": "code",
   "execution_count": 29,
   "metadata": {},
   "outputs": [
    {
     "name": "stdout",
     "output_type": "stream",
     "text": [
      "2024-09-06 15:21:03,946 - INFO - oktoberfest.preprocessing.preprocessing::annotate_spectral_library Annotating spectra...\n"
     ]
    },
    {
     "name": "stderr",
     "output_type": "stream",
     "text": [
      "/cmnfs/home/a.berg/miniconda3/envs/api/lib/python3.10/site-packages/anndata/_core/aligned_df.py:67: ImplicitModificationWarning: Transforming to str index.\n",
      "  warnings.warn(\"Transforming to str index.\", ImplicitModificationWarning)\n"
     ]
    },
    {
     "name": "stdout",
     "output_type": "stream",
     "text": [
      "2024-09-06 15:25:37,804 - INFO - oktoberfest.preprocessing.preprocessing::annotate_spectral_library Finished annotating.\n"
     ]
    }
   ],
   "source": [
    "library_list = []\n",
    "for psms in psm_list:\n",
    "    library = ok.pp.annotate_spectral_library(psms=psms, mass_tol=20, unit_mass_tol='ppm')\n",
    "    library_list.append(library)"
   ]
  },
  {
   "cell_type": "markdown",
   "metadata": {},
   "source": [
    "Perform ce_calibration on each annotated library with the intended model and ce range."
   ]
  },
  {
   "cell_type": "code",
   "execution_count": 30,
   "metadata": {},
   "outputs": [
    {
     "name": "stderr",
     "output_type": "stream",
     "text": [
      "Getting predictions: 100%|██████████| 31/31 [00:07<00:00,  3.95it/s]\n"
     ]
    }
   ],
   "source": [
    "alignment_list = []\n",
    "for library in library_list:\n",
    "    alignment_library = ok.pr.ce_calibration(library, ce_range=(19,50),group_by_charge=False,model_name=\"Prosit_2020_intensity_HCD\",  \n",
    "                  server_url=\"koina.wilhelmlab.org:443\")"
   ]
  },
  {
   "cell_type": "markdown",
   "metadata": {},
   "source": [
    "Determine and assign the best collision energy."
   ]
  },
  {
   "cell_type": "code",
   "execution_count": 31,
   "metadata": {},
   "outputs": [],
   "source": [
    "for library in library_list:\n",
    "    ce_alignment = alignment_library.obs.groupby(by=[\"COLLISION_ENERGY\"])[\"SPECTRAL_ANGLE\"].mean()\n",
    "    best_ce = ce_alignment.idxmax()\n",
    "    library.obs['COLLISION_ENERGY'] = best_ce"
   ]
  },
  {
   "cell_type": "markdown",
   "metadata": {},
   "source": [
    "# 5. Predict intensities and indexed retention time"
   ]
  },
  {
   "cell_type": "code",
   "execution_count": 32,
   "metadata": {},
   "outputs": [
    {
     "name": "stderr",
     "output_type": "stream",
     "text": [
      "Getting predictions: 100%|██████████| 75/75 [00:00<00:00, 149.45it/s]\n",
      "Getting predictions: 100%|██████████| 75/75 [00:16<00:00,  4.45it/s]\n"
     ]
    }
   ],
   "source": [
    "for library in library_list:\n",
    "    ok.pr.predict_rt(data = library, server_url=\"koina.wilhelmlab.org:443\", model_name=\"Prosit_2019_irt\", ssl=True)\n",
    "    ok.pr.predict_intensities(data=library, server_url=\"koina.wilhelmlab.org:443\", model_name=\"Prosit_2020_intensity_HCD\", ssl=True)"
   ]
  },
  {
   "cell_type": "markdown",
   "metadata": {},
   "source": [
    "# 6. Rescore with percolator"
   ]
  },
  {
   "cell_type": "markdown",
   "metadata": {},
   "source": [
    "Create output dictionary for percolator results."
   ]
  },
  {
   "cell_type": "code",
   "execution_count": 33,
   "metadata": {},
   "outputs": [],
   "source": [
    "percolator_dir = Path('./out/percolator')\n",
    "\n",
    "if not os.path.exists(percolator_dir):\n",
    "    os.makedirs(percolator_dir)"
   ]
  },
  {
   "cell_type": "markdown",
   "metadata": {},
   "source": [
    "Create two feature files for each spectra files that will serve as input for percolator. The original file containing only original features from the search results as well as the rescore file containing additional features calculated by Oktoberfest."
   ]
  },
  {
   "cell_type": "code",
   "execution_count": 34,
   "metadata": {},
   "outputs": [
    {
     "name": "stderr",
     "output_type": "stream",
     "text": [
      "/cmnfs/home/a.berg/miniconda3/envs/api/lib/python3.10/site-packages/spectrum_fundamentals/metrics/similarity.py:239: ConstantInputWarning: An input array is constant; the correlation coefficient is not defined.\n",
      "  scipy.stats.pearsonr(obs, pred)[0] if method == \"pearson\" else scipy.stats.spearmanr(obs, pred)[0]\n"
     ]
    },
    {
     "name": "stdout",
     "output_type": "stream",
     "text": [
      "2024-09-06 15:28:40,725 - INFO - spectrum_fundamentals.metrics.percolator::get_indices_below_fdr Found 33178 (out of 55207) targets below 0.01             FDR using spectral_angle as feature\n",
      "2024-09-06 15:28:40,730 - INFO - spectrum_fundamentals.metrics.percolator::apply_lda_and_get_indices_below_fdr Found 33178 targets and 19496 decoys as input for the LDA model\n",
      "2024-09-06 15:28:41,557 - INFO - spectrum_fundamentals.metrics.percolator::get_indices_below_fdr Found 35579 (out of 55207) targets below 0.01             FDR using lda_scores as feature\n",
      "2024-09-06 15:28:41,693 - INFO - spectrum_fundamentals.metrics.percolator::calc Median absolute error predicted vs observed retention time on targets < 1% FDR: 1.7724386179814395\n"
     ]
    }
   ],
   "source": [
    "# lists to save feature files in order to merge them into one later\n",
    "rescore_files = []\n",
    "original_files = []\n",
    "\n",
    "for library, spectra_file in zip(library_list,mzml_list):\n",
    "    # create output paths for feature files\n",
    "    original_features = percolator_dir / spectra_file.with_suffix(\".original.tab\").name\n",
    "    original_files.append(original_features)\n",
    "    rescore_features = percolator_dir / spectra_file.with_suffix(\".rescore.tab\").name\n",
    "    rescore_files.append(rescore_features)\n",
    "\n",
    "    # generate features for original file \n",
    "    ok.re.generate_features(library=library, search_type='original', output_file=original_features, all_features=False, regression_method='spline')\n",
    "    # generate features for rescore file \n",
    "    ok.re.generate_features(library=library, search_type='rescore', output_file=rescore_features, all_features=False, regression_method='spline')"
   ]
  },
  {
   "cell_type": "markdown",
   "metadata": {},
   "source": [
    "Merge all feature files into one combined original and one combined rescore file."
   ]
  },
  {
   "cell_type": "code",
   "execution_count": 35,
   "metadata": {},
   "outputs": [],
   "source": [
    "merged_rescore = percolator_dir / \"rescore.tab\"\n",
    "ok.re.merge_input(rescore_files, merged_rescore)\n",
    "\n",
    "merged_original = percolator_dir / \"original.tab\"\n",
    "ok.re.merge_input(original_files, merged_original)"
   ]
  },
  {
   "cell_type": "markdown",
   "metadata": {},
   "source": [
    "Rescore with percolator."
   ]
  },
  {
   "cell_type": "code",
   "execution_count": 36,
   "metadata": {},
   "outputs": [
    {
     "name": "stdout",
     "output_type": "stream",
     "text": [
      "------------------------ \u001b[1;94m/usr/share/modules/modulefiles\u001b[0m ------------------------\u001b[m\n",
      "dot  module-git  module-info  modules  null  use.own  \u001b[m\n",
      "\u001b[m\n",
      "----------------------- \u001b[1;94m/cmnfs/data/cluster/modulefiles\u001b[0m ------------------------\u001b[m\n",
      "dotnet/3.1.426  fragpipe/22.0      maxquant/2.4.4.0  percolator/3.6.5           \u001b[m\n",
      "dotnet/8.0.302  maxquant/1.6.1.0   maxquant/2.4.7.0  sage/0.14.7                \u001b[m\n",
      "ENB/search_v1   maxquant/1.6.2.10  maxquant/2.6.3.0  thermorawfileparser/1.4.2  \u001b[m\n",
      "ENB/search_v2   maxquant/2.4.2.0   percolator/3.6.1  thermorawfileparser/1.4.3  \u001b[m\n",
      "\u001b[m\n",
      "Key:\u001b[m\n",
      "\u001b[1;94mmodulepath\u001b[0m  \u001b[m\n",
      "\u001b[K\u001b[?1l\u001b>"
     ]
    }
   ],
   "source": [
    "!module av"
   ]
  },
  {
   "cell_type": "code",
   "execution_count": 37,
   "metadata": {},
   "outputs": [],
   "source": [
    "!module load percolator/3.6.5"
   ]
  },
  {
   "cell_type": "code",
   "execution_count": 38,
   "metadata": {},
   "outputs": [],
   "source": [
    "!module use percolator/3.6.5"
   ]
  },
  {
   "cell_type": "code",
   "execution_count": null,
   "metadata": {},
   "outputs": [],
   "source": [
    "ok.re.rescore_with_percolator(merged_rescore, percolator_dir)\n",
    "ok.re.rescore_with_percolator(merged_original, percolator_dir)"
   ]
  },
  {
   "cell_type": "markdown",
   "metadata": {},
   "source": [
    "# 7. Plot the results"
   ]
  },
  {
   "cell_type": "code",
   "execution_count": null,
   "metadata": {},
   "outputs": [],
   "source": [
    "# Plots path \n",
    "plots_dir = Path('./out/plots')\n",
    "\n",
    "if not os.path.exists(percolator_dir):\n",
    "    os.makedirs(percolator_dir)\n",
    "\n",
    "# Generate histogram of the score distribution for targets and decoys.\n",
    "peptide_decoy_df = pd.read_csv(percolator_dir / 'rescore.percolator.decoy.peptides.txt', sep='\\t')\n",
    "\n",
    "peptide_target_df = pd.read_csv(percolator_dir / 'rescore.percolator.peptides.txt', sep='\\t')\n",
    "\n",
    "display(peptide_decoy_df)\n",
    "\n",
    "ok.pl.plot_score_distribution(peptide_target_df, peptide_decoy_df, level='peptide', filename=plots_dir / \"score_distribution\")"
   ]
  },
  {
   "cell_type": "code",
   "execution_count": null,
   "metadata": {},
   "outputs": [],
   "source": [
    "ok.pl.plot_all(plots_dir)"
   ]
  }
 ],
 "metadata": {
  "kernelspec": {
   "display_name": "Python 3 (ipykernel)",
   "language": "python",
   "name": "python3"
  },
  "language_info": {
   "codemirror_mode": {
    "name": "ipython",
    "version": 3
   },
   "file_extension": ".py",
   "mimetype": "text/x-python",
   "name": "python",
   "nbconvert_exporter": "python",
   "pygments_lexer": "ipython3",
   "version": "3.10.14"
  }
 },
 "nbformat": 4,
 "nbformat_minor": 4
}
